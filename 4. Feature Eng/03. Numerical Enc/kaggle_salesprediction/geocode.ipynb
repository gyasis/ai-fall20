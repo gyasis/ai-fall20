{
 "metadata": {
  "language_info": {
   "codemirror_mode": {
    "name": "ipython",
    "version": 3
   },
   "file_extension": ".py",
   "mimetype": "text/x-python",
   "name": "python",
   "nbconvert_exporter": "python",
   "pygments_lexer": "ipython3",
   "version": "3.8.6-final"
  },
  "orig_nbformat": 2,
  "kernelspec": {
   "name": "python3",
   "display_name": "Python 3",
   "language": "python"
  }
 },
 "nbformat": 4,
 "nbformat_minor": 2,
 "cells": [
  {
   "cell_type": "code",
   "execution_count": 1,
   "metadata": {},
   "outputs": [],
   "source": [
    "%load_ext autotime"
   ]
  },
  {
   "cell_type": "code",
   "execution_count": 2,
   "metadata": {},
   "outputs": [
    {
     "output_type": "stream",
     "name": "stdout",
     "text": [
      "time: 815 ms\n"
     ]
    }
   ],
   "source": [
    "import matplotlib.pyplot as plt \n",
    "import seaborn as sns"
   ]
  },
  {
   "cell_type": "code",
   "execution_count": 59,
   "metadata": {},
   "outputs": [
    {
     "output_type": "stream",
     "name": "stdout",
     "text": [
      "time: 27.1 ms\n"
     ]
    }
   ],
   "source": []
  },
  {
   "cell_type": "code",
   "execution_count": 60,
   "metadata": {},
   "outputs": [
    {
     "output_type": "execute_result",
     "data": {
      "text/plain": [
       "                        shop_name               shop_name_translated  shop_id\n",
       "0   !Якутск Орджоникидзе, 56 фран  ! Yakutsk Ordzhonikidze, 56 Franc        0\n",
       "1   !Якутск ТЦ \"Центральный\" фран       ! Yakutsk TC \"Central\" Franc        1\n",
       "2                Адыгея ТЦ \"Мега\"                   Adygea TC \"Mega\"        2\n",
       "3  Балашиха ТРК \"Октябрь-Киномир\"   Balashikha TRC \"October-Kinomir\"        3\n",
       "4        Волжский ТЦ \"Волга Молл\"         Volzhsky mall \"Volga Mall\"        4"
      ],
      "text/html": "<div>\n<style scoped>\n    .dataframe tbody tr th:only-of-type {\n        vertical-align: middle;\n    }\n\n    .dataframe tbody tr th {\n        vertical-align: top;\n    }\n\n    .dataframe thead th {\n        text-align: right;\n    }\n</style>\n<table border=\"1\" class=\"dataframe\">\n  <thead>\n    <tr style=\"text-align: right;\">\n      <th></th>\n      <th>shop_name</th>\n      <th>shop_name_translated</th>\n      <th>shop_id</th>\n    </tr>\n  </thead>\n  <tbody>\n    <tr>\n      <th>0</th>\n      <td>!Якутск Орджоникидзе, 56 фран</td>\n      <td>! Yakutsk Ordzhonikidze, 56 Franc</td>\n      <td>0</td>\n    </tr>\n    <tr>\n      <th>1</th>\n      <td>!Якутск ТЦ \"Центральный\" фран</td>\n      <td>! Yakutsk TC \"Central\" Franc</td>\n      <td>1</td>\n    </tr>\n    <tr>\n      <th>2</th>\n      <td>Адыгея ТЦ \"Мега\"</td>\n      <td>Adygea TC \"Mega\"</td>\n      <td>2</td>\n    </tr>\n    <tr>\n      <th>3</th>\n      <td>Балашиха ТРК \"Октябрь-Киномир\"</td>\n      <td>Balashikha TRC \"October-Kinomir\"</td>\n      <td>3</td>\n    </tr>\n    <tr>\n      <th>4</th>\n      <td>Волжский ТЦ \"Волга Молл\"</td>\n      <td>Volzhsky mall \"Volga Mall\"</td>\n      <td>4</td>\n    </tr>\n  </tbody>\n</table>\n</div>"
     },
     "metadata": {},
     "execution_count": 60
    },
    {
     "output_type": "stream",
     "name": "stdout",
     "text": [
      "time: 6.14 ms\n"
     ]
    }
   ],
   "source": [
    "shops.head()"
   ]
  },
  {
   "cell_type": "code",
   "execution_count": 61,
   "metadata": {},
   "outputs": [
    {
     "output_type": "execute_result",
     "data": {
      "text/plain": [
       "               city      lat      lng country iso2               admin_name  \\\n",
       "0            Moscow  55.7558  37.6178  Russia   RU                   Moskva   \n",
       "1  Saint Petersburg  59.9500  30.3167  Russia   RU          Sankt-Peterburg   \n",
       "2       Novosibirsk  55.0333  82.9167  Russia   RU   Novosibirskaya Oblast’   \n",
       "3     Yekaterinburg  56.8356  60.6128  Russia   RU    Sverdlovskaya Oblast’   \n",
       "4  Nizhniy Novgorod  56.3269  44.0075  Russia   RU  Nizhegorodskaya Oblast’   \n",
       "\n",
       "   capital  population  population_proper  \n",
       "0  primary  17125000.0         13200000.0  \n",
       "1    admin   5351935.0          5351935.0  \n",
       "2    admin   1602915.0          1602915.0  \n",
       "3    admin   1468833.0          1468833.0  \n",
       "4    admin   1264075.0          1264075.0  "
      ],
      "text/html": "<div>\n<style scoped>\n    .dataframe tbody tr th:only-of-type {\n        vertical-align: middle;\n    }\n\n    .dataframe tbody tr th {\n        vertical-align: top;\n    }\n\n    .dataframe thead th {\n        text-align: right;\n    }\n</style>\n<table border=\"1\" class=\"dataframe\">\n  <thead>\n    <tr style=\"text-align: right;\">\n      <th></th>\n      <th>city</th>\n      <th>lat</th>\n      <th>lng</th>\n      <th>country</th>\n      <th>iso2</th>\n      <th>admin_name</th>\n      <th>capital</th>\n      <th>population</th>\n      <th>population_proper</th>\n    </tr>\n  </thead>\n  <tbody>\n    <tr>\n      <th>0</th>\n      <td>Moscow</td>\n      <td>55.7558</td>\n      <td>37.6178</td>\n      <td>Russia</td>\n      <td>RU</td>\n      <td>Moskva</td>\n      <td>primary</td>\n      <td>17125000.0</td>\n      <td>13200000.0</td>\n    </tr>\n    <tr>\n      <th>1</th>\n      <td>Saint Petersburg</td>\n      <td>59.9500</td>\n      <td>30.3167</td>\n      <td>Russia</td>\n      <td>RU</td>\n      <td>Sankt-Peterburg</td>\n      <td>admin</td>\n      <td>5351935.0</td>\n      <td>5351935.0</td>\n    </tr>\n    <tr>\n      <th>2</th>\n      <td>Novosibirsk</td>\n      <td>55.0333</td>\n      <td>82.9167</td>\n      <td>Russia</td>\n      <td>RU</td>\n      <td>Novosibirskaya Oblast’</td>\n      <td>admin</td>\n      <td>1602915.0</td>\n      <td>1602915.0</td>\n    </tr>\n    <tr>\n      <th>3</th>\n      <td>Yekaterinburg</td>\n      <td>56.8356</td>\n      <td>60.6128</td>\n      <td>Russia</td>\n      <td>RU</td>\n      <td>Sverdlovskaya Oblast’</td>\n      <td>admin</td>\n      <td>1468833.0</td>\n      <td>1468833.0</td>\n    </tr>\n    <tr>\n      <th>4</th>\n      <td>Nizhniy Novgorod</td>\n      <td>56.3269</td>\n      <td>44.0075</td>\n      <td>Russia</td>\n      <td>RU</td>\n      <td>Nizhegorodskaya Oblast’</td>\n      <td>admin</td>\n      <td>1264075.0</td>\n      <td>1264075.0</td>\n    </tr>\n  </tbody>\n</table>\n</div>"
     },
     "metadata": {},
     "execution_count": 61
    },
    {
     "output_type": "stream",
     "name": "stdout",
     "text": [
      "time: 11.6 ms\n"
     ]
    }
   ],
   "source": [
    "cities.head()"
   ]
  },
  {
   "cell_type": "code",
   "execution_count": 28,
   "metadata": {},
   "outputs": [
    {
     "output_type": "execute_result",
     "data": {
      "text/plain": [
       "               city      lat      lng country iso2               admin_name  \\\n",
       "0            Moscow  55.7558  37.6178  Russia   RU                   Moskva   \n",
       "1  Saint Petersburg  59.9500  30.3167  Russia   RU          Sankt-Peterburg   \n",
       "2       Novosibirsk  55.0333  82.9167  Russia   RU   Novosibirskaya Oblast’   \n",
       "3     Yekaterinburg  56.8356  60.6128  Russia   RU    Sverdlovskaya Oblast’   \n",
       "4  Nizhniy Novgorod  56.3269  44.0075  Russia   RU  Nizhegorodskaya Oblast’   \n",
       "\n",
       "   capital  population  population_proper  \n",
       "0  primary  17125000.0         13200000.0  \n",
       "1    admin   5351935.0          5351935.0  \n",
       "2    admin   1602915.0          1602915.0  \n",
       "3    admin   1468833.0          1468833.0  \n",
       "4    admin   1264075.0          1264075.0  "
      ],
      "text/html": "<div>\n<style scoped>\n    .dataframe tbody tr th:only-of-type {\n        vertical-align: middle;\n    }\n\n    .dataframe tbody tr th {\n        vertical-align: top;\n    }\n\n    .dataframe thead th {\n        text-align: right;\n    }\n</style>\n<table border=\"1\" class=\"dataframe\">\n  <thead>\n    <tr style=\"text-align: right;\">\n      <th></th>\n      <th>city</th>\n      <th>lat</th>\n      <th>lng</th>\n      <th>country</th>\n      <th>iso2</th>\n      <th>admin_name</th>\n      <th>capital</th>\n      <th>population</th>\n      <th>population_proper</th>\n    </tr>\n  </thead>\n  <tbody>\n    <tr>\n      <th>0</th>\n      <td>Moscow</td>\n      <td>55.7558</td>\n      <td>37.6178</td>\n      <td>Russia</td>\n      <td>RU</td>\n      <td>Moskva</td>\n      <td>primary</td>\n      <td>17125000.0</td>\n      <td>13200000.0</td>\n    </tr>\n    <tr>\n      <th>1</th>\n      <td>Saint Petersburg</td>\n      <td>59.9500</td>\n      <td>30.3167</td>\n      <td>Russia</td>\n      <td>RU</td>\n      <td>Sankt-Peterburg</td>\n      <td>admin</td>\n      <td>5351935.0</td>\n      <td>5351935.0</td>\n    </tr>\n    <tr>\n      <th>2</th>\n      <td>Novosibirsk</td>\n      <td>55.0333</td>\n      <td>82.9167</td>\n      <td>Russia</td>\n      <td>RU</td>\n      <td>Novosibirskaya Oblast’</td>\n      <td>admin</td>\n      <td>1602915.0</td>\n      <td>1602915.0</td>\n    </tr>\n    <tr>\n      <th>3</th>\n      <td>Yekaterinburg</td>\n      <td>56.8356</td>\n      <td>60.6128</td>\n      <td>Russia</td>\n      <td>RU</td>\n      <td>Sverdlovskaya Oblast’</td>\n      <td>admin</td>\n      <td>1468833.0</td>\n      <td>1468833.0</td>\n    </tr>\n    <tr>\n      <th>4</th>\n      <td>Nizhniy Novgorod</td>\n      <td>56.3269</td>\n      <td>44.0075</td>\n      <td>Russia</td>\n      <td>RU</td>\n      <td>Nizhegorodskaya Oblast’</td>\n      <td>admin</td>\n      <td>1264075.0</td>\n      <td>1264075.0</td>\n    </tr>\n  </tbody>\n</table>\n</div>"
     },
     "metadata": {},
     "execution_count": 28
    },
    {
     "output_type": "stream",
     "name": "stdout",
     "text": [
      "time: 10.5 ms\n"
     ]
    }
   ],
   "source": [
    "city2.head()"
   ]
  },
  {
   "cell_type": "code",
   "execution_count": 62,
   "metadata": {},
   "outputs": [
    {
     "output_type": "stream",
     "name": "stdout",
     "text": [
      "time: 2.2 ms\n"
     ]
    }
   ],
   "source": [
    "city = city2.city.to_list()\n"
   ]
  },
  {
   "cell_type": "code",
   "execution_count": 63,
   "metadata": {},
   "outputs": [
    {
     "output_type": "execute_result",
     "data": {
      "text/plain": [
       "[('Vologda', 90),\n",
       " ('Parma', 72),\n",
       " ('Artëm', 68),\n",
       " ('Tara', 68),\n",
       " ('Volgograd', 64)]"
      ]
     },
     "metadata": {},
     "execution_count": 63
    },
    {
     "output_type": "stream",
     "name": "stdout",
     "text": [
      "time: 32.4 ms\n"
     ]
    }
   ],
   "source": [
    "from fuzzywuzzy import fuzz\n",
    "from fuzzywuzzy import process\n",
    "\n",
    "process.extract(shops.shop_name_translated[5], city)\n",
    "\n"
   ]
  },
  {
   "cell_type": "code",
   "execution_count": 64,
   "metadata": {},
   "outputs": [
    {
     "output_type": "stream",
     "name": "stdout",
     "text": [
      "time: 3.56 s\n"
     ]
    }
   ],
   "source": [
    "def cityMatch(x,all ):\n",
    "    if(all == True):\n",
    "        t = process.extract(x, city)\n",
    "    else:\n",
    "        t = process.extractOne(x, city)\n",
    "    return t\n",
    "\n",
    "\n",
    "shops['realcity'] = shops.shop_name_translated.apply(lambda x: cityMatch(x, True))\n",
    "shops['final'] = shops.shop_name_translated.apply(lambda x: cityMatch(x, False))\n",
    "shops.final = shops.final.apply(lambda x: x[0])"
   ]
  },
  {
   "cell_type": "code",
   "execution_count": 65,
   "metadata": {},
   "outputs": [
    {
     "output_type": "execute_result",
     "data": {
      "text/plain": [
       "                                          shop_name  \\\n",
       "0                     !Якутск Орджоникидзе, 56 фран   \n",
       "1                     !Якутск ТЦ \"Центральный\" фран   \n",
       "2                                  Адыгея ТЦ \"Мега\"   \n",
       "3                    Балашиха ТРК \"Октябрь-Киномир\"   \n",
       "4                          Волжский ТЦ \"Волга Молл\"   \n",
       "5                            Вологда ТРЦ \"Мармелад\"   \n",
       "6                        Воронеж (Плехановская, 13)   \n",
       "7                            Воронеж ТРЦ \"Максимир\"   \n",
       "8                      Воронеж ТРЦ Сити-Парк \"Град\"   \n",
       "9                                 Выездная Торговля   \n",
       "10                       Жуковский ул. Чкалова 39м?   \n",
       "11                       Жуковский ул. Чкалова 39м²   \n",
       "12                              Интернет-магазин ЧС   \n",
       "13                              Казань ТЦ \"Бехетле\"   \n",
       "14                          Казань ТЦ \"ПаркХаус\" II   \n",
       "15                             Калуга ТРЦ \"XXI век\"   \n",
       "16                                 Коломна ТЦ \"Рио\"   \n",
       "17                    Красноярск ТЦ \"Взлетка Плаза\"   \n",
       "18                             Красноярск ТЦ \"Июнь\"   \n",
       "19                            Курск ТЦ \"Пушкинский\"   \n",
       "20                              Москва \"Распродажа\"   \n",
       "21                           Москва МТРЦ \"Афи Молл\"   \n",
       "22                               Москва Магазин С21   \n",
       "23                 Москва ТК \"Буденовский\" (пав.А2)   \n",
       "24                 Москва ТК \"Буденовский\" (пав.К7)   \n",
       "25                              Москва ТРК \"Атриум\"   \n",
       "26                      Москва ТЦ \"Ареал\" (Беляево)   \n",
       "27                   Москва ТЦ \"МЕГА Белая Дача II\"   \n",
       "28                  Москва ТЦ \"МЕГА Теплый Стан\" II   \n",
       "29               Москва ТЦ \"Новый век\" (Новокосино)   \n",
       "30                           Москва ТЦ \"Перловский\"   \n",
       "31                          Москва ТЦ \"Семеновский\"   \n",
       "32                       Москва ТЦ \"Серебряный Дом\"   \n",
       "33                                Мытищи ТРК \"XL-3\"   \n",
       "34                             Н.Новгород ТРЦ \"РИО\"   \n",
       "35                      Н.Новгород ТРЦ \"Фантастика\"   \n",
       "36            Новосибирск ТРЦ \"Галерея Новосибирск\"   \n",
       "37                            Новосибирск ТЦ \"Мега\"   \n",
       "38                                   Омск ТЦ \"Мега\"   \n",
       "39            РостовНаДону ТРК \"Мегацентр Горизонт\"   \n",
       "40  РостовНаДону ТРК \"Мегацентр Горизонт\" Островной   \n",
       "41                           РостовНаДону ТЦ \"Мега\"   \n",
       "42                           СПб ТК \"Невский Центр\"   \n",
       "43                                  СПб ТК \"Сенная\"   \n",
       "44                              Самара ТЦ \"Мелодия\"   \n",
       "45                             Самара ТЦ \"ПаркХаус\"   \n",
       "46                            Сергиев Посад ТЦ \"7Я\"   \n",
       "47                           Сургут ТРЦ \"Сити Молл\"   \n",
       "48                     Томск ТРЦ \"Изумрудный Город\"   \n",
       "49                            Тюмень ТРЦ \"Кристалл\"   \n",
       "50                               Тюмень ТЦ \"Гудвин\"   \n",
       "51                        Тюмень ТЦ \"Зеленый Берег\"   \n",
       "52                             Уфа ТК \"Центральный\"   \n",
       "53                                 Уфа ТЦ \"Семья\" 2   \n",
       "54                                  Химки ТЦ \"Мега\"   \n",
       "55                         Цифровой склад 1С-Онлайн   \n",
       "56                             Чехов ТРЦ \"Карнавал\"   \n",
       "57                          Якутск Орджоникидзе, 56   \n",
       "58                          Якутск ТЦ \"Центральный\"   \n",
       "59                           Ярославль ТЦ \"Альтаир\"   \n",
       "\n",
       "                              shop_name_translated  shop_id  \\\n",
       "0                ! Yakutsk Ordzhonikidze, 56 Franc        0   \n",
       "1                     ! Yakutsk TC \"Central\" Franc        1   \n",
       "2                                 Adygea TC \"Mega\"        2   \n",
       "3                 Balashikha TRC \"October-Kinomir\"        3   \n",
       "4                       Volzhsky mall \"Volga Mall\"        4   \n",
       "5                          Vologda SEC \"Marmalade\"        5   \n",
       "6                    Voronezh (Plekhanovskaya, 13)        6   \n",
       "7                          Voronezh SEC \"Maksimir\"        7   \n",
       "8      Voronezh shopping center City Park \"Castle\"        8   \n",
       "9                                  Itinerant trade        9   \n",
       "10                  Zhukovsky Street. Chkalov 39m?       10   \n",
       "11                  Zhukovsky Street. Chkalov 39m²       11   \n",
       "12                         Shop Online Emergencies       12   \n",
       "13                 Kazan shopping center \"Behetle\"       13   \n",
       "14        Kazan shopping mall of \"Parkhouse\" II of       14   \n",
       "15                        Kaluga SEC \"XXI Century\"       15   \n",
       "16                   Kolomna shopping center \"Rio\"       16   \n",
       "17                  Krasnoyarsk TC \"Vzletka Plaza\"       17   \n",
       "18                           Krasnoyarsk SC \"June\"       18   \n",
       "19                              Kursk TC \"Pushkin\"       19   \n",
       "20                                   Moscow \"Sale\"       20   \n",
       "21                         Moscow MTRTS \"Afi Mall\"       21   \n",
       "22                                Moscow C21 Store       22   \n",
       "23                 Moscow TK \"Budenovsky\" (pav.A2)       23   \n",
       "24                 Moscow TK \"Budenovsky\" (pav.K7)       24   \n",
       "25                             Moscow SEC \"Atrium\"       25   \n",
       "26          Moscow shopping mall \"area\" (Belyaevo)       26   \n",
       "27   Moscow shopping center \"MEGA Belaya Dacha II\"       27   \n",
       "28  Moscow shopping center \"MEGA Teply Stan\" II of       28   \n",
       "29   Moscow shopping center \"New Age\" (Novokosino)       29   \n",
       "30             Moscow shopping center \"Perlovskiy\"       30   \n",
       "31               Moscow shopping center \"Semyonov\"       31   \n",
       "32           Moscow shopping center \"Silver House\"       32   \n",
       "33                            Mytishchi TRK \"XL-3\"       33   \n",
       "34                       Nizhny Novgorod SEC \"RIO\"       34   \n",
       "35                   Nizhny Novgorod SEC \"Fantasy\"       35   \n",
       "36           Novosibirsk SEC \"Gallery Novosibirsk\"       36   \n",
       "37              Novosibirsk shopping center \"Mega\"       37   \n",
       "38                                  Omsk TC \"Mega\"       38   \n",
       "39           RostovNaDonu TRC \"Megacenter Horizon\"       39   \n",
       "40    RostovNaDonu TRC \"Megacenter Horizon\" Island       40   \n",
       "41                          RostovNaDonu TC \"Mega\"       41   \n",
       "42               St. Petersburg TK \"Nevsky Center\"       42   \n",
       "43                     St. Petersburg TK \"Sennaya\"       43   \n",
       "44                            Samara mall \"Melody\"       44   \n",
       "45                      Samara mall of \"Parkhouse\"       45   \n",
       "46                          Sergiev Posad TC \"7Ya\"       46   \n",
       "47                          Surgut SEC \"City Mall\"       47   \n",
       "48                        Tomsk SEC \"Emerald City\"       48   \n",
       "49                            Tyumen SEC \"Crystal\"       49   \n",
       "50                             Tyumen SC \"Goodwin\"       50   \n",
       "51                         Tyumen SC \"Green Coast\"       51   \n",
       "52                                Ufa TC \"Central\"       52   \n",
       "53                               Ufa TC \"Family\" 2       53   \n",
       "54                   Khimki shopping center \"Mega\"       54   \n",
       "55                         Digital storage 1C-line       55   \n",
       "56                           Czechs SEC \"Carnival\"       56   \n",
       "57                       Yakutsk Ordzhonikidze, 56       57   \n",
       "58                            Yakutsk TC \"Central\"       58   \n",
       "59              Yaroslavl shopping center \"Altair\"       59   \n",
       "\n",
       "                                             realcity             final  \n",
       "0   [(Yakutsk, 90), (Kursk, 72), (Rezh, 68), (Irku...           Yakutsk  \n",
       "1   [(Yakutsk, 90), (Kursk, 72), (Inta, 68), (Irku...           Yakutsk  \n",
       "2   [(Gay, 60), (Adygeysk, 56), (Yurga, 54), (Nady...               Gay  \n",
       "3   [(Balashikha, 90), (Klin, 68), (Balashov, 68),...        Balashikha  \n",
       "4   [(Volzhsk, 90), (Volzhskiy, 80), (Luga, 68), (...           Volzhsk  \n",
       "5   [(Vologda, 90), (Parma, 72), (Artëm, 68), (Tar...           Vologda  \n",
       "6   [(Voronezh, 90), (Kanevskaya, 72), (Omsk, 68),...          Voronezh  \n",
       "7   [(Voronezh, 90), (Marks, 72), (Rezh, 68), (Orë...          Voronezh  \n",
       "8   [(Voronezh, 90), (Novovoronezh, 64), (Grayvoro...          Voronezh  \n",
       "9   [(Neman, 72), (Tara, 68), (Nazran, 60), (Nurla...             Neman  \n",
       "10  [(Zhukovskiy, 81), (Omsk, 68), (Orsk, 68), (Az...        Zhukovskiy  \n",
       "11  [(Zhukovskiy, 81), (Omsk, 68), (Orsk, 68), (Az...        Zhukovskiy  \n",
       "12  [(Klin, 68), (Engels, 60), (Megion, 60), (Uni,...              Klin  \n",
       "13  [(Kazan, 90), (Tver, 68), (Ryazan, 60), (Nazra...             Kazan  \n",
       "14  [(Kazan, 90), (Ryazan, 60), (Kanash, 60), (Zai...             Kazan  \n",
       "15  [(Kaluga, 90), (Luga, 90), (Uray, 68), (Ufa, 6...            Kaluga  \n",
       "16  [(Kolomna, 90), (Tver, 68), (Asha, 68), (Lobny...           Kolomna  \n",
       "17  [(Krasnoyarsk, 90), (Krasnodar, 80), (Noyabrsk...       Krasnoyarsk  \n",
       "18  [(Krasnoyarsk, 90), (Krasnodar, 80), (Noyabrsk...       Krasnoyarsk  \n",
       "19  [(Kursk, 90), (Pushkino, 84), (Orsk, 68), (Kli...             Kursk  \n",
       "20  [(Moscow, 90), (Salsk, 54), (Shali, 54), (Tosn...            Moscow  \n",
       "21  [(Moscow, 90), (Zima, 68), (Tosno, 54), (Marks...            Moscow  \n",
       "22  [(Moscow, 90), (Orël, 60), (Bor, 60), (Tosno, ...            Moscow  \n",
       "23  [(Moscow, 90), (Budënnovsk, 80), (Dedovsk, 77)...            Moscow  \n",
       "24  [(Moscow, 90), (Budënnovsk, 80), (Dedovsk, 77)...            Moscow  \n",
       "25  [(Moscow, 90), (Tosno, 54), (Argun, 54), (Osyn...            Moscow  \n",
       "26  [(Moscow, 90), (Laptëvo, 60), (Vel’ye, 60), (B...            Moscow  \n",
       "27  [(Moscow, 90), (Belaya Kalitva, 86), (Belaya G...            Moscow  \n",
       "28  [(Moscow, 90), (Elista, 60), (Labytnangi, 54),...            Moscow  \n",
       "29  [(Moscow, 90), (Kolpino, 64), (Korkino, 64), (...            Moscow  \n",
       "30  [(Moscow, 90), (Petrovsk, 79), (Serov, 72), (B...            Moscow  \n",
       "31  [(Moscow, 90), (Tver, 68), (Perm, 64), (Semëno...            Moscow  \n",
       "32  [(Moscow, 90), (Semënov, 57), (Tosno, 54), (Gu...            Moscow  \n",
       "33  [(Mytishchi, 90), (Sochi, 72), (Chita, 72), (M...         Mytishchi  \n",
       "34  [(Nizhniy Novgorod, 86), (Velikiy Novgorod, 86...  Nizhniy Novgorod  \n",
       "35  [(Nizhniy Novgorod, 86), (Velikiy Novgorod, 86...  Nizhniy Novgorod  \n",
       "36  [(Novosibirsk, 90), (Birsk, 90), (Biysk, 72), ...       Novosibirsk  \n",
       "37  [(Novosibirsk, 90), (Birsk, 90), (Biysk, 72), ...       Novosibirsk  \n",
       "38  [(Omsk, 90), (Tomsk, 72), (Gay, 72), (Orsk, 68...              Omsk  \n",
       "39  [(Rostov, 90), (Rostov, 90), (Reutov, 60), (Ks...            Rostov  \n",
       "40  [(Rostov, 90), (Rostov, 90), (Reutov, 60), (Ks...            Rostov  \n",
       "41  [(Rostov, 90), (Rostov, 90), (Reutov, 60), (Ks...            Rostov  \n",
       "42  [(Saint Petersburg, 86), (Tver, 68), (Kanevska...  Saint Petersburg  \n",
       "43  [(Saint Petersburg, 86), (Tver, 68), (Surgut, ...  Saint Petersburg  \n",
       "44  [(Samara, 90), (Tara, 68), (Arzamas, 64), (Sha...            Samara  \n",
       "45  [(Samara, 90), (Tara, 68), (Arzamas, 64), (Gus...            Samara  \n",
       "46  [(Sergiyev Posad, 86), (Georgiyevsk, 58), (Pyt...    Sergiyev Posad  \n",
       "47  [(Surgut, 90), (Chita, 54), (Yurga, 54), (Argu...            Surgut  \n",
       "48  [(Omsk, 90), (Tomsk, 90), (Orsk, 68), (Orël, 6...              Omsk  \n",
       "49  [(Tyumen, 90), (Shali, 60), (Tuapse, 57), (Ros...            Tyumen  \n",
       "50  [(Tyumen, 90), (Lensk, 54), (Kamen’-na-Obi, 52...            Tyumen  \n",
       "51  [(Tyumen, 90), (Lensk, 54), (Pechora, 51), (Mt...            Tyumen  \n",
       "52  [(Ufa, 90), (Tara, 68), (Inta, 68), (Orël, 60)...               Ufa  \n",
       "53  [(Ufa, 90), (Artëm, 45), (Gatchina, 45), (Ust’...               Ufa  \n",
       "54  [(Khimki, 90), (Tver, 68), (Asha, 64), (Miass,...            Khimki  \n",
       "55  [(Klin, 68), (Tara, 68), (Inta, 68), (Orël, 60...              Klin  \n",
       "56  [(Barnaul, 64), (Uni, 60), (Sarov, 54), (Revda...           Barnaul  \n",
       "57  [(Yakutsk, 90), (Kursk, 72), (Rezh, 68), (Irku...           Yakutsk  \n",
       "58  [(Yakutsk, 90), (Kursk, 72), (Tara, 68), (Inta...           Yakutsk  \n",
       "59  [(Yaroslavl, 90), (Roslavl, 90), (Alagir, 75),...         Yaroslavl  "
      ],
      "text/html": "<div>\n<style scoped>\n    .dataframe tbody tr th:only-of-type {\n        vertical-align: middle;\n    }\n\n    .dataframe tbody tr th {\n        vertical-align: top;\n    }\n\n    .dataframe thead th {\n        text-align: right;\n    }\n</style>\n<table border=\"1\" class=\"dataframe\">\n  <thead>\n    <tr style=\"text-align: right;\">\n      <th></th>\n      <th>shop_name</th>\n      <th>shop_name_translated</th>\n      <th>shop_id</th>\n      <th>realcity</th>\n      <th>final</th>\n    </tr>\n  </thead>\n  <tbody>\n    <tr>\n      <th>0</th>\n      <td>!Якутск Орджоникидзе, 56 фран</td>\n      <td>! Yakutsk Ordzhonikidze, 56 Franc</td>\n      <td>0</td>\n      <td>[(Yakutsk, 90), (Kursk, 72), (Rezh, 68), (Irku...</td>\n      <td>Yakutsk</td>\n    </tr>\n    <tr>\n      <th>1</th>\n      <td>!Якутск ТЦ \"Центральный\" фран</td>\n      <td>! Yakutsk TC \"Central\" Franc</td>\n      <td>1</td>\n      <td>[(Yakutsk, 90), (Kursk, 72), (Inta, 68), (Irku...</td>\n      <td>Yakutsk</td>\n    </tr>\n    <tr>\n      <th>2</th>\n      <td>Адыгея ТЦ \"Мега\"</td>\n      <td>Adygea TC \"Mega\"</td>\n      <td>2</td>\n      <td>[(Gay, 60), (Adygeysk, 56), (Yurga, 54), (Nady...</td>\n      <td>Gay</td>\n    </tr>\n    <tr>\n      <th>3</th>\n      <td>Балашиха ТРК \"Октябрь-Киномир\"</td>\n      <td>Balashikha TRC \"October-Kinomir\"</td>\n      <td>3</td>\n      <td>[(Balashikha, 90), (Klin, 68), (Balashov, 68),...</td>\n      <td>Balashikha</td>\n    </tr>\n    <tr>\n      <th>4</th>\n      <td>Волжский ТЦ \"Волга Молл\"</td>\n      <td>Volzhsky mall \"Volga Mall\"</td>\n      <td>4</td>\n      <td>[(Volzhsk, 90), (Volzhskiy, 80), (Luga, 68), (...</td>\n      <td>Volzhsk</td>\n    </tr>\n    <tr>\n      <th>5</th>\n      <td>Вологда ТРЦ \"Мармелад\"</td>\n      <td>Vologda SEC \"Marmalade\"</td>\n      <td>5</td>\n      <td>[(Vologda, 90), (Parma, 72), (Artëm, 68), (Tar...</td>\n      <td>Vologda</td>\n    </tr>\n    <tr>\n      <th>6</th>\n      <td>Воронеж (Плехановская, 13)</td>\n      <td>Voronezh (Plekhanovskaya, 13)</td>\n      <td>6</td>\n      <td>[(Voronezh, 90), (Kanevskaya, 72), (Omsk, 68),...</td>\n      <td>Voronezh</td>\n    </tr>\n    <tr>\n      <th>7</th>\n      <td>Воронеж ТРЦ \"Максимир\"</td>\n      <td>Voronezh SEC \"Maksimir\"</td>\n      <td>7</td>\n      <td>[(Voronezh, 90), (Marks, 72), (Rezh, 68), (Orë...</td>\n      <td>Voronezh</td>\n    </tr>\n    <tr>\n      <th>8</th>\n      <td>Воронеж ТРЦ Сити-Парк \"Град\"</td>\n      <td>Voronezh shopping center City Park \"Castle\"</td>\n      <td>8</td>\n      <td>[(Voronezh, 90), (Novovoronezh, 64), (Grayvoro...</td>\n      <td>Voronezh</td>\n    </tr>\n    <tr>\n      <th>9</th>\n      <td>Выездная Торговля</td>\n      <td>Itinerant trade</td>\n      <td>9</td>\n      <td>[(Neman, 72), (Tara, 68), (Nazran, 60), (Nurla...</td>\n      <td>Neman</td>\n    </tr>\n    <tr>\n      <th>10</th>\n      <td>Жуковский ул. Чкалова 39м?</td>\n      <td>Zhukovsky Street. Chkalov 39m?</td>\n      <td>10</td>\n      <td>[(Zhukovskiy, 81), (Omsk, 68), (Orsk, 68), (Az...</td>\n      <td>Zhukovskiy</td>\n    </tr>\n    <tr>\n      <th>11</th>\n      <td>Жуковский ул. Чкалова 39м²</td>\n      <td>Zhukovsky Street. Chkalov 39m²</td>\n      <td>11</td>\n      <td>[(Zhukovskiy, 81), (Omsk, 68), (Orsk, 68), (Az...</td>\n      <td>Zhukovskiy</td>\n    </tr>\n    <tr>\n      <th>12</th>\n      <td>Интернет-магазин ЧС</td>\n      <td>Shop Online Emergencies</td>\n      <td>12</td>\n      <td>[(Klin, 68), (Engels, 60), (Megion, 60), (Uni,...</td>\n      <td>Klin</td>\n    </tr>\n    <tr>\n      <th>13</th>\n      <td>Казань ТЦ \"Бехетле\"</td>\n      <td>Kazan shopping center \"Behetle\"</td>\n      <td>13</td>\n      <td>[(Kazan, 90), (Tver, 68), (Ryazan, 60), (Nazra...</td>\n      <td>Kazan</td>\n    </tr>\n    <tr>\n      <th>14</th>\n      <td>Казань ТЦ \"ПаркХаус\" II</td>\n      <td>Kazan shopping mall of \"Parkhouse\" II of</td>\n      <td>14</td>\n      <td>[(Kazan, 90), (Ryazan, 60), (Kanash, 60), (Zai...</td>\n      <td>Kazan</td>\n    </tr>\n    <tr>\n      <th>15</th>\n      <td>Калуга ТРЦ \"XXI век\"</td>\n      <td>Kaluga SEC \"XXI Century\"</td>\n      <td>15</td>\n      <td>[(Kaluga, 90), (Luga, 90), (Uray, 68), (Ufa, 6...</td>\n      <td>Kaluga</td>\n    </tr>\n    <tr>\n      <th>16</th>\n      <td>Коломна ТЦ \"Рио\"</td>\n      <td>Kolomna shopping center \"Rio\"</td>\n      <td>16</td>\n      <td>[(Kolomna, 90), (Tver, 68), (Asha, 68), (Lobny...</td>\n      <td>Kolomna</td>\n    </tr>\n    <tr>\n      <th>17</th>\n      <td>Красноярск ТЦ \"Взлетка Плаза\"</td>\n      <td>Krasnoyarsk TC \"Vzletka Plaza\"</td>\n      <td>17</td>\n      <td>[(Krasnoyarsk, 90), (Krasnodar, 80), (Noyabrsk...</td>\n      <td>Krasnoyarsk</td>\n    </tr>\n    <tr>\n      <th>18</th>\n      <td>Красноярск ТЦ \"Июнь\"</td>\n      <td>Krasnoyarsk SC \"June\"</td>\n      <td>18</td>\n      <td>[(Krasnoyarsk, 90), (Krasnodar, 80), (Noyabrsk...</td>\n      <td>Krasnoyarsk</td>\n    </tr>\n    <tr>\n      <th>19</th>\n      <td>Курск ТЦ \"Пушкинский\"</td>\n      <td>Kursk TC \"Pushkin\"</td>\n      <td>19</td>\n      <td>[(Kursk, 90), (Pushkino, 84), (Orsk, 68), (Kli...</td>\n      <td>Kursk</td>\n    </tr>\n    <tr>\n      <th>20</th>\n      <td>Москва \"Распродажа\"</td>\n      <td>Moscow \"Sale\"</td>\n      <td>20</td>\n      <td>[(Moscow, 90), (Salsk, 54), (Shali, 54), (Tosn...</td>\n      <td>Moscow</td>\n    </tr>\n    <tr>\n      <th>21</th>\n      <td>Москва МТРЦ \"Афи Молл\"</td>\n      <td>Moscow MTRTS \"Afi Mall\"</td>\n      <td>21</td>\n      <td>[(Moscow, 90), (Zima, 68), (Tosno, 54), (Marks...</td>\n      <td>Moscow</td>\n    </tr>\n    <tr>\n      <th>22</th>\n      <td>Москва Магазин С21</td>\n      <td>Moscow C21 Store</td>\n      <td>22</td>\n      <td>[(Moscow, 90), (Orël, 60), (Bor, 60), (Tosno, ...</td>\n      <td>Moscow</td>\n    </tr>\n    <tr>\n      <th>23</th>\n      <td>Москва ТК \"Буденовский\" (пав.А2)</td>\n      <td>Moscow TK \"Budenovsky\" (pav.A2)</td>\n      <td>23</td>\n      <td>[(Moscow, 90), (Budënnovsk, 80), (Dedovsk, 77)...</td>\n      <td>Moscow</td>\n    </tr>\n    <tr>\n      <th>24</th>\n      <td>Москва ТК \"Буденовский\" (пав.К7)</td>\n      <td>Moscow TK \"Budenovsky\" (pav.K7)</td>\n      <td>24</td>\n      <td>[(Moscow, 90), (Budënnovsk, 80), (Dedovsk, 77)...</td>\n      <td>Moscow</td>\n    </tr>\n    <tr>\n      <th>25</th>\n      <td>Москва ТРК \"Атриум\"</td>\n      <td>Moscow SEC \"Atrium\"</td>\n      <td>25</td>\n      <td>[(Moscow, 90), (Tosno, 54), (Argun, 54), (Osyn...</td>\n      <td>Moscow</td>\n    </tr>\n    <tr>\n      <th>26</th>\n      <td>Москва ТЦ \"Ареал\" (Беляево)</td>\n      <td>Moscow shopping mall \"area\" (Belyaevo)</td>\n      <td>26</td>\n      <td>[(Moscow, 90), (Laptëvo, 60), (Vel’ye, 60), (B...</td>\n      <td>Moscow</td>\n    </tr>\n    <tr>\n      <th>27</th>\n      <td>Москва ТЦ \"МЕГА Белая Дача II\"</td>\n      <td>Moscow shopping center \"MEGA Belaya Dacha II\"</td>\n      <td>27</td>\n      <td>[(Moscow, 90), (Belaya Kalitva, 86), (Belaya G...</td>\n      <td>Moscow</td>\n    </tr>\n    <tr>\n      <th>28</th>\n      <td>Москва ТЦ \"МЕГА Теплый Стан\" II</td>\n      <td>Moscow shopping center \"MEGA Teply Stan\" II of</td>\n      <td>28</td>\n      <td>[(Moscow, 90), (Elista, 60), (Labytnangi, 54),...</td>\n      <td>Moscow</td>\n    </tr>\n    <tr>\n      <th>29</th>\n      <td>Москва ТЦ \"Новый век\" (Новокосино)</td>\n      <td>Moscow shopping center \"New Age\" (Novokosino)</td>\n      <td>29</td>\n      <td>[(Moscow, 90), (Kolpino, 64), (Korkino, 64), (...</td>\n      <td>Moscow</td>\n    </tr>\n    <tr>\n      <th>30</th>\n      <td>Москва ТЦ \"Перловский\"</td>\n      <td>Moscow shopping center \"Perlovskiy\"</td>\n      <td>30</td>\n      <td>[(Moscow, 90), (Petrovsk, 79), (Serov, 72), (B...</td>\n      <td>Moscow</td>\n    </tr>\n    <tr>\n      <th>31</th>\n      <td>Москва ТЦ \"Семеновский\"</td>\n      <td>Moscow shopping center \"Semyonov\"</td>\n      <td>31</td>\n      <td>[(Moscow, 90), (Tver, 68), (Perm, 64), (Semëno...</td>\n      <td>Moscow</td>\n    </tr>\n    <tr>\n      <th>32</th>\n      <td>Москва ТЦ \"Серебряный Дом\"</td>\n      <td>Moscow shopping center \"Silver House\"</td>\n      <td>32</td>\n      <td>[(Moscow, 90), (Semënov, 57), (Tosno, 54), (Gu...</td>\n      <td>Moscow</td>\n    </tr>\n    <tr>\n      <th>33</th>\n      <td>Мытищи ТРК \"XL-3\"</td>\n      <td>Mytishchi TRK \"XL-3\"</td>\n      <td>33</td>\n      <td>[(Mytishchi, 90), (Sochi, 72), (Chita, 72), (M...</td>\n      <td>Mytishchi</td>\n    </tr>\n    <tr>\n      <th>34</th>\n      <td>Н.Новгород ТРЦ \"РИО\"</td>\n      <td>Nizhny Novgorod SEC \"RIO\"</td>\n      <td>34</td>\n      <td>[(Nizhniy Novgorod, 86), (Velikiy Novgorod, 86...</td>\n      <td>Nizhniy Novgorod</td>\n    </tr>\n    <tr>\n      <th>35</th>\n      <td>Н.Новгород ТРЦ \"Фантастика\"</td>\n      <td>Nizhny Novgorod SEC \"Fantasy\"</td>\n      <td>35</td>\n      <td>[(Nizhniy Novgorod, 86), (Velikiy Novgorod, 86...</td>\n      <td>Nizhniy Novgorod</td>\n    </tr>\n    <tr>\n      <th>36</th>\n      <td>Новосибирск ТРЦ \"Галерея Новосибирск\"</td>\n      <td>Novosibirsk SEC \"Gallery Novosibirsk\"</td>\n      <td>36</td>\n      <td>[(Novosibirsk, 90), (Birsk, 90), (Biysk, 72), ...</td>\n      <td>Novosibirsk</td>\n    </tr>\n    <tr>\n      <th>37</th>\n      <td>Новосибирск ТЦ \"Мега\"</td>\n      <td>Novosibirsk shopping center \"Mega\"</td>\n      <td>37</td>\n      <td>[(Novosibirsk, 90), (Birsk, 90), (Biysk, 72), ...</td>\n      <td>Novosibirsk</td>\n    </tr>\n    <tr>\n      <th>38</th>\n      <td>Омск ТЦ \"Мега\"</td>\n      <td>Omsk TC \"Mega\"</td>\n      <td>38</td>\n      <td>[(Omsk, 90), (Tomsk, 72), (Gay, 72), (Orsk, 68...</td>\n      <td>Omsk</td>\n    </tr>\n    <tr>\n      <th>39</th>\n      <td>РостовНаДону ТРК \"Мегацентр Горизонт\"</td>\n      <td>RostovNaDonu TRC \"Megacenter Horizon\"</td>\n      <td>39</td>\n      <td>[(Rostov, 90), (Rostov, 90), (Reutov, 60), (Ks...</td>\n      <td>Rostov</td>\n    </tr>\n    <tr>\n      <th>40</th>\n      <td>РостовНаДону ТРК \"Мегацентр Горизонт\" Островной</td>\n      <td>RostovNaDonu TRC \"Megacenter Horizon\" Island</td>\n      <td>40</td>\n      <td>[(Rostov, 90), (Rostov, 90), (Reutov, 60), (Ks...</td>\n      <td>Rostov</td>\n    </tr>\n    <tr>\n      <th>41</th>\n      <td>РостовНаДону ТЦ \"Мега\"</td>\n      <td>RostovNaDonu TC \"Mega\"</td>\n      <td>41</td>\n      <td>[(Rostov, 90), (Rostov, 90), (Reutov, 60), (Ks...</td>\n      <td>Rostov</td>\n    </tr>\n    <tr>\n      <th>42</th>\n      <td>СПб ТК \"Невский Центр\"</td>\n      <td>St. Petersburg TK \"Nevsky Center\"</td>\n      <td>42</td>\n      <td>[(Saint Petersburg, 86), (Tver, 68), (Kanevska...</td>\n      <td>Saint Petersburg</td>\n    </tr>\n    <tr>\n      <th>43</th>\n      <td>СПб ТК \"Сенная\"</td>\n      <td>St. Petersburg TK \"Sennaya\"</td>\n      <td>43</td>\n      <td>[(Saint Petersburg, 86), (Tver, 68), (Surgut, ...</td>\n      <td>Saint Petersburg</td>\n    </tr>\n    <tr>\n      <th>44</th>\n      <td>Самара ТЦ \"Мелодия\"</td>\n      <td>Samara mall \"Melody\"</td>\n      <td>44</td>\n      <td>[(Samara, 90), (Tara, 68), (Arzamas, 64), (Sha...</td>\n      <td>Samara</td>\n    </tr>\n    <tr>\n      <th>45</th>\n      <td>Самара ТЦ \"ПаркХаус\"</td>\n      <td>Samara mall of \"Parkhouse\"</td>\n      <td>45</td>\n      <td>[(Samara, 90), (Tara, 68), (Arzamas, 64), (Gus...</td>\n      <td>Samara</td>\n    </tr>\n    <tr>\n      <th>46</th>\n      <td>Сергиев Посад ТЦ \"7Я\"</td>\n      <td>Sergiev Posad TC \"7Ya\"</td>\n      <td>46</td>\n      <td>[(Sergiyev Posad, 86), (Georgiyevsk, 58), (Pyt...</td>\n      <td>Sergiyev Posad</td>\n    </tr>\n    <tr>\n      <th>47</th>\n      <td>Сургут ТРЦ \"Сити Молл\"</td>\n      <td>Surgut SEC \"City Mall\"</td>\n      <td>47</td>\n      <td>[(Surgut, 90), (Chita, 54), (Yurga, 54), (Argu...</td>\n      <td>Surgut</td>\n    </tr>\n    <tr>\n      <th>48</th>\n      <td>Томск ТРЦ \"Изумрудный Город\"</td>\n      <td>Tomsk SEC \"Emerald City\"</td>\n      <td>48</td>\n      <td>[(Omsk, 90), (Tomsk, 90), (Orsk, 68), (Orël, 6...</td>\n      <td>Omsk</td>\n    </tr>\n    <tr>\n      <th>49</th>\n      <td>Тюмень ТРЦ \"Кристалл\"</td>\n      <td>Tyumen SEC \"Crystal\"</td>\n      <td>49</td>\n      <td>[(Tyumen, 90), (Shali, 60), (Tuapse, 57), (Ros...</td>\n      <td>Tyumen</td>\n    </tr>\n    <tr>\n      <th>50</th>\n      <td>Тюмень ТЦ \"Гудвин\"</td>\n      <td>Tyumen SC \"Goodwin\"</td>\n      <td>50</td>\n      <td>[(Tyumen, 90), (Lensk, 54), (Kamen’-na-Obi, 52...</td>\n      <td>Tyumen</td>\n    </tr>\n    <tr>\n      <th>51</th>\n      <td>Тюмень ТЦ \"Зеленый Берег\"</td>\n      <td>Tyumen SC \"Green Coast\"</td>\n      <td>51</td>\n      <td>[(Tyumen, 90), (Lensk, 54), (Pechora, 51), (Mt...</td>\n      <td>Tyumen</td>\n    </tr>\n    <tr>\n      <th>52</th>\n      <td>Уфа ТК \"Центральный\"</td>\n      <td>Ufa TC \"Central\"</td>\n      <td>52</td>\n      <td>[(Ufa, 90), (Tara, 68), (Inta, 68), (Orël, 60)...</td>\n      <td>Ufa</td>\n    </tr>\n    <tr>\n      <th>53</th>\n      <td>Уфа ТЦ \"Семья\" 2</td>\n      <td>Ufa TC \"Family\" 2</td>\n      <td>53</td>\n      <td>[(Ufa, 90), (Artëm, 45), (Gatchina, 45), (Ust’...</td>\n      <td>Ufa</td>\n    </tr>\n    <tr>\n      <th>54</th>\n      <td>Химки ТЦ \"Мега\"</td>\n      <td>Khimki shopping center \"Mega\"</td>\n      <td>54</td>\n      <td>[(Khimki, 90), (Tver, 68), (Asha, 64), (Miass,...</td>\n      <td>Khimki</td>\n    </tr>\n    <tr>\n      <th>55</th>\n      <td>Цифровой склад 1С-Онлайн</td>\n      <td>Digital storage 1C-line</td>\n      <td>55</td>\n      <td>[(Klin, 68), (Tara, 68), (Inta, 68), (Orël, 60...</td>\n      <td>Klin</td>\n    </tr>\n    <tr>\n      <th>56</th>\n      <td>Чехов ТРЦ \"Карнавал\"</td>\n      <td>Czechs SEC \"Carnival\"</td>\n      <td>56</td>\n      <td>[(Barnaul, 64), (Uni, 60), (Sarov, 54), (Revda...</td>\n      <td>Barnaul</td>\n    </tr>\n    <tr>\n      <th>57</th>\n      <td>Якутск Орджоникидзе, 56</td>\n      <td>Yakutsk Ordzhonikidze, 56</td>\n      <td>57</td>\n      <td>[(Yakutsk, 90), (Kursk, 72), (Rezh, 68), (Irku...</td>\n      <td>Yakutsk</td>\n    </tr>\n    <tr>\n      <th>58</th>\n      <td>Якутск ТЦ \"Центральный\"</td>\n      <td>Yakutsk TC \"Central\"</td>\n      <td>58</td>\n      <td>[(Yakutsk, 90), (Kursk, 72), (Tara, 68), (Inta...</td>\n      <td>Yakutsk</td>\n    </tr>\n    <tr>\n      <th>59</th>\n      <td>Ярославль ТЦ \"Альтаир\"</td>\n      <td>Yaroslavl shopping center \"Altair\"</td>\n      <td>59</td>\n      <td>[(Yaroslavl, 90), (Roslavl, 90), (Alagir, 75),...</td>\n      <td>Yaroslavl</td>\n    </tr>\n  </tbody>\n</table>\n</div>"
     },
     "metadata": {},
     "execution_count": 65
    },
    {
     "output_type": "stream",
     "name": "stdout",
     "text": [
      "time: 76.4 ms\n"
     ]
    }
   ],
   "source": [
    "shops \n"
   ]
  },
  {
   "cell_type": "code",
   "execution_count": 52,
   "metadata": {},
   "outputs": [
    {
     "output_type": "execute_result",
     "data": {
      "text/plain": [
       "55.8036225"
      ]
     },
     "metadata": {},
     "execution_count": 52
    },
    {
     "output_type": "stream",
     "name": "stdout",
     "text": [
      "time: 1.86 ms\n"
     ]
    }
   ],
   "source": [
    "loc[1][0]"
   ]
  },
  {
   "cell_type": "code",
   "execution_count": 70,
   "metadata": {},
   "outputs": [
    {
     "output_type": "stream",
     "name": "stdout",
     "text": [
      "time: 3min 14s\n"
     ]
    }
   ],
   "source": [
    "def getCoor(x,des):\n",
    "    #dont get banned\n",
    "    import time \n",
    "    time.sleep(1)\n",
    "\n",
    "    #delete the tuple!!!\n",
    "    loc = 0\n",
    "    del loc\n",
    "\n",
    "    from geopy.geocoders import Nominatim\n",
    "    geolocater = Nominatim(user_agent='gyasis@gmail.com')\n",
    "    city = x\n",
    "    country='Ru'\n",
    "    loc = geolocator.geocode(city+','+country)\n",
    "    \n",
    "    try:\n",
    "        if(des==\"all\"):\n",
    "            return loc[1]\n",
    "        elif(des==\"latitude\"):\n",
    "            t = loc[1][0]\n",
    "        else:\n",
    "            t = loc[1][1]\n",
    "\n",
    "        return t\n",
    "    except:\n",
    "        t = 'NA'\n",
    "        return t \n",
    "\n",
    "\n",
    "shops['Coordinate'] = shops.final.apply(lambda x: getCoor(x, 'all'))\n",
    "shops['Latitude'] = shops.final.apply(lambda x: getCoor(x, 'latitude'))\n",
    "shops['Longitude'] = shops.final.apply(lambda x: getCoor(x, 'longitude'))\n",
    "\n",
    "\n"
   ]
  },
  {
   "cell_type": "code",
   "execution_count": 71,
   "metadata": {},
   "outputs": [
    {
     "output_type": "execute_result",
     "data": {
      "text/plain": [
       "                                          shop_name  \\\n",
       "0                     !Якутск Орджоникидзе, 56 фран   \n",
       "1                     !Якутск ТЦ \"Центральный\" фран   \n",
       "2                                  Адыгея ТЦ \"Мега\"   \n",
       "3                    Балашиха ТРК \"Октябрь-Киномир\"   \n",
       "4                          Волжский ТЦ \"Волга Молл\"   \n",
       "5                            Вологда ТРЦ \"Мармелад\"   \n",
       "6                        Воронеж (Плехановская, 13)   \n",
       "7                            Воронеж ТРЦ \"Максимир\"   \n",
       "8                      Воронеж ТРЦ Сити-Парк \"Град\"   \n",
       "9                                 Выездная Торговля   \n",
       "10                       Жуковский ул. Чкалова 39м?   \n",
       "11                       Жуковский ул. Чкалова 39м²   \n",
       "12                              Интернет-магазин ЧС   \n",
       "13                              Казань ТЦ \"Бехетле\"   \n",
       "14                          Казань ТЦ \"ПаркХаус\" II   \n",
       "15                             Калуга ТРЦ \"XXI век\"   \n",
       "16                                 Коломна ТЦ \"Рио\"   \n",
       "17                    Красноярск ТЦ \"Взлетка Плаза\"   \n",
       "18                             Красноярск ТЦ \"Июнь\"   \n",
       "19                            Курск ТЦ \"Пушкинский\"   \n",
       "20                              Москва \"Распродажа\"   \n",
       "21                           Москва МТРЦ \"Афи Молл\"   \n",
       "22                               Москва Магазин С21   \n",
       "23                 Москва ТК \"Буденовский\" (пав.А2)   \n",
       "24                 Москва ТК \"Буденовский\" (пав.К7)   \n",
       "25                              Москва ТРК \"Атриум\"   \n",
       "26                      Москва ТЦ \"Ареал\" (Беляево)   \n",
       "27                   Москва ТЦ \"МЕГА Белая Дача II\"   \n",
       "28                  Москва ТЦ \"МЕГА Теплый Стан\" II   \n",
       "29               Москва ТЦ \"Новый век\" (Новокосино)   \n",
       "30                           Москва ТЦ \"Перловский\"   \n",
       "31                          Москва ТЦ \"Семеновский\"   \n",
       "32                       Москва ТЦ \"Серебряный Дом\"   \n",
       "33                                Мытищи ТРК \"XL-3\"   \n",
       "34                             Н.Новгород ТРЦ \"РИО\"   \n",
       "35                      Н.Новгород ТРЦ \"Фантастика\"   \n",
       "36            Новосибирск ТРЦ \"Галерея Новосибирск\"   \n",
       "37                            Новосибирск ТЦ \"Мега\"   \n",
       "38                                   Омск ТЦ \"Мега\"   \n",
       "39            РостовНаДону ТРК \"Мегацентр Горизонт\"   \n",
       "40  РостовНаДону ТРК \"Мегацентр Горизонт\" Островной   \n",
       "41                           РостовНаДону ТЦ \"Мега\"   \n",
       "42                           СПб ТК \"Невский Центр\"   \n",
       "43                                  СПб ТК \"Сенная\"   \n",
       "44                              Самара ТЦ \"Мелодия\"   \n",
       "45                             Самара ТЦ \"ПаркХаус\"   \n",
       "46                            Сергиев Посад ТЦ \"7Я\"   \n",
       "47                           Сургут ТРЦ \"Сити Молл\"   \n",
       "48                     Томск ТРЦ \"Изумрудный Город\"   \n",
       "49                            Тюмень ТРЦ \"Кристалл\"   \n",
       "50                               Тюмень ТЦ \"Гудвин\"   \n",
       "51                        Тюмень ТЦ \"Зеленый Берег\"   \n",
       "52                             Уфа ТК \"Центральный\"   \n",
       "53                                 Уфа ТЦ \"Семья\" 2   \n",
       "54                                  Химки ТЦ \"Мега\"   \n",
       "55                         Цифровой склад 1С-Онлайн   \n",
       "56                             Чехов ТРЦ \"Карнавал\"   \n",
       "57                          Якутск Орджоникидзе, 56   \n",
       "58                          Якутск ТЦ \"Центральный\"   \n",
       "59                           Ярославль ТЦ \"Альтаир\"   \n",
       "\n",
       "                              shop_name_translated  shop_id  \\\n",
       "0                ! Yakutsk Ordzhonikidze, 56 Franc        0   \n",
       "1                     ! Yakutsk TC \"Central\" Franc        1   \n",
       "2                                 Adygea TC \"Mega\"        2   \n",
       "3                 Balashikha TRC \"October-Kinomir\"        3   \n",
       "4                       Volzhsky mall \"Volga Mall\"        4   \n",
       "5                          Vologda SEC \"Marmalade\"        5   \n",
       "6                    Voronezh (Plekhanovskaya, 13)        6   \n",
       "7                          Voronezh SEC \"Maksimir\"        7   \n",
       "8      Voronezh shopping center City Park \"Castle\"        8   \n",
       "9                                  Itinerant trade        9   \n",
       "10                  Zhukovsky Street. Chkalov 39m?       10   \n",
       "11                  Zhukovsky Street. Chkalov 39m²       11   \n",
       "12                         Shop Online Emergencies       12   \n",
       "13                 Kazan shopping center \"Behetle\"       13   \n",
       "14        Kazan shopping mall of \"Parkhouse\" II of       14   \n",
       "15                        Kaluga SEC \"XXI Century\"       15   \n",
       "16                   Kolomna shopping center \"Rio\"       16   \n",
       "17                  Krasnoyarsk TC \"Vzletka Plaza\"       17   \n",
       "18                           Krasnoyarsk SC \"June\"       18   \n",
       "19                              Kursk TC \"Pushkin\"       19   \n",
       "20                                   Moscow \"Sale\"       20   \n",
       "21                         Moscow MTRTS \"Afi Mall\"       21   \n",
       "22                                Moscow C21 Store       22   \n",
       "23                 Moscow TK \"Budenovsky\" (pav.A2)       23   \n",
       "24                 Moscow TK \"Budenovsky\" (pav.K7)       24   \n",
       "25                             Moscow SEC \"Atrium\"       25   \n",
       "26          Moscow shopping mall \"area\" (Belyaevo)       26   \n",
       "27   Moscow shopping center \"MEGA Belaya Dacha II\"       27   \n",
       "28  Moscow shopping center \"MEGA Teply Stan\" II of       28   \n",
       "29   Moscow shopping center \"New Age\" (Novokosino)       29   \n",
       "30             Moscow shopping center \"Perlovskiy\"       30   \n",
       "31               Moscow shopping center \"Semyonov\"       31   \n",
       "32           Moscow shopping center \"Silver House\"       32   \n",
       "33                            Mytishchi TRK \"XL-3\"       33   \n",
       "34                       Nizhny Novgorod SEC \"RIO\"       34   \n",
       "35                   Nizhny Novgorod SEC \"Fantasy\"       35   \n",
       "36           Novosibirsk SEC \"Gallery Novosibirsk\"       36   \n",
       "37              Novosibirsk shopping center \"Mega\"       37   \n",
       "38                                  Omsk TC \"Mega\"       38   \n",
       "39           RostovNaDonu TRC \"Megacenter Horizon\"       39   \n",
       "40    RostovNaDonu TRC \"Megacenter Horizon\" Island       40   \n",
       "41                          RostovNaDonu TC \"Mega\"       41   \n",
       "42               St. Petersburg TK \"Nevsky Center\"       42   \n",
       "43                     St. Petersburg TK \"Sennaya\"       43   \n",
       "44                            Samara mall \"Melody\"       44   \n",
       "45                      Samara mall of \"Parkhouse\"       45   \n",
       "46                          Sergiev Posad TC \"7Ya\"       46   \n",
       "47                          Surgut SEC \"City Mall\"       47   \n",
       "48                        Tomsk SEC \"Emerald City\"       48   \n",
       "49                            Tyumen SEC \"Crystal\"       49   \n",
       "50                             Tyumen SC \"Goodwin\"       50   \n",
       "51                         Tyumen SC \"Green Coast\"       51   \n",
       "52                                Ufa TC \"Central\"       52   \n",
       "53                               Ufa TC \"Family\" 2       53   \n",
       "54                   Khimki shopping center \"Mega\"       54   \n",
       "55                         Digital storage 1C-line       55   \n",
       "56                           Czechs SEC \"Carnival\"       56   \n",
       "57                       Yakutsk Ordzhonikidze, 56       57   \n",
       "58                            Yakutsk TC \"Central\"       58   \n",
       "59              Yaroslavl shopping center \"Altair\"       59   \n",
       "\n",
       "                                             realcity             final  \\\n",
       "0   [(Yakutsk, 90), (Kursk, 72), (Rezh, 68), (Irku...           Yakutsk   \n",
       "1   [(Yakutsk, 90), (Kursk, 72), (Inta, 68), (Irku...           Yakutsk   \n",
       "2   [(Gay, 60), (Adygeysk, 56), (Yurga, 54), (Nady...               Gay   \n",
       "3   [(Balashikha, 90), (Klin, 68), (Balashov, 68),...        Balashikha   \n",
       "4   [(Volzhsk, 90), (Volzhskiy, 80), (Luga, 68), (...           Volzhsk   \n",
       "5   [(Vologda, 90), (Parma, 72), (Artëm, 68), (Tar...           Vologda   \n",
       "6   [(Voronezh, 90), (Kanevskaya, 72), (Omsk, 68),...          Voronezh   \n",
       "7   [(Voronezh, 90), (Marks, 72), (Rezh, 68), (Orë...          Voronezh   \n",
       "8   [(Voronezh, 90), (Novovoronezh, 64), (Grayvoro...          Voronezh   \n",
       "9   [(Neman, 72), (Tara, 68), (Nazran, 60), (Nurla...             Neman   \n",
       "10  [(Zhukovskiy, 81), (Omsk, 68), (Orsk, 68), (Az...        Zhukovskiy   \n",
       "11  [(Zhukovskiy, 81), (Omsk, 68), (Orsk, 68), (Az...        Zhukovskiy   \n",
       "12  [(Klin, 68), (Engels, 60), (Megion, 60), (Uni,...              Klin   \n",
       "13  [(Kazan, 90), (Tver, 68), (Ryazan, 60), (Nazra...             Kazan   \n",
       "14  [(Kazan, 90), (Ryazan, 60), (Kanash, 60), (Zai...             Kazan   \n",
       "15  [(Kaluga, 90), (Luga, 90), (Uray, 68), (Ufa, 6...            Kaluga   \n",
       "16  [(Kolomna, 90), (Tver, 68), (Asha, 68), (Lobny...           Kolomna   \n",
       "17  [(Krasnoyarsk, 90), (Krasnodar, 80), (Noyabrsk...       Krasnoyarsk   \n",
       "18  [(Krasnoyarsk, 90), (Krasnodar, 80), (Noyabrsk...       Krasnoyarsk   \n",
       "19  [(Kursk, 90), (Pushkino, 84), (Orsk, 68), (Kli...             Kursk   \n",
       "20  [(Moscow, 90), (Salsk, 54), (Shali, 54), (Tosn...            Moscow   \n",
       "21  [(Moscow, 90), (Zima, 68), (Tosno, 54), (Marks...            Moscow   \n",
       "22  [(Moscow, 90), (Orël, 60), (Bor, 60), (Tosno, ...            Moscow   \n",
       "23  [(Moscow, 90), (Budënnovsk, 80), (Dedovsk, 77)...            Moscow   \n",
       "24  [(Moscow, 90), (Budënnovsk, 80), (Dedovsk, 77)...            Moscow   \n",
       "25  [(Moscow, 90), (Tosno, 54), (Argun, 54), (Osyn...            Moscow   \n",
       "26  [(Moscow, 90), (Laptëvo, 60), (Vel’ye, 60), (B...            Moscow   \n",
       "27  [(Moscow, 90), (Belaya Kalitva, 86), (Belaya G...            Moscow   \n",
       "28  [(Moscow, 90), (Elista, 60), (Labytnangi, 54),...            Moscow   \n",
       "29  [(Moscow, 90), (Kolpino, 64), (Korkino, 64), (...            Moscow   \n",
       "30  [(Moscow, 90), (Petrovsk, 79), (Serov, 72), (B...            Moscow   \n",
       "31  [(Moscow, 90), (Tver, 68), (Perm, 64), (Semëno...            Moscow   \n",
       "32  [(Moscow, 90), (Semënov, 57), (Tosno, 54), (Gu...            Moscow   \n",
       "33  [(Mytishchi, 90), (Sochi, 72), (Chita, 72), (M...         Mytishchi   \n",
       "34  [(Nizhniy Novgorod, 86), (Velikiy Novgorod, 86...  Nizhniy Novgorod   \n",
       "35  [(Nizhniy Novgorod, 86), (Velikiy Novgorod, 86...  Nizhniy Novgorod   \n",
       "36  [(Novosibirsk, 90), (Birsk, 90), (Biysk, 72), ...       Novosibirsk   \n",
       "37  [(Novosibirsk, 90), (Birsk, 90), (Biysk, 72), ...       Novosibirsk   \n",
       "38  [(Omsk, 90), (Tomsk, 72), (Gay, 72), (Orsk, 68...              Omsk   \n",
       "39  [(Rostov, 90), (Rostov, 90), (Reutov, 60), (Ks...            Rostov   \n",
       "40  [(Rostov, 90), (Rostov, 90), (Reutov, 60), (Ks...            Rostov   \n",
       "41  [(Rostov, 90), (Rostov, 90), (Reutov, 60), (Ks...            Rostov   \n",
       "42  [(Saint Petersburg, 86), (Tver, 68), (Kanevska...  Saint Petersburg   \n",
       "43  [(Saint Petersburg, 86), (Tver, 68), (Surgut, ...  Saint Petersburg   \n",
       "44  [(Samara, 90), (Tara, 68), (Arzamas, 64), (Sha...            Samara   \n",
       "45  [(Samara, 90), (Tara, 68), (Arzamas, 64), (Gus...            Samara   \n",
       "46  [(Sergiyev Posad, 86), (Georgiyevsk, 58), (Pyt...    Sergiyev Posad   \n",
       "47  [(Surgut, 90), (Chita, 54), (Yurga, 54), (Argu...            Surgut   \n",
       "48  [(Omsk, 90), (Tomsk, 90), (Orsk, 68), (Orël, 6...              Omsk   \n",
       "49  [(Tyumen, 90), (Shali, 60), (Tuapse, 57), (Ros...            Tyumen   \n",
       "50  [(Tyumen, 90), (Lensk, 54), (Kamen’-na-Obi, 52...            Tyumen   \n",
       "51  [(Tyumen, 90), (Lensk, 54), (Pechora, 51), (Mt...            Tyumen   \n",
       "52  [(Ufa, 90), (Tara, 68), (Inta, 68), (Orël, 60)...               Ufa   \n",
       "53  [(Ufa, 90), (Artëm, 45), (Gatchina, 45), (Ust’...               Ufa   \n",
       "54  [(Khimki, 90), (Tver, 68), (Asha, 64), (Miass,...            Khimki   \n",
       "55  [(Klin, 68), (Tara, 68), (Inta, 68), (Orël, 60...              Klin   \n",
       "56  [(Barnaul, 64), (Uni, 60), (Sarov, 54), (Revda...           Barnaul   \n",
       "57  [(Yakutsk, 90), (Kursk, 72), (Rezh, 68), (Irku...           Yakutsk   \n",
       "58  [(Yakutsk, 90), (Kursk, 72), (Tara, 68), (Inta...           Yakutsk   \n",
       "59  [(Yaroslavl, 90), (Roslavl, 90), (Alagir, 75),...         Yaroslavl   \n",
       "\n",
       "                          Coordinate   Latitude   Longitude  \n",
       "0            (62.027287, 129.732086)  62.027287  129.732086  \n",
       "1            (62.027287, 129.732086)  62.027287  129.732086  \n",
       "2             (51.471443, 58.440517)  51.471443   58.440517  \n",
       "3           (55.8036225, 37.9646488)  55.803623   37.964649  \n",
       "4           (55.8636579, 48.3618598)  55.863658   48.361860  \n",
       "5             (59.218876, 39.893276)  59.218876   39.893276  \n",
       "6           (51.6605982, 39.2005858)  51.660598   39.200586  \n",
       "7           (51.6605982, 39.2005858)  51.660598   39.200586  \n",
       "8           (51.6605982, 39.2005858)  51.660598   39.200586  \n",
       "9           (55.0359656, 22.0293578)  55.035966   22.029358  \n",
       "10  (57.4226752, 28.317785591383842)  57.422675   28.317786  \n",
       "11  (57.4226752, 28.317785591383842)  57.422675   28.317786  \n",
       "12          (56.3355601, 36.7351318)  56.335560   36.735132  \n",
       "13          (55.7823547, 49.1242266)  55.782355   49.124227  \n",
       "14          (55.7823547, 49.1242266)  55.782355   49.124227  \n",
       "15          (54.5101087, 36.2598115)  54.510109   36.259811  \n",
       "16          (55.0938743, 38.7670121)  55.093874   38.767012  \n",
       "17          (63.3233807, 97.0979974)  63.323381   97.097997  \n",
       "18          (63.3233807, 97.0979974)  63.323381   97.097997  \n",
       "19            (51.739433, 36.179604)  51.739433   36.179604  \n",
       "20          (55.7504461, 37.6174943)  55.750446   37.617494  \n",
       "21          (55.7504461, 37.6174943)  55.750446   37.617494  \n",
       "22          (55.7504461, 37.6174943)  55.750446   37.617494  \n",
       "23          (55.7504461, 37.6174943)  55.750446   37.617494  \n",
       "24          (55.7504461, 37.6174943)  55.750446   37.617494  \n",
       "25          (55.7504461, 37.6174943)  55.750446   37.617494  \n",
       "26          (55.7504461, 37.6174943)  55.750446   37.617494  \n",
       "27          (55.7504461, 37.6174943)  55.750446   37.617494  \n",
       "28          (55.7504461, 37.6174943)  55.750446   37.617494  \n",
       "29          (55.7504461, 37.6174943)  55.750446   37.617494  \n",
       "30          (55.7504461, 37.6174943)  55.750446   37.617494  \n",
       "31          (55.7504461, 37.6174943)  55.750446   37.617494  \n",
       "32          (55.7504461, 37.6174943)  55.750446   37.617494  \n",
       "33          (55.9094928, 37.7339358)  55.909493   37.733936  \n",
       "34            (56.328571, 44.003506)  56.328571   44.003506  \n",
       "35            (56.328571, 44.003506)  56.328571   44.003506  \n",
       "36          (55.0282171, 82.9234509)  55.028217   82.923451  \n",
       "37          (55.0282171, 82.9234509)  55.028217   82.923451  \n",
       "38            (54.991375, 73.371529)  54.991375   73.371529  \n",
       "39          (47.2213858, 39.7114196)  47.221386   39.711420  \n",
       "40          (47.2213858, 39.7114196)  47.221386   39.711420  \n",
       "41          (47.2213858, 39.7114196)  47.221386   39.711420  \n",
       "42            (59.938732, 30.316229)  59.938732   30.316229  \n",
       "43            (59.938732, 30.316229)  59.938732   30.316229  \n",
       "44            (53.198627, 50.113987)  53.198627   50.113987  \n",
       "45            (53.198627, 50.113987)  53.198627   50.113987  \n",
       "46          (56.3153529, 38.1358208)  56.315353   38.135821  \n",
       "47              (61.254032, 73.3964)  61.254032   73.396400  \n",
       "48            (54.991375, 73.371529)  54.991375   73.371529  \n",
       "49            (57.153534, 65.542274)  57.153534   65.542274  \n",
       "50            (57.153534, 65.542274)  57.153534   65.542274  \n",
       "51            (57.153534, 65.542274)  57.153534   65.542274  \n",
       "52           (54.7261409, 55.947499)  54.726141   55.947499  \n",
       "53           (54.7261409, 55.947499)  54.726141   55.947499  \n",
       "54          (55.8892847, 37.4449896)  55.889285   37.444990  \n",
       "55          (56.3355601, 36.7351318)  56.335560   36.735132  \n",
       "56           (53.347402, 83.7784496)  53.347402   83.778450  \n",
       "57           (62.027287, 129.732086)  62.027287  129.732086  \n",
       "58           (62.027287, 129.732086)  62.027287  129.732086  \n",
       "59          (57.6263877, 39.8933705)  57.626388   39.893371  "
      ],
      "text/html": "<div>\n<style scoped>\n    .dataframe tbody tr th:only-of-type {\n        vertical-align: middle;\n    }\n\n    .dataframe tbody tr th {\n        vertical-align: top;\n    }\n\n    .dataframe thead th {\n        text-align: right;\n    }\n</style>\n<table border=\"1\" class=\"dataframe\">\n  <thead>\n    <tr style=\"text-align: right;\">\n      <th></th>\n      <th>shop_name</th>\n      <th>shop_name_translated</th>\n      <th>shop_id</th>\n      <th>realcity</th>\n      <th>final</th>\n      <th>Coordinate</th>\n      <th>Latitude</th>\n      <th>Longitude</th>\n    </tr>\n  </thead>\n  <tbody>\n    <tr>\n      <th>0</th>\n      <td>!Якутск Орджоникидзе, 56 фран</td>\n      <td>! Yakutsk Ordzhonikidze, 56 Franc</td>\n      <td>0</td>\n      <td>[(Yakutsk, 90), (Kursk, 72), (Rezh, 68), (Irku...</td>\n      <td>Yakutsk</td>\n      <td>(62.027287, 129.732086)</td>\n      <td>62.027287</td>\n      <td>129.732086</td>\n    </tr>\n    <tr>\n      <th>1</th>\n      <td>!Якутск ТЦ \"Центральный\" фран</td>\n      <td>! Yakutsk TC \"Central\" Franc</td>\n      <td>1</td>\n      <td>[(Yakutsk, 90), (Kursk, 72), (Inta, 68), (Irku...</td>\n      <td>Yakutsk</td>\n      <td>(62.027287, 129.732086)</td>\n      <td>62.027287</td>\n      <td>129.732086</td>\n    </tr>\n    <tr>\n      <th>2</th>\n      <td>Адыгея ТЦ \"Мега\"</td>\n      <td>Adygea TC \"Mega\"</td>\n      <td>2</td>\n      <td>[(Gay, 60), (Adygeysk, 56), (Yurga, 54), (Nady...</td>\n      <td>Gay</td>\n      <td>(51.471443, 58.440517)</td>\n      <td>51.471443</td>\n      <td>58.440517</td>\n    </tr>\n    <tr>\n      <th>3</th>\n      <td>Балашиха ТРК \"Октябрь-Киномир\"</td>\n      <td>Balashikha TRC \"October-Kinomir\"</td>\n      <td>3</td>\n      <td>[(Balashikha, 90), (Klin, 68), (Balashov, 68),...</td>\n      <td>Balashikha</td>\n      <td>(55.8036225, 37.9646488)</td>\n      <td>55.803623</td>\n      <td>37.964649</td>\n    </tr>\n    <tr>\n      <th>4</th>\n      <td>Волжский ТЦ \"Волга Молл\"</td>\n      <td>Volzhsky mall \"Volga Mall\"</td>\n      <td>4</td>\n      <td>[(Volzhsk, 90), (Volzhskiy, 80), (Luga, 68), (...</td>\n      <td>Volzhsk</td>\n      <td>(55.8636579, 48.3618598)</td>\n      <td>55.863658</td>\n      <td>48.361860</td>\n    </tr>\n    <tr>\n      <th>5</th>\n      <td>Вологда ТРЦ \"Мармелад\"</td>\n      <td>Vologda SEC \"Marmalade\"</td>\n      <td>5</td>\n      <td>[(Vologda, 90), (Parma, 72), (Artëm, 68), (Tar...</td>\n      <td>Vologda</td>\n      <td>(59.218876, 39.893276)</td>\n      <td>59.218876</td>\n      <td>39.893276</td>\n    </tr>\n    <tr>\n      <th>6</th>\n      <td>Воронеж (Плехановская, 13)</td>\n      <td>Voronezh (Plekhanovskaya, 13)</td>\n      <td>6</td>\n      <td>[(Voronezh, 90), (Kanevskaya, 72), (Omsk, 68),...</td>\n      <td>Voronezh</td>\n      <td>(51.6605982, 39.2005858)</td>\n      <td>51.660598</td>\n      <td>39.200586</td>\n    </tr>\n    <tr>\n      <th>7</th>\n      <td>Воронеж ТРЦ \"Максимир\"</td>\n      <td>Voronezh SEC \"Maksimir\"</td>\n      <td>7</td>\n      <td>[(Voronezh, 90), (Marks, 72), (Rezh, 68), (Orë...</td>\n      <td>Voronezh</td>\n      <td>(51.6605982, 39.2005858)</td>\n      <td>51.660598</td>\n      <td>39.200586</td>\n    </tr>\n    <tr>\n      <th>8</th>\n      <td>Воронеж ТРЦ Сити-Парк \"Град\"</td>\n      <td>Voronezh shopping center City Park \"Castle\"</td>\n      <td>8</td>\n      <td>[(Voronezh, 90), (Novovoronezh, 64), (Grayvoro...</td>\n      <td>Voronezh</td>\n      <td>(51.6605982, 39.2005858)</td>\n      <td>51.660598</td>\n      <td>39.200586</td>\n    </tr>\n    <tr>\n      <th>9</th>\n      <td>Выездная Торговля</td>\n      <td>Itinerant trade</td>\n      <td>9</td>\n      <td>[(Neman, 72), (Tara, 68), (Nazran, 60), (Nurla...</td>\n      <td>Neman</td>\n      <td>(55.0359656, 22.0293578)</td>\n      <td>55.035966</td>\n      <td>22.029358</td>\n    </tr>\n    <tr>\n      <th>10</th>\n      <td>Жуковский ул. Чкалова 39м?</td>\n      <td>Zhukovsky Street. Chkalov 39m?</td>\n      <td>10</td>\n      <td>[(Zhukovskiy, 81), (Omsk, 68), (Orsk, 68), (Az...</td>\n      <td>Zhukovskiy</td>\n      <td>(57.4226752, 28.317785591383842)</td>\n      <td>57.422675</td>\n      <td>28.317786</td>\n    </tr>\n    <tr>\n      <th>11</th>\n      <td>Жуковский ул. Чкалова 39м²</td>\n      <td>Zhukovsky Street. Chkalov 39m²</td>\n      <td>11</td>\n      <td>[(Zhukovskiy, 81), (Omsk, 68), (Orsk, 68), (Az...</td>\n      <td>Zhukovskiy</td>\n      <td>(57.4226752, 28.317785591383842)</td>\n      <td>57.422675</td>\n      <td>28.317786</td>\n    </tr>\n    <tr>\n      <th>12</th>\n      <td>Интернет-магазин ЧС</td>\n      <td>Shop Online Emergencies</td>\n      <td>12</td>\n      <td>[(Klin, 68), (Engels, 60), (Megion, 60), (Uni,...</td>\n      <td>Klin</td>\n      <td>(56.3355601, 36.7351318)</td>\n      <td>56.335560</td>\n      <td>36.735132</td>\n    </tr>\n    <tr>\n      <th>13</th>\n      <td>Казань ТЦ \"Бехетле\"</td>\n      <td>Kazan shopping center \"Behetle\"</td>\n      <td>13</td>\n      <td>[(Kazan, 90), (Tver, 68), (Ryazan, 60), (Nazra...</td>\n      <td>Kazan</td>\n      <td>(55.7823547, 49.1242266)</td>\n      <td>55.782355</td>\n      <td>49.124227</td>\n    </tr>\n    <tr>\n      <th>14</th>\n      <td>Казань ТЦ \"ПаркХаус\" II</td>\n      <td>Kazan shopping mall of \"Parkhouse\" II of</td>\n      <td>14</td>\n      <td>[(Kazan, 90), (Ryazan, 60), (Kanash, 60), (Zai...</td>\n      <td>Kazan</td>\n      <td>(55.7823547, 49.1242266)</td>\n      <td>55.782355</td>\n      <td>49.124227</td>\n    </tr>\n    <tr>\n      <th>15</th>\n      <td>Калуга ТРЦ \"XXI век\"</td>\n      <td>Kaluga SEC \"XXI Century\"</td>\n      <td>15</td>\n      <td>[(Kaluga, 90), (Luga, 90), (Uray, 68), (Ufa, 6...</td>\n      <td>Kaluga</td>\n      <td>(54.5101087, 36.2598115)</td>\n      <td>54.510109</td>\n      <td>36.259811</td>\n    </tr>\n    <tr>\n      <th>16</th>\n      <td>Коломна ТЦ \"Рио\"</td>\n      <td>Kolomna shopping center \"Rio\"</td>\n      <td>16</td>\n      <td>[(Kolomna, 90), (Tver, 68), (Asha, 68), (Lobny...</td>\n      <td>Kolomna</td>\n      <td>(55.0938743, 38.7670121)</td>\n      <td>55.093874</td>\n      <td>38.767012</td>\n    </tr>\n    <tr>\n      <th>17</th>\n      <td>Красноярск ТЦ \"Взлетка Плаза\"</td>\n      <td>Krasnoyarsk TC \"Vzletka Plaza\"</td>\n      <td>17</td>\n      <td>[(Krasnoyarsk, 90), (Krasnodar, 80), (Noyabrsk...</td>\n      <td>Krasnoyarsk</td>\n      <td>(63.3233807, 97.0979974)</td>\n      <td>63.323381</td>\n      <td>97.097997</td>\n    </tr>\n    <tr>\n      <th>18</th>\n      <td>Красноярск ТЦ \"Июнь\"</td>\n      <td>Krasnoyarsk SC \"June\"</td>\n      <td>18</td>\n      <td>[(Krasnoyarsk, 90), (Krasnodar, 80), (Noyabrsk...</td>\n      <td>Krasnoyarsk</td>\n      <td>(63.3233807, 97.0979974)</td>\n      <td>63.323381</td>\n      <td>97.097997</td>\n    </tr>\n    <tr>\n      <th>19</th>\n      <td>Курск ТЦ \"Пушкинский\"</td>\n      <td>Kursk TC \"Pushkin\"</td>\n      <td>19</td>\n      <td>[(Kursk, 90), (Pushkino, 84), (Orsk, 68), (Kli...</td>\n      <td>Kursk</td>\n      <td>(51.739433, 36.179604)</td>\n      <td>51.739433</td>\n      <td>36.179604</td>\n    </tr>\n    <tr>\n      <th>20</th>\n      <td>Москва \"Распродажа\"</td>\n      <td>Moscow \"Sale\"</td>\n      <td>20</td>\n      <td>[(Moscow, 90), (Salsk, 54), (Shali, 54), (Tosn...</td>\n      <td>Moscow</td>\n      <td>(55.7504461, 37.6174943)</td>\n      <td>55.750446</td>\n      <td>37.617494</td>\n    </tr>\n    <tr>\n      <th>21</th>\n      <td>Москва МТРЦ \"Афи Молл\"</td>\n      <td>Moscow MTRTS \"Afi Mall\"</td>\n      <td>21</td>\n      <td>[(Moscow, 90), (Zima, 68), (Tosno, 54), (Marks...</td>\n      <td>Moscow</td>\n      <td>(55.7504461, 37.6174943)</td>\n      <td>55.750446</td>\n      <td>37.617494</td>\n    </tr>\n    <tr>\n      <th>22</th>\n      <td>Москва Магазин С21</td>\n      <td>Moscow C21 Store</td>\n      <td>22</td>\n      <td>[(Moscow, 90), (Orël, 60), (Bor, 60), (Tosno, ...</td>\n      <td>Moscow</td>\n      <td>(55.7504461, 37.6174943)</td>\n      <td>55.750446</td>\n      <td>37.617494</td>\n    </tr>\n    <tr>\n      <th>23</th>\n      <td>Москва ТК \"Буденовский\" (пав.А2)</td>\n      <td>Moscow TK \"Budenovsky\" (pav.A2)</td>\n      <td>23</td>\n      <td>[(Moscow, 90), (Budënnovsk, 80), (Dedovsk, 77)...</td>\n      <td>Moscow</td>\n      <td>(55.7504461, 37.6174943)</td>\n      <td>55.750446</td>\n      <td>37.617494</td>\n    </tr>\n    <tr>\n      <th>24</th>\n      <td>Москва ТК \"Буденовский\" (пав.К7)</td>\n      <td>Moscow TK \"Budenovsky\" (pav.K7)</td>\n      <td>24</td>\n      <td>[(Moscow, 90), (Budënnovsk, 80), (Dedovsk, 77)...</td>\n      <td>Moscow</td>\n      <td>(55.7504461, 37.6174943)</td>\n      <td>55.750446</td>\n      <td>37.617494</td>\n    </tr>\n    <tr>\n      <th>25</th>\n      <td>Москва ТРК \"Атриум\"</td>\n      <td>Moscow SEC \"Atrium\"</td>\n      <td>25</td>\n      <td>[(Moscow, 90), (Tosno, 54), (Argun, 54), (Osyn...</td>\n      <td>Moscow</td>\n      <td>(55.7504461, 37.6174943)</td>\n      <td>55.750446</td>\n      <td>37.617494</td>\n    </tr>\n    <tr>\n      <th>26</th>\n      <td>Москва ТЦ \"Ареал\" (Беляево)</td>\n      <td>Moscow shopping mall \"area\" (Belyaevo)</td>\n      <td>26</td>\n      <td>[(Moscow, 90), (Laptëvo, 60), (Vel’ye, 60), (B...</td>\n      <td>Moscow</td>\n      <td>(55.7504461, 37.6174943)</td>\n      <td>55.750446</td>\n      <td>37.617494</td>\n    </tr>\n    <tr>\n      <th>27</th>\n      <td>Москва ТЦ \"МЕГА Белая Дача II\"</td>\n      <td>Moscow shopping center \"MEGA Belaya Dacha II\"</td>\n      <td>27</td>\n      <td>[(Moscow, 90), (Belaya Kalitva, 86), (Belaya G...</td>\n      <td>Moscow</td>\n      <td>(55.7504461, 37.6174943)</td>\n      <td>55.750446</td>\n      <td>37.617494</td>\n    </tr>\n    <tr>\n      <th>28</th>\n      <td>Москва ТЦ \"МЕГА Теплый Стан\" II</td>\n      <td>Moscow shopping center \"MEGA Teply Stan\" II of</td>\n      <td>28</td>\n      <td>[(Moscow, 90), (Elista, 60), (Labytnangi, 54),...</td>\n      <td>Moscow</td>\n      <td>(55.7504461, 37.6174943)</td>\n      <td>55.750446</td>\n      <td>37.617494</td>\n    </tr>\n    <tr>\n      <th>29</th>\n      <td>Москва ТЦ \"Новый век\" (Новокосино)</td>\n      <td>Moscow shopping center \"New Age\" (Novokosino)</td>\n      <td>29</td>\n      <td>[(Moscow, 90), (Kolpino, 64), (Korkino, 64), (...</td>\n      <td>Moscow</td>\n      <td>(55.7504461, 37.6174943)</td>\n      <td>55.750446</td>\n      <td>37.617494</td>\n    </tr>\n    <tr>\n      <th>30</th>\n      <td>Москва ТЦ \"Перловский\"</td>\n      <td>Moscow shopping center \"Perlovskiy\"</td>\n      <td>30</td>\n      <td>[(Moscow, 90), (Petrovsk, 79), (Serov, 72), (B...</td>\n      <td>Moscow</td>\n      <td>(55.7504461, 37.6174943)</td>\n      <td>55.750446</td>\n      <td>37.617494</td>\n    </tr>\n    <tr>\n      <th>31</th>\n      <td>Москва ТЦ \"Семеновский\"</td>\n      <td>Moscow shopping center \"Semyonov\"</td>\n      <td>31</td>\n      <td>[(Moscow, 90), (Tver, 68), (Perm, 64), (Semëno...</td>\n      <td>Moscow</td>\n      <td>(55.7504461, 37.6174943)</td>\n      <td>55.750446</td>\n      <td>37.617494</td>\n    </tr>\n    <tr>\n      <th>32</th>\n      <td>Москва ТЦ \"Серебряный Дом\"</td>\n      <td>Moscow shopping center \"Silver House\"</td>\n      <td>32</td>\n      <td>[(Moscow, 90), (Semënov, 57), (Tosno, 54), (Gu...</td>\n      <td>Moscow</td>\n      <td>(55.7504461, 37.6174943)</td>\n      <td>55.750446</td>\n      <td>37.617494</td>\n    </tr>\n    <tr>\n      <th>33</th>\n      <td>Мытищи ТРК \"XL-3\"</td>\n      <td>Mytishchi TRK \"XL-3\"</td>\n      <td>33</td>\n      <td>[(Mytishchi, 90), (Sochi, 72), (Chita, 72), (M...</td>\n      <td>Mytishchi</td>\n      <td>(55.9094928, 37.7339358)</td>\n      <td>55.909493</td>\n      <td>37.733936</td>\n    </tr>\n    <tr>\n      <th>34</th>\n      <td>Н.Новгород ТРЦ \"РИО\"</td>\n      <td>Nizhny Novgorod SEC \"RIO\"</td>\n      <td>34</td>\n      <td>[(Nizhniy Novgorod, 86), (Velikiy Novgorod, 86...</td>\n      <td>Nizhniy Novgorod</td>\n      <td>(56.328571, 44.003506)</td>\n      <td>56.328571</td>\n      <td>44.003506</td>\n    </tr>\n    <tr>\n      <th>35</th>\n      <td>Н.Новгород ТРЦ \"Фантастика\"</td>\n      <td>Nizhny Novgorod SEC \"Fantasy\"</td>\n      <td>35</td>\n      <td>[(Nizhniy Novgorod, 86), (Velikiy Novgorod, 86...</td>\n      <td>Nizhniy Novgorod</td>\n      <td>(56.328571, 44.003506)</td>\n      <td>56.328571</td>\n      <td>44.003506</td>\n    </tr>\n    <tr>\n      <th>36</th>\n      <td>Новосибирск ТРЦ \"Галерея Новосибирск\"</td>\n      <td>Novosibirsk SEC \"Gallery Novosibirsk\"</td>\n      <td>36</td>\n      <td>[(Novosibirsk, 90), (Birsk, 90), (Biysk, 72), ...</td>\n      <td>Novosibirsk</td>\n      <td>(55.0282171, 82.9234509)</td>\n      <td>55.028217</td>\n      <td>82.923451</td>\n    </tr>\n    <tr>\n      <th>37</th>\n      <td>Новосибирск ТЦ \"Мега\"</td>\n      <td>Novosibirsk shopping center \"Mega\"</td>\n      <td>37</td>\n      <td>[(Novosibirsk, 90), (Birsk, 90), (Biysk, 72), ...</td>\n      <td>Novosibirsk</td>\n      <td>(55.0282171, 82.9234509)</td>\n      <td>55.028217</td>\n      <td>82.923451</td>\n    </tr>\n    <tr>\n      <th>38</th>\n      <td>Омск ТЦ \"Мега\"</td>\n      <td>Omsk TC \"Mega\"</td>\n      <td>38</td>\n      <td>[(Omsk, 90), (Tomsk, 72), (Gay, 72), (Orsk, 68...</td>\n      <td>Omsk</td>\n      <td>(54.991375, 73.371529)</td>\n      <td>54.991375</td>\n      <td>73.371529</td>\n    </tr>\n    <tr>\n      <th>39</th>\n      <td>РостовНаДону ТРК \"Мегацентр Горизонт\"</td>\n      <td>RostovNaDonu TRC \"Megacenter Horizon\"</td>\n      <td>39</td>\n      <td>[(Rostov, 90), (Rostov, 90), (Reutov, 60), (Ks...</td>\n      <td>Rostov</td>\n      <td>(47.2213858, 39.7114196)</td>\n      <td>47.221386</td>\n      <td>39.711420</td>\n    </tr>\n    <tr>\n      <th>40</th>\n      <td>РостовНаДону ТРК \"Мегацентр Горизонт\" Островной</td>\n      <td>RostovNaDonu TRC \"Megacenter Horizon\" Island</td>\n      <td>40</td>\n      <td>[(Rostov, 90), (Rostov, 90), (Reutov, 60), (Ks...</td>\n      <td>Rostov</td>\n      <td>(47.2213858, 39.7114196)</td>\n      <td>47.221386</td>\n      <td>39.711420</td>\n    </tr>\n    <tr>\n      <th>41</th>\n      <td>РостовНаДону ТЦ \"Мега\"</td>\n      <td>RostovNaDonu TC \"Mega\"</td>\n      <td>41</td>\n      <td>[(Rostov, 90), (Rostov, 90), (Reutov, 60), (Ks...</td>\n      <td>Rostov</td>\n      <td>(47.2213858, 39.7114196)</td>\n      <td>47.221386</td>\n      <td>39.711420</td>\n    </tr>\n    <tr>\n      <th>42</th>\n      <td>СПб ТК \"Невский Центр\"</td>\n      <td>St. Petersburg TK \"Nevsky Center\"</td>\n      <td>42</td>\n      <td>[(Saint Petersburg, 86), (Tver, 68), (Kanevska...</td>\n      <td>Saint Petersburg</td>\n      <td>(59.938732, 30.316229)</td>\n      <td>59.938732</td>\n      <td>30.316229</td>\n    </tr>\n    <tr>\n      <th>43</th>\n      <td>СПб ТК \"Сенная\"</td>\n      <td>St. Petersburg TK \"Sennaya\"</td>\n      <td>43</td>\n      <td>[(Saint Petersburg, 86), (Tver, 68), (Surgut, ...</td>\n      <td>Saint Petersburg</td>\n      <td>(59.938732, 30.316229)</td>\n      <td>59.938732</td>\n      <td>30.316229</td>\n    </tr>\n    <tr>\n      <th>44</th>\n      <td>Самара ТЦ \"Мелодия\"</td>\n      <td>Samara mall \"Melody\"</td>\n      <td>44</td>\n      <td>[(Samara, 90), (Tara, 68), (Arzamas, 64), (Sha...</td>\n      <td>Samara</td>\n      <td>(53.198627, 50.113987)</td>\n      <td>53.198627</td>\n      <td>50.113987</td>\n    </tr>\n    <tr>\n      <th>45</th>\n      <td>Самара ТЦ \"ПаркХаус\"</td>\n      <td>Samara mall of \"Parkhouse\"</td>\n      <td>45</td>\n      <td>[(Samara, 90), (Tara, 68), (Arzamas, 64), (Gus...</td>\n      <td>Samara</td>\n      <td>(53.198627, 50.113987)</td>\n      <td>53.198627</td>\n      <td>50.113987</td>\n    </tr>\n    <tr>\n      <th>46</th>\n      <td>Сергиев Посад ТЦ \"7Я\"</td>\n      <td>Sergiev Posad TC \"7Ya\"</td>\n      <td>46</td>\n      <td>[(Sergiyev Posad, 86), (Georgiyevsk, 58), (Pyt...</td>\n      <td>Sergiyev Posad</td>\n      <td>(56.3153529, 38.1358208)</td>\n      <td>56.315353</td>\n      <td>38.135821</td>\n    </tr>\n    <tr>\n      <th>47</th>\n      <td>Сургут ТРЦ \"Сити Молл\"</td>\n      <td>Surgut SEC \"City Mall\"</td>\n      <td>47</td>\n      <td>[(Surgut, 90), (Chita, 54), (Yurga, 54), (Argu...</td>\n      <td>Surgut</td>\n      <td>(61.254032, 73.3964)</td>\n      <td>61.254032</td>\n      <td>73.396400</td>\n    </tr>\n    <tr>\n      <th>48</th>\n      <td>Томск ТРЦ \"Изумрудный Город\"</td>\n      <td>Tomsk SEC \"Emerald City\"</td>\n      <td>48</td>\n      <td>[(Omsk, 90), (Tomsk, 90), (Orsk, 68), (Orël, 6...</td>\n      <td>Omsk</td>\n      <td>(54.991375, 73.371529)</td>\n      <td>54.991375</td>\n      <td>73.371529</td>\n    </tr>\n    <tr>\n      <th>49</th>\n      <td>Тюмень ТРЦ \"Кристалл\"</td>\n      <td>Tyumen SEC \"Crystal\"</td>\n      <td>49</td>\n      <td>[(Tyumen, 90), (Shali, 60), (Tuapse, 57), (Ros...</td>\n      <td>Tyumen</td>\n      <td>(57.153534, 65.542274)</td>\n      <td>57.153534</td>\n      <td>65.542274</td>\n    </tr>\n    <tr>\n      <th>50</th>\n      <td>Тюмень ТЦ \"Гудвин\"</td>\n      <td>Tyumen SC \"Goodwin\"</td>\n      <td>50</td>\n      <td>[(Tyumen, 90), (Lensk, 54), (Kamen’-na-Obi, 52...</td>\n      <td>Tyumen</td>\n      <td>(57.153534, 65.542274)</td>\n      <td>57.153534</td>\n      <td>65.542274</td>\n    </tr>\n    <tr>\n      <th>51</th>\n      <td>Тюмень ТЦ \"Зеленый Берег\"</td>\n      <td>Tyumen SC \"Green Coast\"</td>\n      <td>51</td>\n      <td>[(Tyumen, 90), (Lensk, 54), (Pechora, 51), (Mt...</td>\n      <td>Tyumen</td>\n      <td>(57.153534, 65.542274)</td>\n      <td>57.153534</td>\n      <td>65.542274</td>\n    </tr>\n    <tr>\n      <th>52</th>\n      <td>Уфа ТК \"Центральный\"</td>\n      <td>Ufa TC \"Central\"</td>\n      <td>52</td>\n      <td>[(Ufa, 90), (Tara, 68), (Inta, 68), (Orël, 60)...</td>\n      <td>Ufa</td>\n      <td>(54.7261409, 55.947499)</td>\n      <td>54.726141</td>\n      <td>55.947499</td>\n    </tr>\n    <tr>\n      <th>53</th>\n      <td>Уфа ТЦ \"Семья\" 2</td>\n      <td>Ufa TC \"Family\" 2</td>\n      <td>53</td>\n      <td>[(Ufa, 90), (Artëm, 45), (Gatchina, 45), (Ust’...</td>\n      <td>Ufa</td>\n      <td>(54.7261409, 55.947499)</td>\n      <td>54.726141</td>\n      <td>55.947499</td>\n    </tr>\n    <tr>\n      <th>54</th>\n      <td>Химки ТЦ \"Мега\"</td>\n      <td>Khimki shopping center \"Mega\"</td>\n      <td>54</td>\n      <td>[(Khimki, 90), (Tver, 68), (Asha, 64), (Miass,...</td>\n      <td>Khimki</td>\n      <td>(55.8892847, 37.4449896)</td>\n      <td>55.889285</td>\n      <td>37.444990</td>\n    </tr>\n    <tr>\n      <th>55</th>\n      <td>Цифровой склад 1С-Онлайн</td>\n      <td>Digital storage 1C-line</td>\n      <td>55</td>\n      <td>[(Klin, 68), (Tara, 68), (Inta, 68), (Orël, 60...</td>\n      <td>Klin</td>\n      <td>(56.3355601, 36.7351318)</td>\n      <td>56.335560</td>\n      <td>36.735132</td>\n    </tr>\n    <tr>\n      <th>56</th>\n      <td>Чехов ТРЦ \"Карнавал\"</td>\n      <td>Czechs SEC \"Carnival\"</td>\n      <td>56</td>\n      <td>[(Barnaul, 64), (Uni, 60), (Sarov, 54), (Revda...</td>\n      <td>Barnaul</td>\n      <td>(53.347402, 83.7784496)</td>\n      <td>53.347402</td>\n      <td>83.778450</td>\n    </tr>\n    <tr>\n      <th>57</th>\n      <td>Якутск Орджоникидзе, 56</td>\n      <td>Yakutsk Ordzhonikidze, 56</td>\n      <td>57</td>\n      <td>[(Yakutsk, 90), (Kursk, 72), (Rezh, 68), (Irku...</td>\n      <td>Yakutsk</td>\n      <td>(62.027287, 129.732086)</td>\n      <td>62.027287</td>\n      <td>129.732086</td>\n    </tr>\n    <tr>\n      <th>58</th>\n      <td>Якутск ТЦ \"Центральный\"</td>\n      <td>Yakutsk TC \"Central\"</td>\n      <td>58</td>\n      <td>[(Yakutsk, 90), (Kursk, 72), (Tara, 68), (Inta...</td>\n      <td>Yakutsk</td>\n      <td>(62.027287, 129.732086)</td>\n      <td>62.027287</td>\n      <td>129.732086</td>\n    </tr>\n    <tr>\n      <th>59</th>\n      <td>Ярославль ТЦ \"Альтаир\"</td>\n      <td>Yaroslavl shopping center \"Altair\"</td>\n      <td>59</td>\n      <td>[(Yaroslavl, 90), (Roslavl, 90), (Alagir, 75),...</td>\n      <td>Yaroslavl</td>\n      <td>(57.6263877, 39.8933705)</td>\n      <td>57.626388</td>\n      <td>39.893371</td>\n    </tr>\n  </tbody>\n</table>\n</div>"
     },
     "metadata": {},
     "execution_count": 71
    },
    {
     "output_type": "stream",
     "name": "stdout",
     "text": [
      "time: 84.3 ms\n"
     ]
    }
   ],
   "source": [
    "shops"
   ]
  },
  {
   "cell_type": "code",
   "execution_count": null,
   "metadata": {},
   "outputs": [],
   "source": []
  }
 ]
}