{
 "cells": [
  {
   "cell_type": "code",
   "execution_count": 10,
   "metadata": {},
   "outputs": [],
   "source": [
    "%timeit\n",
    "\n",
    "\n"
   ]
  },
  {
   "cell_type": "code",
   "execution_count": 3,
   "metadata": {
    "cell_id": "00000-844a6f97-1759-49fd-baaf-164234f6c9d6",
    "deepnote_cell_type": "code",
    "deepnote_to_be_reexecuted": false,
    "execution_millis": 849,
    "execution_start": 1611951232357,
    "source_hash": "ad27abf0"
   },
   "outputs": [],
   "source": [
    "\n",
    "from sklearn.linear_model import LinearRegression\n",
    "from sklearn.neighbors import KNeighborsClassifier\n",
    "\n",
    "from sklearn.model_selection import train_test_split\n",
    "from sklearn.preprocessing import StandardScaler\n",
    "from sklearn.preprocessing import MinMaxScaler\n",
    "from sklearn.metrics import classification_report, confusion_matrix\n",
    "from sklearn.metrics import plot_confusion_matrix, ConfusionMatrixDisplay\n",
    "from sklearn.metrics import accuracy_score\n",
    "from sklearn.ensemble import GradientBoostingRegressor\n",
    "from sklearn.ensemble import RandomForestRegressor\n",
    "from sklearn.model_selection import GridSearchCV, StratifiedKFold, RepeatedStratifiedKFold\n",
    "from sklearn.pipeline import Pipeline\n",
    "import matplotlib.pyplot as plt \n",
    "import seaborn as sns\n",
    "from sklearn.model_selection import cross_val_score\n",
    "from sklearn.model_selection import KFold\n",
    "from sklearn.pipeline import Pipeline\n",
    "from sklearn.linear_model import HuberRegressor\n",
    "from sklearn.preprocessing import MinMaxScaler\n",
    "from sklearn.compose import TransformedTargetRegressor\n",
    "from sklearn.metrics import mean_squared_error\n",
    "from  sklearn.preprocessing import *\n",
    "from sklearn.linear_model import *\n",
    "from xgboost import XGBRegressor\n",
    "from sklearn import model_selection\n",
    "from sklearn.utils import class_weight\n",
    "import numpy as np\n",
    "import pandas as pd\n",
    "from numpy import mean, absolute, loadtxt\n",
    "import xgboost as xgb\n",
    "\n",
    "\n"
   ]
  },
  {
   "cell_type": "code",
   "execution_count": 4,
   "metadata": {},
   "outputs": [],
   "source": [
    "train = pd.read_parquet('ai-fall20/datasets/predict-future-sales/train_mod.parquet')\n",
    "test = pd.read_parquet('ai-fall20/datasets/predict-future-sales/test_mod.parquet')"
   ]
  },
  {
   "cell_type": "code",
   "execution_count": null,
   "metadata": {},
   "outputs": [],
   "source": []
  },
  {
   "cell_type": "code",
   "execution_count": 5,
   "metadata": {},
   "outputs": [
    {
     "output_type": "execute_result",
     "data": {
      "text/plain": [
       "   shop_id  item_id  date_block_num  month  year  categories   GDP  \\\n",
       "0       54        0              20      1  2014          40  64.1   \n",
       "1       55        1              15      4  2014          76  64.1   \n",
       "2       55        1              18      6  2014          76  64.1   \n",
       "3       55        1              19      4  2014          76  64.1   \n",
       "4       55        1              20     11  2014          76  64.1   \n",
       "\n",
       "   GDP_change   CPI  avg_basket  monthly_sales  \n",
       "0         0.7  11.4       552.7            1.0  \n",
       "1         0.7  11.4       552.7            2.0  \n",
       "2         0.7  11.4       552.7            1.0  \n",
       "3         0.7  11.4       552.7            1.0  \n",
       "4         0.7  11.4       552.7            1.0  "
      ],
      "text/html": "<div>\n<style scoped>\n    .dataframe tbody tr th:only-of-type {\n        vertical-align: middle;\n    }\n\n    .dataframe tbody tr th {\n        vertical-align: top;\n    }\n\n    .dataframe thead th {\n        text-align: right;\n    }\n</style>\n<table border=\"1\" class=\"dataframe\">\n  <thead>\n    <tr style=\"text-align: right;\">\n      <th></th>\n      <th>shop_id</th>\n      <th>item_id</th>\n      <th>date_block_num</th>\n      <th>month</th>\n      <th>year</th>\n      <th>categories</th>\n      <th>GDP</th>\n      <th>GDP_change</th>\n      <th>CPI</th>\n      <th>avg_basket</th>\n      <th>monthly_sales</th>\n    </tr>\n  </thead>\n  <tbody>\n    <tr>\n      <th>0</th>\n      <td>54</td>\n      <td>0</td>\n      <td>20</td>\n      <td>1</td>\n      <td>2014</td>\n      <td>40</td>\n      <td>64.1</td>\n      <td>0.7</td>\n      <td>11.4</td>\n      <td>552.7</td>\n      <td>1.0</td>\n    </tr>\n    <tr>\n      <th>1</th>\n      <td>55</td>\n      <td>1</td>\n      <td>15</td>\n      <td>4</td>\n      <td>2014</td>\n      <td>76</td>\n      <td>64.1</td>\n      <td>0.7</td>\n      <td>11.4</td>\n      <td>552.7</td>\n      <td>2.0</td>\n    </tr>\n    <tr>\n      <th>2</th>\n      <td>55</td>\n      <td>1</td>\n      <td>18</td>\n      <td>6</td>\n      <td>2014</td>\n      <td>76</td>\n      <td>64.1</td>\n      <td>0.7</td>\n      <td>11.4</td>\n      <td>552.7</td>\n      <td>1.0</td>\n    </tr>\n    <tr>\n      <th>3</th>\n      <td>55</td>\n      <td>1</td>\n      <td>19</td>\n      <td>4</td>\n      <td>2014</td>\n      <td>76</td>\n      <td>64.1</td>\n      <td>0.7</td>\n      <td>11.4</td>\n      <td>552.7</td>\n      <td>1.0</td>\n    </tr>\n    <tr>\n      <th>4</th>\n      <td>55</td>\n      <td>1</td>\n      <td>20</td>\n      <td>11</td>\n      <td>2014</td>\n      <td>76</td>\n      <td>64.1</td>\n      <td>0.7</td>\n      <td>11.4</td>\n      <td>552.7</td>\n      <td>1.0</td>\n    </tr>\n  </tbody>\n</table>\n</div>"
     },
     "metadata": {},
     "execution_count": 5
    }
   ],
   "source": [
    "train.head()"
   ]
  },
  {
   "cell_type": "code",
   "execution_count": 6,
   "metadata": {},
   "outputs": [
    {
     "output_type": "execute_result",
     "data": {
      "text/plain": [
       "   shop_id  item_id  date_block_num  month  year  categories   GDP  \\\n",
       "0        5     5037              34     11  2015          19  62.4   \n",
       "1        5     5320              34     11  2015          55  62.4   \n",
       "2        5     5233              34     11  2015          19  62.4   \n",
       "3        5     5232              34     11  2015          23  62.4   \n",
       "4        5     5268              34     11  2015          20  62.4   \n",
       "\n",
       "   GDP_change   CPI  avg_basket  \n",
       "0        -2.5  12.9       575.3  \n",
       "1        -2.5  12.9       575.3  \n",
       "2        -2.5  12.9       575.3  \n",
       "3        -2.5  12.9       575.3  \n",
       "4        -2.5  12.9       575.3  "
      ],
      "text/html": "<div>\n<style scoped>\n    .dataframe tbody tr th:only-of-type {\n        vertical-align: middle;\n    }\n\n    .dataframe tbody tr th {\n        vertical-align: top;\n    }\n\n    .dataframe thead th {\n        text-align: right;\n    }\n</style>\n<table border=\"1\" class=\"dataframe\">\n  <thead>\n    <tr style=\"text-align: right;\">\n      <th></th>\n      <th>shop_id</th>\n      <th>item_id</th>\n      <th>date_block_num</th>\n      <th>month</th>\n      <th>year</th>\n      <th>categories</th>\n      <th>GDP</th>\n      <th>GDP_change</th>\n      <th>CPI</th>\n      <th>avg_basket</th>\n    </tr>\n  </thead>\n  <tbody>\n    <tr>\n      <th>0</th>\n      <td>5</td>\n      <td>5037</td>\n      <td>34</td>\n      <td>11</td>\n      <td>2015</td>\n      <td>19</td>\n      <td>62.4</td>\n      <td>-2.5</td>\n      <td>12.9</td>\n      <td>575.3</td>\n    </tr>\n    <tr>\n      <th>1</th>\n      <td>5</td>\n      <td>5320</td>\n      <td>34</td>\n      <td>11</td>\n      <td>2015</td>\n      <td>55</td>\n      <td>62.4</td>\n      <td>-2.5</td>\n      <td>12.9</td>\n      <td>575.3</td>\n    </tr>\n    <tr>\n      <th>2</th>\n      <td>5</td>\n      <td>5233</td>\n      <td>34</td>\n      <td>11</td>\n      <td>2015</td>\n      <td>19</td>\n      <td>62.4</td>\n      <td>-2.5</td>\n      <td>12.9</td>\n      <td>575.3</td>\n    </tr>\n    <tr>\n      <th>3</th>\n      <td>5</td>\n      <td>5232</td>\n      <td>34</td>\n      <td>11</td>\n      <td>2015</td>\n      <td>23</td>\n      <td>62.4</td>\n      <td>-2.5</td>\n      <td>12.9</td>\n      <td>575.3</td>\n    </tr>\n    <tr>\n      <th>4</th>\n      <td>5</td>\n      <td>5268</td>\n      <td>34</td>\n      <td>11</td>\n      <td>2015</td>\n      <td>20</td>\n      <td>62.4</td>\n      <td>-2.5</td>\n      <td>12.9</td>\n      <td>575.3</td>\n    </tr>\n  </tbody>\n</table>\n</div>"
     },
     "metadata": {},
     "execution_count": 6
    }
   ],
   "source": [
    "test.head()"
   ]
  },
  {
   "cell_type": "code",
   "execution_count": 7,
   "metadata": {},
   "outputs": [],
   "source": [
    "X = train.drop('monthly_sales', axis=1)\n",
    "y = train.monthly_sales\n",
    "X_train, X_test, y_train, y_test = train_test_split(X, y, test_size = 0.30, random_state = 2)\n",
    "\n"
   ]
  },
  {
   "cell_type": "code",
   "execution_count": 8,
   "metadata": {},
   "outputs": [],
   "source": [
    "D_train = xgb.DMatrix(X_train, label=y_train)\n",
    "D_test = xgb.DMatrix(X_test, label= y_test)\n",
    "\n",
    "D_max = xgb.DMatrix(X, label= y)\n"
   ]
  },
  {
   "cell_type": "code",
   "execution_count": 7,
   "metadata": {},
   "outputs": [],
   "source": [
    "X_Train = train.drop('monthly_sales', axis=1)\n",
    "Y = train.monthly_sales"
   ]
  },
  {
   "cell_type": "code",
   "execution_count": 7,
   "metadata": {},
   "outputs": [
    {
     "output_type": "stream",
     "name": "stdout",
     "text": [
      "[1.890708  1.8247969 1.0597059 ... 1.9798101 2.1800852 2.091084 ]\n"
     ]
    },
    {
     "output_type": "execute_result",
     "data": {
      "text/plain": [
       "5.606980262197854"
      ]
     },
     "metadata": {},
     "execution_count": 7
    }
   ],
   "source": [
    "model = XGBRegressor(tree_method='gpu_hist', gpu_id=0, booster='dart',objective='reg:squarederror', random_state=2)\n",
    "model.fit(X_train, y_train)\n",
    "y_pred = (model.predict(X_test))\n",
    "print (y_pred)\n",
    "mean_squared_error(y_test, y_pred, squared=False)\n"
   ]
  },
  {
   "cell_type": "code",
   "execution_count": 8,
   "metadata": {},
   "outputs": [
    {
     "output_type": "stream",
     "name": "stdout",
     "text": [
      "[1.890718  1.8248005 1.0597084 ... 1.9798207 2.1800852 2.0910723]\n"
     ]
    },
    {
     "output_type": "execute_result",
     "data": {
      "text/plain": [
       "5.596025603529435"
      ]
     },
     "metadata": {},
     "execution_count": 8
    }
   ],
   "source": [
    "xgb = XGBRegressor(tree_method='gpu_hist', gpu_id=0, booster='dart',objective='reg:squarederror', random_state=2, min_child_weight=1)\n",
    "\n",
    "model = TransformedTargetRegressor(regressor=xgb, transformer=RobustScaler())\n",
    "model.fit(X_train, y_train)\n",
    "y_pred = (model.predict(X_test))\n",
    "\n",
    "\n",
    "print (y_pred)\n",
    "mean_squared_error(y_test, y_pred, squared=False)\n"
   ]
  },
  {
   "cell_type": "code",
   "execution_count": 12,
   "metadata": {},
   "outputs": [
    {
     "output_type": "execute_result",
     "data": {
      "text/plain": [
       "6.1804058519639575"
      ]
     },
     "metadata": {},
     "execution_count": 12
    }
   ],
   "source": [
    "param = {\n",
    "    'tree_method':'gpu_hist',\n",
    "    'gpu_id' : 0,\n",
    "    'booster':'dart',\n",
    "    'objective': 'reg:squarederror',\n",
    "    'random_state': 2,\n",
    "\n",
    "}\n",
    "\n",
    "epochs = 20 \n",
    "xmodel = xgb.train(param, D_train)\n",
    "preds = xmodel.predict(D_test)\n",
    "mean_squared_error(y_test, preds, squared=False)\n",
    "\n"
   ]
  },
  {
   "cell_type": "code",
   "execution_count": 13,
   "metadata": {},
   "outputs": [
    {
     "output_type": "execute_result",
     "data": {
      "text/plain": [
       "array([2., 2., 1., ..., 2., 2., 2.], dtype=float32)"
      ]
     },
     "metadata": {},
     "execution_count": 13
    }
   ],
   "source": [
    "y_pred2 = np.rint(y_pred)\n",
    "y_pred2"
   ]
  },
  {
   "cell_type": "code",
   "execution_count": null,
   "metadata": {},
   "outputs": [],
   "source": [
    "# buildsubmission\n",
    "# for final submission\n",
    "\n",
    "submission = pd.DataFrame()\n",
    "submission['ID'] = test['ID'].tolist()\n",
    "submission['item_cnt_month'] = y_pred\n",
    "\n",
    "submission.head()\n",
    "\n",
    "\n"
   ]
  },
  {
   "cell_type": "code",
   "execution_count": null,
   "metadata": {},
   "outputs": [],
   "source": [
    "submission.to_csv(\"ai-fall20/datasetssubmission.csv\", index=False)"
   ]
  },
  {
   "cell_type": "code",
   "execution_count": 48,
   "metadata": {},
   "outputs": [
    {
     "output_type": "stream",
     "name": "stderr",
     "text": [
      "D:\\miniconda3\\envs\\strive\\lib\\site-packages\\sklearn\\model_selection\\_split.py:666: UserWarning: The least populated class in y has only 1 members, which is less than n_splits=5.\n  warnings.warn((\"The least populated class in y has only %d\"\n"
     ]
    }
   ],
   "source": [
    "kfold = StratifiedKFold(n_splits=5, shuffle=True, random_state=2)\n",
    "cv = KFold(n_splits=5, shuffle=True, random_state=2)\n",
    "\n",
    "#the parameters can be built from the testing that goes on below\n",
    "model = XGBRegressor(tree_method='gpu_hist', gpu_id=0,booster='dart',objective='reg:squarederror', random_state=2)\n",
    "scores = cross_val_score(model, X, y, scoring='neg_mean_absolute_error', cv=kfold, n_jobs=-1)\n",
    "\n",
    "# convert scores to positive\n",
    "scores = absolute(scores)\n",
    "print(scores)\n",
    "\n",
    "# summarize the result\n",
    "s_mean = mean(scores)\n",
    "print('Mean MAE: %.3f' % (s_mean))\n",
    "\n",
    "\n"
   ]
  },
  {
   "cell_type": "code",
   "execution_count": 14,
   "metadata": {},
   "outputs": [
    {
     "output_type": "execute_result",
     "data": {
      "text/plain": [
       "8.545719516626946"
      ]
     },
     "metadata": {},
     "execution_count": 14
    }
   ],
   "source": [
    "# without pipeline\n",
    "min = MinMaxScaler()\n",
    "lr = LinearRegression()\n",
    "\n",
    "X_train = min.fit_transform(X_train)\n",
    "X_test =  min.transform(X_test)\n",
    "lr.fit(X_train,y_train)\n",
    "y_pred = lr.predict(X_test)\n",
    "mean_squared_error(y_test, y_pred, squared=False)\n",
    "\n",
    "\n"
   ]
  },
  {
   "cell_type": "code",
   "execution_count": null,
   "metadata": {},
   "outputs": [],
   "source": [
    "catdf = pd.read_csv('ai-fall20/datasets/predict-future-sales/item_categories_translated.csv')\n",
    "shopdf = pd.read_csv('ai-fall20/datasets/predict-future-sales/shops_translate.csv')\n",
    "df =pd.read_csv('ai-fall20/datasets/predict-future-sales/Train_mod.csv', nrows=1500)\n",
    "\n",
    "df.head(20)\n"
   ]
  },
  {
   "cell_type": "code",
   "execution_count": 15,
   "metadata": {},
   "outputs": [
    {
     "output_type": "stream",
     "name": "stdout",
     "text": [
      "Mean MAE: -1.552\n"
     ]
    }
   ],
   "source": [
    "kfold = StratifiedKFold(n_splits=2, shuffle=True, random_state=1)\n",
    "cv = KFold(n_splits=10, shuffle=True, random_state=1)\n",
    "\n",
    "xgr = XGBRegressor(tree_method='gpu_hist', gpu_id=0,booster='dart', objective='reg:squarederror', random_state=2, max_depth=2, min_child_weight=1 )\n",
    "scores = cross_val_score(xgr, X, y, scoring='neg_mean_absolute_error', cv=cv, n_jobs=1)\n",
    "s_mean = mean(scores)\n",
    "print('Mean MAE: %.3f' % (s_mean))\n",
    "\n"
   ]
  },
  {
   "cell_type": "code",
   "execution_count": 15,
   "metadata": {
    "tags": []
   },
   "outputs": [
    {
     "output_type": "stream",
     "name": "stderr",
     "text": [
      "D:\\miniconda3\\envs\\strive\\lib\\site-packages\\sklearn\\model_selection\\_split.py:666: UserWarning: The least populated class in y has only 1 members, which is less than n_splits=3.\n",
      "  warnings.warn((\"The least populated class in y has only %d\"\n",
      "Accuracy: [0.51 0.55 0.54]\n",
      "Acurracy mean: 0.54\n",
      "D:\\miniconda3\\envs\\strive\\lib\\site-packages\\sklearn\\model_selection\\_split.py:666: UserWarning: The least populated class in y has only 1 members, which is less than n_splits=3.\n",
      "  warnings.warn((\"The least populated class in y has only %d\"\n",
      "Mean MAE: -1.551\n"
     ]
    }
   ],
   "source": [
    "from sklearn.model_selection import cross_val_score, StratifiedKFold, GridSearchCV,RandomizedSearchCV\n",
    "\n",
    "\n",
    "kfold = StratifiedKFold(n_splits=3, shuffle=True, random_state=2)\n",
    "\n",
    "#the parameters can be built from the testing that goes on below\n",
    "xgb = XGBRegressor(tree_method='gpu_hist', gpu_id=0,booster='dart',objective='reg:squarederror', random_state=2)\n",
    "\n",
    "\n",
    "xgb.fit(X_train, y_train)\n",
    "y_prediction = xgb.predict(X_test)\n",
    "\n",
    "\n",
    "scores = cross_val_score(xgb, X,y, cv=kfold)\n",
    "print('Accuracy:', np.round(scores, 2))\n",
    "print('Acurracy mean: %0.2f' % (scores.mean()))\n",
    "\n",
    "scores = cross_val_score(xgr, X, y, scoring='neg_mean_absolute_error', cv=kfold, n_jobs=-1)\n",
    "s_mean = mean(scores)\n",
    "\n",
    "print('Mean MAE: %.3f' % (s_mean))\n",
    "\n",
    "\n",
    "\n"
   ]
  },
  {
   "cell_type": "markdown",
   "metadata": {},
   "source": [
    "### This function along with Kfold will help fine tune parameters"
   ]
  },
  {
   "cell_type": "code",
   "execution_count": 9,
   "metadata": {},
   "outputs": [],
   "source": [
    "from sklearn.model_selection import cross_val_score, StratifiedKFold, GridSearchCV,RandomizedSearchCV\n",
    "kfold = StratifiedKFold(n_splits=5, shuffle=True, random_state=2)\n",
    "\n",
    "\n",
    "\n",
    "def grid_search(params, random=False): \n",
    "    xgr = XGBRegressor(tree_method='gpu_hist', gpu_id=0,booster='dart', objective='reg:squarederror', random_state=2,max_depth=6, learning_rate=0.6, gamma=1 )\n",
    "    if random:\n",
    "        grid = RandomizedSearchCV(xgr, params, cv=kfold, n_iter=20, n_jobs=1, verbose=10)\n",
    "    else:\n",
    "        grid = GridSearchCV(xgr, params, cv=kfold, n_jobs=1, verbose=10)\n",
    "\n",
    "    grid.fit(X_train, y_train)\n",
    "    best_params = grid.best_params_\n",
    "    print(\"Best params:\", best_params)\n",
    "    best_score = grid.best_score_\n",
    "    print(\"Training score: {:.3f}\".format(best_score))\n",
    "\n",
    "\n",
    "    scores = cross_val_score(xgr, X,y, cv=kfold)\n",
    "    print('Accuracy:', np.round(scores, 2))\n",
    "    print('Acurracy mean: %0.2f' % (scores.mean()))\n",
    "\n",
    "    scores = cross_val_score(xgr, X, y, scoring='neg_mean_absolute_error', cv=kfold, n_jobs=1)\n",
    "    s_mean = mean(scores)\n",
    "\n",
    "    print('Mean MAE: %.3f' % (s_mean))"
   ]
  },
  {
   "cell_type": "markdown",
   "metadata": {},
   "source": [
    "### start fine tuning"
   ]
  },
  {
   "cell_type": "code",
   "execution_count": 24,
   "metadata": {},
   "outputs": [
    {
     "output_type": "stream",
     "name": "stdout",
     "text": [
      "Fitting 5 folds for each of 4 candidates, totalling 20 fits\n",
      "D:\\miniconda3\\envs\\strive\\lib\\site-packages\\sklearn\\model_selection\\_split.py:666: UserWarning: The least populated class in y has only 1 members, which is less than n_splits=5.\n",
      "  warnings.warn((\"The least populated class in y has only %d\"\n",
      "exception calling callback for <Future at 0x22312e81ee0 state=finished raised TerminatedWorkerError>\n",
      "Traceback (most recent call last):\n",
      "  File \"D:\\miniconda3\\envs\\strive\\lib\\site-packages\\joblib\\externals\\loky\\_base.py\", line 625, in _invoke_callbacks\n",
      "    callback(self)\n",
      "  File \"D:\\miniconda3\\envs\\strive\\lib\\site-packages\\joblib\\parallel.py\", line 359, in __call__\n",
      "    self.parallel.dispatch_next()\n",
      "  File \"D:\\miniconda3\\envs\\strive\\lib\\site-packages\\joblib\\parallel.py\", line 792, in dispatch_next\n",
      "    if not self.dispatch_one_batch(self._original_iterator):\n",
      "  File \"D:\\miniconda3\\envs\\strive\\lib\\site-packages\\joblib\\parallel.py\", line 859, in dispatch_one_batch\n",
      "    self._dispatch(tasks)\n",
      "  File \"D:\\miniconda3\\envs\\strive\\lib\\site-packages\\joblib\\parallel.py\", line 777, in _dispatch\n",
      "    job = self._backend.apply_async(batch, callback=cb)\n",
      "  File \"D:\\miniconda3\\envs\\strive\\lib\\site-packages\\joblib\\_parallel_backends.py\", line 531, in apply_async\n",
      "    future = self._workers.submit(SafeFunction(func))\n",
      "  File \"D:\\miniconda3\\envs\\strive\\lib\\site-packages\\joblib\\externals\\loky\\reusable_executor.py\", line 177, in submit\n",
      "    return super(_ReusablePoolExecutor, self).submit(\n",
      "  File \"D:\\miniconda3\\envs\\strive\\lib\\site-packages\\joblib\\externals\\loky\\process_executor.py\", line 1102, in submit\n",
      "    raise self._flags.broken\n",
      "joblib.externals.loky.process_executor.TerminatedWorkerError: A worker process managed by the executor was unexpectedly terminated. This could be caused by a segmentation fault while calling the function or by an excessive memory usage causing the Operating System to kill the worker.\n",
      "\n"
     ]
    },
    {
     "output_type": "error",
     "ename": "KeyboardInterrupt",
     "evalue": "",
     "traceback": [
      "\u001b[1;31m---------------------------------------------------------------------------\u001b[0m",
      "\u001b[1;31mKeyboardInterrupt\u001b[0m                         Traceback (most recent call last)",
      "\u001b[1;32m<ipython-input-24-6326d4c45369>\u001b[0m in \u001b[0;36m<module>\u001b[1;34m\u001b[0m\n\u001b[1;32m----> 1\u001b[1;33m \u001b[0mgrid_search\u001b[0m\u001b[1;33m(\u001b[0m\u001b[0mparams\u001b[0m\u001b[1;33m=\u001b[0m\u001b[1;33m{\u001b[0m\u001b[1;34m'n_estimators'\u001b[0m\u001b[1;33m:\u001b[0m\u001b[1;33m[\u001b[0m\u001b[1;36m100\u001b[0m\u001b[1;33m,\u001b[0m\u001b[1;36m200\u001b[0m\u001b[1;33m,\u001b[0m\u001b[1;36m400\u001b[0m\u001b[1;33m,\u001b[0m\u001b[1;36m800\u001b[0m\u001b[1;33m]\u001b[0m\u001b[1;33m}\u001b[0m\u001b[1;33m,\u001b[0m\u001b[0mrandom\u001b[0m\u001b[1;33m=\u001b[0m\u001b[1;32mFalse\u001b[0m\u001b[1;33m)\u001b[0m\u001b[1;33m\u001b[0m\u001b[1;33m\u001b[0m\u001b[0m\n\u001b[0m\u001b[0;32m      2\u001b[0m \u001b[1;31m#800\u001b[0m\u001b[1;33m\u001b[0m\u001b[1;33m\u001b[0m\u001b[1;33m\u001b[0m\u001b[0m\n",
      "\u001b[1;32m<ipython-input-23-f76f5df027be>\u001b[0m in \u001b[0;36mgrid_search\u001b[1;34m(params, random)\u001b[0m\n\u001b[0;32m     11\u001b[0m         \u001b[0mgrid\u001b[0m \u001b[1;33m=\u001b[0m \u001b[0mGridSearchCV\u001b[0m\u001b[1;33m(\u001b[0m\u001b[0mxgr\u001b[0m\u001b[1;33m,\u001b[0m \u001b[0mparams\u001b[0m\u001b[1;33m,\u001b[0m \u001b[0mcv\u001b[0m\u001b[1;33m=\u001b[0m\u001b[0mkfold\u001b[0m\u001b[1;33m,\u001b[0m \u001b[0mn_jobs\u001b[0m\u001b[1;33m=\u001b[0m\u001b[1;36m2\u001b[0m\u001b[1;33m,\u001b[0m \u001b[0mverbose\u001b[0m\u001b[1;33m=\u001b[0m\u001b[1;36m5\u001b[0m\u001b[1;33m)\u001b[0m\u001b[1;33m\u001b[0m\u001b[1;33m\u001b[0m\u001b[0m\n\u001b[0;32m     12\u001b[0m \u001b[1;33m\u001b[0m\u001b[0m\n\u001b[1;32m---> 13\u001b[1;33m     \u001b[0mgrid\u001b[0m\u001b[1;33m.\u001b[0m\u001b[0mfit\u001b[0m\u001b[1;33m(\u001b[0m\u001b[0mX_train\u001b[0m\u001b[1;33m,\u001b[0m \u001b[0my_train\u001b[0m\u001b[1;33m)\u001b[0m\u001b[1;33m\u001b[0m\u001b[1;33m\u001b[0m\u001b[0m\n\u001b[0m\u001b[0;32m     14\u001b[0m     \u001b[0mbest_params\u001b[0m \u001b[1;33m=\u001b[0m \u001b[0mgrid\u001b[0m\u001b[1;33m.\u001b[0m\u001b[0mbest_params_\u001b[0m\u001b[1;33m\u001b[0m\u001b[1;33m\u001b[0m\u001b[0m\n\u001b[0;32m     15\u001b[0m     \u001b[0mprint\u001b[0m\u001b[1;33m(\u001b[0m\u001b[1;34m\"Best params:\"\u001b[0m\u001b[1;33m,\u001b[0m \u001b[0mbest_params\u001b[0m\u001b[1;33m)\u001b[0m\u001b[1;33m\u001b[0m\u001b[1;33m\u001b[0m\u001b[0m\n",
      "\u001b[1;32mD:\\miniconda3\\envs\\strive\\lib\\site-packages\\sklearn\\utils\\validation.py\u001b[0m in \u001b[0;36minner_f\u001b[1;34m(*args, **kwargs)\u001b[0m\n\u001b[0;32m     61\u001b[0m             \u001b[0mextra_args\u001b[0m \u001b[1;33m=\u001b[0m \u001b[0mlen\u001b[0m\u001b[1;33m(\u001b[0m\u001b[0margs\u001b[0m\u001b[1;33m)\u001b[0m \u001b[1;33m-\u001b[0m \u001b[0mlen\u001b[0m\u001b[1;33m(\u001b[0m\u001b[0mall_args\u001b[0m\u001b[1;33m)\u001b[0m\u001b[1;33m\u001b[0m\u001b[1;33m\u001b[0m\u001b[0m\n\u001b[0;32m     62\u001b[0m             \u001b[1;32mif\u001b[0m \u001b[0mextra_args\u001b[0m \u001b[1;33m<=\u001b[0m \u001b[1;36m0\u001b[0m\u001b[1;33m:\u001b[0m\u001b[1;33m\u001b[0m\u001b[1;33m\u001b[0m\u001b[0m\n\u001b[1;32m---> 63\u001b[1;33m                 \u001b[1;32mreturn\u001b[0m \u001b[0mf\u001b[0m\u001b[1;33m(\u001b[0m\u001b[1;33m*\u001b[0m\u001b[0margs\u001b[0m\u001b[1;33m,\u001b[0m \u001b[1;33m**\u001b[0m\u001b[0mkwargs\u001b[0m\u001b[1;33m)\u001b[0m\u001b[1;33m\u001b[0m\u001b[1;33m\u001b[0m\u001b[0m\n\u001b[0m\u001b[0;32m     64\u001b[0m \u001b[1;33m\u001b[0m\u001b[0m\n\u001b[0;32m     65\u001b[0m             \u001b[1;31m# extra_args > 0\u001b[0m\u001b[1;33m\u001b[0m\u001b[1;33m\u001b[0m\u001b[1;33m\u001b[0m\u001b[0m\n",
      "\u001b[1;32mD:\\miniconda3\\envs\\strive\\lib\\site-packages\\sklearn\\model_selection\\_search.py\u001b[0m in \u001b[0;36mfit\u001b[1;34m(self, X, y, groups, **fit_params)\u001b[0m\n\u001b[0;32m    839\u001b[0m                 \u001b[1;32mreturn\u001b[0m \u001b[0mresults\u001b[0m\u001b[1;33m\u001b[0m\u001b[1;33m\u001b[0m\u001b[0m\n\u001b[0;32m    840\u001b[0m \u001b[1;33m\u001b[0m\u001b[0m\n\u001b[1;32m--> 841\u001b[1;33m             \u001b[0mself\u001b[0m\u001b[1;33m.\u001b[0m\u001b[0m_run_search\u001b[0m\u001b[1;33m(\u001b[0m\u001b[0mevaluate_candidates\u001b[0m\u001b[1;33m)\u001b[0m\u001b[1;33m\u001b[0m\u001b[1;33m\u001b[0m\u001b[0m\n\u001b[0m\u001b[0;32m    842\u001b[0m \u001b[1;33m\u001b[0m\u001b[0m\n\u001b[0;32m    843\u001b[0m             \u001b[1;31m# multimetric is determined here because in the case of a callable\u001b[0m\u001b[1;33m\u001b[0m\u001b[1;33m\u001b[0m\u001b[1;33m\u001b[0m\u001b[0m\n",
      "\u001b[1;32mD:\\miniconda3\\envs\\strive\\lib\\site-packages\\sklearn\\model_selection\\_search.py\u001b[0m in \u001b[0;36m_run_search\u001b[1;34m(self, evaluate_candidates)\u001b[0m\n\u001b[0;32m   1286\u001b[0m     \u001b[1;32mdef\u001b[0m \u001b[0m_run_search\u001b[0m\u001b[1;33m(\u001b[0m\u001b[0mself\u001b[0m\u001b[1;33m,\u001b[0m \u001b[0mevaluate_candidates\u001b[0m\u001b[1;33m)\u001b[0m\u001b[1;33m:\u001b[0m\u001b[1;33m\u001b[0m\u001b[1;33m\u001b[0m\u001b[0m\n\u001b[0;32m   1287\u001b[0m         \u001b[1;34m\"\"\"Search all candidates in param_grid\"\"\"\u001b[0m\u001b[1;33m\u001b[0m\u001b[1;33m\u001b[0m\u001b[0m\n\u001b[1;32m-> 1288\u001b[1;33m         \u001b[0mevaluate_candidates\u001b[0m\u001b[1;33m(\u001b[0m\u001b[0mParameterGrid\u001b[0m\u001b[1;33m(\u001b[0m\u001b[0mself\u001b[0m\u001b[1;33m.\u001b[0m\u001b[0mparam_grid\u001b[0m\u001b[1;33m)\u001b[0m\u001b[1;33m)\u001b[0m\u001b[1;33m\u001b[0m\u001b[1;33m\u001b[0m\u001b[0m\n\u001b[0m\u001b[0;32m   1289\u001b[0m \u001b[1;33m\u001b[0m\u001b[0m\n\u001b[0;32m   1290\u001b[0m \u001b[1;33m\u001b[0m\u001b[0m\n",
      "\u001b[1;32mD:\\miniconda3\\envs\\strive\\lib\\site-packages\\sklearn\\model_selection\\_search.py\u001b[0m in \u001b[0;36mevaluate_candidates\u001b[1;34m(candidate_params, cv, more_results)\u001b[0m\n\u001b[0;32m    793\u001b[0m                               n_splits, n_candidates, n_candidates * n_splits))\n\u001b[0;32m    794\u001b[0m \u001b[1;33m\u001b[0m\u001b[0m\n\u001b[1;32m--> 795\u001b[1;33m                 out = parallel(delayed(_fit_and_score)(clone(base_estimator),\n\u001b[0m\u001b[0;32m    796\u001b[0m                                                        \u001b[0mX\u001b[0m\u001b[1;33m,\u001b[0m \u001b[0my\u001b[0m\u001b[1;33m,\u001b[0m\u001b[1;33m\u001b[0m\u001b[1;33m\u001b[0m\u001b[0m\n\u001b[0;32m    797\u001b[0m                                                        \u001b[0mtrain\u001b[0m\u001b[1;33m=\u001b[0m\u001b[0mtrain\u001b[0m\u001b[1;33m,\u001b[0m \u001b[0mtest\u001b[0m\u001b[1;33m=\u001b[0m\u001b[0mtest\u001b[0m\u001b[1;33m,\u001b[0m\u001b[1;33m\u001b[0m\u001b[1;33m\u001b[0m\u001b[0m\n",
      "\u001b[1;32mD:\\miniconda3\\envs\\strive\\lib\\site-packages\\joblib\\parallel.py\u001b[0m in \u001b[0;36m__call__\u001b[1;34m(self, iterable)\u001b[0m\n\u001b[0;32m   1052\u001b[0m \u001b[1;33m\u001b[0m\u001b[0m\n\u001b[0;32m   1053\u001b[0m             \u001b[1;32mwith\u001b[0m \u001b[0mself\u001b[0m\u001b[1;33m.\u001b[0m\u001b[0m_backend\u001b[0m\u001b[1;33m.\u001b[0m\u001b[0mretrieval_context\u001b[0m\u001b[1;33m(\u001b[0m\u001b[1;33m)\u001b[0m\u001b[1;33m:\u001b[0m\u001b[1;33m\u001b[0m\u001b[1;33m\u001b[0m\u001b[0m\n\u001b[1;32m-> 1054\u001b[1;33m                 \u001b[0mself\u001b[0m\u001b[1;33m.\u001b[0m\u001b[0mretrieve\u001b[0m\u001b[1;33m(\u001b[0m\u001b[1;33m)\u001b[0m\u001b[1;33m\u001b[0m\u001b[1;33m\u001b[0m\u001b[0m\n\u001b[0m\u001b[0;32m   1055\u001b[0m             \u001b[1;31m# Make sure that we get a last message telling us we are done\u001b[0m\u001b[1;33m\u001b[0m\u001b[1;33m\u001b[0m\u001b[1;33m\u001b[0m\u001b[0m\n\u001b[0;32m   1056\u001b[0m             \u001b[0melapsed_time\u001b[0m \u001b[1;33m=\u001b[0m \u001b[0mtime\u001b[0m\u001b[1;33m.\u001b[0m\u001b[0mtime\u001b[0m\u001b[1;33m(\u001b[0m\u001b[1;33m)\u001b[0m \u001b[1;33m-\u001b[0m \u001b[0mself\u001b[0m\u001b[1;33m.\u001b[0m\u001b[0m_start_time\u001b[0m\u001b[1;33m\u001b[0m\u001b[1;33m\u001b[0m\u001b[0m\n",
      "\u001b[1;32mD:\\miniconda3\\envs\\strive\\lib\\site-packages\\joblib\\parallel.py\u001b[0m in \u001b[0;36mretrieve\u001b[1;34m(self)\u001b[0m\n\u001b[0;32m    931\u001b[0m             \u001b[1;32mtry\u001b[0m\u001b[1;33m:\u001b[0m\u001b[1;33m\u001b[0m\u001b[1;33m\u001b[0m\u001b[0m\n\u001b[0;32m    932\u001b[0m                 \u001b[1;32mif\u001b[0m \u001b[0mgetattr\u001b[0m\u001b[1;33m(\u001b[0m\u001b[0mself\u001b[0m\u001b[1;33m.\u001b[0m\u001b[0m_backend\u001b[0m\u001b[1;33m,\u001b[0m \u001b[1;34m'supports_timeout'\u001b[0m\u001b[1;33m,\u001b[0m \u001b[1;32mFalse\u001b[0m\u001b[1;33m)\u001b[0m\u001b[1;33m:\u001b[0m\u001b[1;33m\u001b[0m\u001b[1;33m\u001b[0m\u001b[0m\n\u001b[1;32m--> 933\u001b[1;33m                     \u001b[0mself\u001b[0m\u001b[1;33m.\u001b[0m\u001b[0m_output\u001b[0m\u001b[1;33m.\u001b[0m\u001b[0mextend\u001b[0m\u001b[1;33m(\u001b[0m\u001b[0mjob\u001b[0m\u001b[1;33m.\u001b[0m\u001b[0mget\u001b[0m\u001b[1;33m(\u001b[0m\u001b[0mtimeout\u001b[0m\u001b[1;33m=\u001b[0m\u001b[0mself\u001b[0m\u001b[1;33m.\u001b[0m\u001b[0mtimeout\u001b[0m\u001b[1;33m)\u001b[0m\u001b[1;33m)\u001b[0m\u001b[1;33m\u001b[0m\u001b[1;33m\u001b[0m\u001b[0m\n\u001b[0m\u001b[0;32m    934\u001b[0m                 \u001b[1;32melse\u001b[0m\u001b[1;33m:\u001b[0m\u001b[1;33m\u001b[0m\u001b[1;33m\u001b[0m\u001b[0m\n\u001b[0;32m    935\u001b[0m                     \u001b[0mself\u001b[0m\u001b[1;33m.\u001b[0m\u001b[0m_output\u001b[0m\u001b[1;33m.\u001b[0m\u001b[0mextend\u001b[0m\u001b[1;33m(\u001b[0m\u001b[0mjob\u001b[0m\u001b[1;33m.\u001b[0m\u001b[0mget\u001b[0m\u001b[1;33m(\u001b[0m\u001b[1;33m)\u001b[0m\u001b[1;33m)\u001b[0m\u001b[1;33m\u001b[0m\u001b[1;33m\u001b[0m\u001b[0m\n",
      "\u001b[1;32mD:\\miniconda3\\envs\\strive\\lib\\site-packages\\joblib\\_parallel_backends.py\u001b[0m in \u001b[0;36mwrap_future_result\u001b[1;34m(future, timeout)\u001b[0m\n\u001b[0;32m    540\u001b[0m         AsyncResults.get from multiprocessing.\"\"\"\n\u001b[0;32m    541\u001b[0m         \u001b[1;32mtry\u001b[0m\u001b[1;33m:\u001b[0m\u001b[1;33m\u001b[0m\u001b[1;33m\u001b[0m\u001b[0m\n\u001b[1;32m--> 542\u001b[1;33m             \u001b[1;32mreturn\u001b[0m \u001b[0mfuture\u001b[0m\u001b[1;33m.\u001b[0m\u001b[0mresult\u001b[0m\u001b[1;33m(\u001b[0m\u001b[0mtimeout\u001b[0m\u001b[1;33m=\u001b[0m\u001b[0mtimeout\u001b[0m\u001b[1;33m)\u001b[0m\u001b[1;33m\u001b[0m\u001b[1;33m\u001b[0m\u001b[0m\n\u001b[0m\u001b[0;32m    543\u001b[0m         \u001b[1;32mexcept\u001b[0m \u001b[0mCfTimeoutError\u001b[0m \u001b[1;32mas\u001b[0m \u001b[0me\u001b[0m\u001b[1;33m:\u001b[0m\u001b[1;33m\u001b[0m\u001b[1;33m\u001b[0m\u001b[0m\n\u001b[0;32m    544\u001b[0m             \u001b[1;32mraise\u001b[0m \u001b[0mTimeoutError\u001b[0m \u001b[1;32mfrom\u001b[0m \u001b[0me\u001b[0m\u001b[1;33m\u001b[0m\u001b[1;33m\u001b[0m\u001b[0m\n",
      "\u001b[1;32mD:\\miniconda3\\envs\\strive\\lib\\concurrent\\futures\\_base.py\u001b[0m in \u001b[0;36mresult\u001b[1;34m(self, timeout)\u001b[0m\n\u001b[0;32m    432\u001b[0m                 \u001b[1;32mreturn\u001b[0m \u001b[0mself\u001b[0m\u001b[1;33m.\u001b[0m\u001b[0m__get_result\u001b[0m\u001b[1;33m(\u001b[0m\u001b[1;33m)\u001b[0m\u001b[1;33m\u001b[0m\u001b[1;33m\u001b[0m\u001b[0m\n\u001b[0;32m    433\u001b[0m \u001b[1;33m\u001b[0m\u001b[0m\n\u001b[1;32m--> 434\u001b[1;33m             \u001b[0mself\u001b[0m\u001b[1;33m.\u001b[0m\u001b[0m_condition\u001b[0m\u001b[1;33m.\u001b[0m\u001b[0mwait\u001b[0m\u001b[1;33m(\u001b[0m\u001b[0mtimeout\u001b[0m\u001b[1;33m)\u001b[0m\u001b[1;33m\u001b[0m\u001b[1;33m\u001b[0m\u001b[0m\n\u001b[0m\u001b[0;32m    435\u001b[0m \u001b[1;33m\u001b[0m\u001b[0m\n\u001b[0;32m    436\u001b[0m             \u001b[1;32mif\u001b[0m \u001b[0mself\u001b[0m\u001b[1;33m.\u001b[0m\u001b[0m_state\u001b[0m \u001b[1;32min\u001b[0m \u001b[1;33m[\u001b[0m\u001b[0mCANCELLED\u001b[0m\u001b[1;33m,\u001b[0m \u001b[0mCANCELLED_AND_NOTIFIED\u001b[0m\u001b[1;33m]\u001b[0m\u001b[1;33m:\u001b[0m\u001b[1;33m\u001b[0m\u001b[1;33m\u001b[0m\u001b[0m\n",
      "\u001b[1;32mD:\\miniconda3\\envs\\strive\\lib\\threading.py\u001b[0m in \u001b[0;36mwait\u001b[1;34m(self, timeout)\u001b[0m\n\u001b[0;32m    300\u001b[0m         \u001b[1;32mtry\u001b[0m\u001b[1;33m:\u001b[0m    \u001b[1;31m# restore state no matter what (e.g., KeyboardInterrupt)\u001b[0m\u001b[1;33m\u001b[0m\u001b[1;33m\u001b[0m\u001b[0m\n\u001b[0;32m    301\u001b[0m             \u001b[1;32mif\u001b[0m \u001b[0mtimeout\u001b[0m \u001b[1;32mis\u001b[0m \u001b[1;32mNone\u001b[0m\u001b[1;33m:\u001b[0m\u001b[1;33m\u001b[0m\u001b[1;33m\u001b[0m\u001b[0m\n\u001b[1;32m--> 302\u001b[1;33m                 \u001b[0mwaiter\u001b[0m\u001b[1;33m.\u001b[0m\u001b[0macquire\u001b[0m\u001b[1;33m(\u001b[0m\u001b[1;33m)\u001b[0m\u001b[1;33m\u001b[0m\u001b[1;33m\u001b[0m\u001b[0m\n\u001b[0m\u001b[0;32m    303\u001b[0m                 \u001b[0mgotit\u001b[0m \u001b[1;33m=\u001b[0m \u001b[1;32mTrue\u001b[0m\u001b[1;33m\u001b[0m\u001b[1;33m\u001b[0m\u001b[0m\n\u001b[0;32m    304\u001b[0m             \u001b[1;32melse\u001b[0m\u001b[1;33m:\u001b[0m\u001b[1;33m\u001b[0m\u001b[1;33m\u001b[0m\u001b[0m\n",
      "\u001b[1;31mKeyboardInterrupt\u001b[0m: "
     ]
    }
   ],
   "source": [
    "grid_search(params={'n_estimators':[100,200,400,800]},random=False\n",
    "#800"
   ]
  },
  {
   "cell_type": "code",
   "execution_count": 26,
   "metadata": {},
   "outputs": [
    {
     "output_type": "stream",
     "name": "stderr",
     "text": [
      "D:\\miniconda3\\envs\\strive\\lib\\site-packages\\sklearn\\model_selection\\_search.py:285: UserWarning: The total space of parameters 5 is smaller than n_iter=20. Running 5 iterations. For exhaustive searches, use GridSearchCV.\n",
      "  warnings.warn(\n",
      "D:\\miniconda3\\envs\\strive\\lib\\site-packages\\sklearn\\model_selection\\_split.py:666: UserWarning: The least populated class in y has only 1 members, which is less than n_splits=5.\n",
      "  warnings.warn((\"The least populated class in y has only %d\"\n",
      "Fitting 5 folds for each of 5 candidates, totalling 25 fits\n",
      "[CV 1/5] END ....................................max_depth=2; total time=  11.2s\n",
      "[CV 2/5] END ....................................max_depth=2; total time=  11.2s\n",
      "[CV 3/5] END ....................................max_depth=2; total time=  12.0s\n",
      "[CV 4/5] END ....................................max_depth=2; total time=  12.4s\n",
      "[CV 5/5] END ....................................max_depth=2; total time=  12.9s\n",
      "[CV 1/5] END ....................................max_depth=3; total time=  15.6s\n",
      "[CV 2/5] END ....................................max_depth=3; total time=  17.3s\n",
      "[CV 3/5] END ....................................max_depth=3; total time=  17.6s\n",
      "[CV 4/5] END ....................................max_depth=3; total time=  17.4s\n",
      "[CV 5/5] END ....................................max_depth=3; total time=  16.5s\n",
      "[CV 1/5] END ....................................max_depth=5; total time=  26.4s\n",
      "[CV 2/5] END ....................................max_depth=5; total time=  24.5s\n",
      "[CV 3/5] END ....................................max_depth=5; total time=  25.9s\n",
      "[CV 4/5] END ....................................max_depth=5; total time=  24.8s\n",
      "[CV 5/5] END ....................................max_depth=5; total time=  25.0s\n",
      "[CV 1/5] END ....................................max_depth=6; total time=  31.8s\n",
      "[CV 2/5] END ....................................max_depth=6; total time=  29.9s\n",
      "[CV 3/5] END ....................................max_depth=6; total time=  30.7s\n",
      "[CV 4/5] END ....................................max_depth=6; total time=  30.5s\n",
      "[CV 5/5] END ....................................max_depth=6; total time=  32.4s\n",
      "[CV 1/5] END ....................................max_depth=8; total time=  44.4s\n",
      "[CV 2/5] END ....................................max_depth=8; total time=  45.5s\n",
      "[CV 3/5] END ....................................max_depth=8; total time=  44.7s\n",
      "[CV 4/5] END ....................................max_depth=8; total time=  44.8s\n",
      "[CV 5/5] END ....................................max_depth=8; total time=  44.7s\n",
      "Best params: {'max_depth': 6}\n",
      "Training score: 0.471\n",
      "D:\\miniconda3\\envs\\strive\\lib\\site-packages\\sklearn\\model_selection\\_split.py:666: UserWarning: The least populated class in y has only 1 members, which is less than n_splits=5.\n",
      "  warnings.warn((\"The least populated class in y has only %d\"\n"
     ]
    },
    {
     "output_type": "error",
     "ename": "KeyboardInterrupt",
     "evalue": "",
     "traceback": [
      "\u001b[1;31m---------------------------------------------------------------------------\u001b[0m",
      "\u001b[1;31mKeyboardInterrupt\u001b[0m                         Traceback (most recent call last)",
      "\u001b[1;32m<ipython-input-26-179437db490c>\u001b[0m in \u001b[0;36m<module>\u001b[1;34m\u001b[0m\n\u001b[1;32m----> 1\u001b[1;33m \u001b[0mgrid_search\u001b[0m\u001b[1;33m(\u001b[0m\u001b[0mparams\u001b[0m\u001b[1;33m=\u001b[0m\u001b[1;33m{\u001b[0m\u001b[1;34m'max_depth'\u001b[0m\u001b[1;33m:\u001b[0m\u001b[1;33m[\u001b[0m\u001b[1;36m2\u001b[0m\u001b[1;33m,\u001b[0m \u001b[1;36m3\u001b[0m\u001b[1;33m,\u001b[0m \u001b[1;36m5\u001b[0m\u001b[1;33m,\u001b[0m \u001b[1;36m6\u001b[0m\u001b[1;33m,\u001b[0m \u001b[1;36m8\u001b[0m\u001b[1;33m]\u001b[0m\u001b[1;33m}\u001b[0m\u001b[1;33m,\u001b[0m \u001b[0mrandom\u001b[0m\u001b[1;33m=\u001b[0m\u001b[1;32mTrue\u001b[0m\u001b[1;33m)\u001b[0m\u001b[1;33m\u001b[0m\u001b[1;33m\u001b[0m\u001b[0m\n\u001b[0m",
      "\u001b[1;32m<ipython-input-25-c473bea479a4>\u001b[0m in \u001b[0;36mgrid_search\u001b[1;34m(params, random)\u001b[0m\n\u001b[0;32m     18\u001b[0m \u001b[1;33m\u001b[0m\u001b[0m\n\u001b[0;32m     19\u001b[0m \u001b[1;33m\u001b[0m\u001b[0m\n\u001b[1;32m---> 20\u001b[1;33m     \u001b[0mscores\u001b[0m \u001b[1;33m=\u001b[0m \u001b[0mcross_val_score\u001b[0m\u001b[1;33m(\u001b[0m\u001b[0mxgr\u001b[0m\u001b[1;33m,\u001b[0m \u001b[0mX\u001b[0m\u001b[1;33m,\u001b[0m\u001b[0my\u001b[0m\u001b[1;33m,\u001b[0m \u001b[0mcv\u001b[0m\u001b[1;33m=\u001b[0m\u001b[0mkfold\u001b[0m\u001b[1;33m)\u001b[0m\u001b[1;33m\u001b[0m\u001b[1;33m\u001b[0m\u001b[0m\n\u001b[0m\u001b[0;32m     21\u001b[0m     \u001b[0mprint\u001b[0m\u001b[1;33m(\u001b[0m\u001b[1;34m'Accuracy:'\u001b[0m\u001b[1;33m,\u001b[0m \u001b[0mnp\u001b[0m\u001b[1;33m.\u001b[0m\u001b[0mround\u001b[0m\u001b[1;33m(\u001b[0m\u001b[0mscores\u001b[0m\u001b[1;33m,\u001b[0m \u001b[1;36m2\u001b[0m\u001b[1;33m)\u001b[0m\u001b[1;33m)\u001b[0m\u001b[1;33m\u001b[0m\u001b[1;33m\u001b[0m\u001b[0m\n\u001b[0;32m     22\u001b[0m     \u001b[0mprint\u001b[0m\u001b[1;33m(\u001b[0m\u001b[1;34m'Acurracy mean: %0.2f'\u001b[0m \u001b[1;33m%\u001b[0m \u001b[1;33m(\u001b[0m\u001b[0mscores\u001b[0m\u001b[1;33m.\u001b[0m\u001b[0mmean\u001b[0m\u001b[1;33m(\u001b[0m\u001b[1;33m)\u001b[0m\u001b[1;33m)\u001b[0m\u001b[1;33m)\u001b[0m\u001b[1;33m\u001b[0m\u001b[1;33m\u001b[0m\u001b[0m\n",
      "\u001b[1;32mD:\\miniconda3\\envs\\strive\\lib\\site-packages\\sklearn\\utils\\validation.py\u001b[0m in \u001b[0;36minner_f\u001b[1;34m(*args, **kwargs)\u001b[0m\n\u001b[0;32m     61\u001b[0m             \u001b[0mextra_args\u001b[0m \u001b[1;33m=\u001b[0m \u001b[0mlen\u001b[0m\u001b[1;33m(\u001b[0m\u001b[0margs\u001b[0m\u001b[1;33m)\u001b[0m \u001b[1;33m-\u001b[0m \u001b[0mlen\u001b[0m\u001b[1;33m(\u001b[0m\u001b[0mall_args\u001b[0m\u001b[1;33m)\u001b[0m\u001b[1;33m\u001b[0m\u001b[1;33m\u001b[0m\u001b[0m\n\u001b[0;32m     62\u001b[0m             \u001b[1;32mif\u001b[0m \u001b[0mextra_args\u001b[0m \u001b[1;33m<=\u001b[0m \u001b[1;36m0\u001b[0m\u001b[1;33m:\u001b[0m\u001b[1;33m\u001b[0m\u001b[1;33m\u001b[0m\u001b[0m\n\u001b[1;32m---> 63\u001b[1;33m                 \u001b[1;32mreturn\u001b[0m \u001b[0mf\u001b[0m\u001b[1;33m(\u001b[0m\u001b[1;33m*\u001b[0m\u001b[0margs\u001b[0m\u001b[1;33m,\u001b[0m \u001b[1;33m**\u001b[0m\u001b[0mkwargs\u001b[0m\u001b[1;33m)\u001b[0m\u001b[1;33m\u001b[0m\u001b[1;33m\u001b[0m\u001b[0m\n\u001b[0m\u001b[0;32m     64\u001b[0m \u001b[1;33m\u001b[0m\u001b[0m\n\u001b[0;32m     65\u001b[0m             \u001b[1;31m# extra_args > 0\u001b[0m\u001b[1;33m\u001b[0m\u001b[1;33m\u001b[0m\u001b[1;33m\u001b[0m\u001b[0m\n",
      "\u001b[1;32mD:\\miniconda3\\envs\\strive\\lib\\site-packages\\sklearn\\model_selection\\_validation.py\u001b[0m in \u001b[0;36mcross_val_score\u001b[1;34m(estimator, X, y, groups, scoring, cv, n_jobs, verbose, fit_params, pre_dispatch, error_score)\u001b[0m\n\u001b[0;32m    438\u001b[0m     \u001b[0mscorer\u001b[0m \u001b[1;33m=\u001b[0m \u001b[0mcheck_scoring\u001b[0m\u001b[1;33m(\u001b[0m\u001b[0mestimator\u001b[0m\u001b[1;33m,\u001b[0m \u001b[0mscoring\u001b[0m\u001b[1;33m=\u001b[0m\u001b[0mscoring\u001b[0m\u001b[1;33m)\u001b[0m\u001b[1;33m\u001b[0m\u001b[1;33m\u001b[0m\u001b[0m\n\u001b[0;32m    439\u001b[0m \u001b[1;33m\u001b[0m\u001b[0m\n\u001b[1;32m--> 440\u001b[1;33m     cv_results = cross_validate(estimator=estimator, X=X, y=y, groups=groups,\n\u001b[0m\u001b[0;32m    441\u001b[0m                                 \u001b[0mscoring\u001b[0m\u001b[1;33m=\u001b[0m\u001b[1;33m{\u001b[0m\u001b[1;34m'score'\u001b[0m\u001b[1;33m:\u001b[0m \u001b[0mscorer\u001b[0m\u001b[1;33m}\u001b[0m\u001b[1;33m,\u001b[0m \u001b[0mcv\u001b[0m\u001b[1;33m=\u001b[0m\u001b[0mcv\u001b[0m\u001b[1;33m,\u001b[0m\u001b[1;33m\u001b[0m\u001b[1;33m\u001b[0m\u001b[0m\n\u001b[0;32m    442\u001b[0m                                 \u001b[0mn_jobs\u001b[0m\u001b[1;33m=\u001b[0m\u001b[0mn_jobs\u001b[0m\u001b[1;33m,\u001b[0m \u001b[0mverbose\u001b[0m\u001b[1;33m=\u001b[0m\u001b[0mverbose\u001b[0m\u001b[1;33m,\u001b[0m\u001b[1;33m\u001b[0m\u001b[1;33m\u001b[0m\u001b[0m\n",
      "\u001b[1;32mD:\\miniconda3\\envs\\strive\\lib\\site-packages\\sklearn\\utils\\validation.py\u001b[0m in \u001b[0;36minner_f\u001b[1;34m(*args, **kwargs)\u001b[0m\n\u001b[0;32m     61\u001b[0m             \u001b[0mextra_args\u001b[0m \u001b[1;33m=\u001b[0m \u001b[0mlen\u001b[0m\u001b[1;33m(\u001b[0m\u001b[0margs\u001b[0m\u001b[1;33m)\u001b[0m \u001b[1;33m-\u001b[0m \u001b[0mlen\u001b[0m\u001b[1;33m(\u001b[0m\u001b[0mall_args\u001b[0m\u001b[1;33m)\u001b[0m\u001b[1;33m\u001b[0m\u001b[1;33m\u001b[0m\u001b[0m\n\u001b[0;32m     62\u001b[0m             \u001b[1;32mif\u001b[0m \u001b[0mextra_args\u001b[0m \u001b[1;33m<=\u001b[0m \u001b[1;36m0\u001b[0m\u001b[1;33m:\u001b[0m\u001b[1;33m\u001b[0m\u001b[1;33m\u001b[0m\u001b[0m\n\u001b[1;32m---> 63\u001b[1;33m                 \u001b[1;32mreturn\u001b[0m \u001b[0mf\u001b[0m\u001b[1;33m(\u001b[0m\u001b[1;33m*\u001b[0m\u001b[0margs\u001b[0m\u001b[1;33m,\u001b[0m \u001b[1;33m**\u001b[0m\u001b[0mkwargs\u001b[0m\u001b[1;33m)\u001b[0m\u001b[1;33m\u001b[0m\u001b[1;33m\u001b[0m\u001b[0m\n\u001b[0m\u001b[0;32m     64\u001b[0m \u001b[1;33m\u001b[0m\u001b[0m\n\u001b[0;32m     65\u001b[0m             \u001b[1;31m# extra_args > 0\u001b[0m\u001b[1;33m\u001b[0m\u001b[1;33m\u001b[0m\u001b[1;33m\u001b[0m\u001b[0m\n",
      "\u001b[1;32mD:\\miniconda3\\envs\\strive\\lib\\site-packages\\sklearn\\model_selection\\_validation.py\u001b[0m in \u001b[0;36mcross_validate\u001b[1;34m(estimator, X, y, groups, scoring, cv, n_jobs, verbose, fit_params, pre_dispatch, return_train_score, return_estimator, error_score)\u001b[0m\n\u001b[0;32m    244\u001b[0m     parallel = Parallel(n_jobs=n_jobs, verbose=verbose,\n\u001b[0;32m    245\u001b[0m                         pre_dispatch=pre_dispatch)\n\u001b[1;32m--> 246\u001b[1;33m     results = parallel(\n\u001b[0m\u001b[0;32m    247\u001b[0m         delayed(_fit_and_score)(\n\u001b[0;32m    248\u001b[0m             \u001b[0mclone\u001b[0m\u001b[1;33m(\u001b[0m\u001b[0mestimator\u001b[0m\u001b[1;33m)\u001b[0m\u001b[1;33m,\u001b[0m \u001b[0mX\u001b[0m\u001b[1;33m,\u001b[0m \u001b[0my\u001b[0m\u001b[1;33m,\u001b[0m \u001b[0mscorers\u001b[0m\u001b[1;33m,\u001b[0m \u001b[0mtrain\u001b[0m\u001b[1;33m,\u001b[0m \u001b[0mtest\u001b[0m\u001b[1;33m,\u001b[0m \u001b[0mverbose\u001b[0m\u001b[1;33m,\u001b[0m \u001b[1;32mNone\u001b[0m\u001b[1;33m,\u001b[0m\u001b[1;33m\u001b[0m\u001b[1;33m\u001b[0m\u001b[0m\n",
      "\u001b[1;32mD:\\miniconda3\\envs\\strive\\lib\\site-packages\\joblib\\parallel.py\u001b[0m in \u001b[0;36m__call__\u001b[1;34m(self, iterable)\u001b[0m\n\u001b[0;32m   1042\u001b[0m                 \u001b[0mself\u001b[0m\u001b[1;33m.\u001b[0m\u001b[0m_iterating\u001b[0m \u001b[1;33m=\u001b[0m \u001b[0mself\u001b[0m\u001b[1;33m.\u001b[0m\u001b[0m_original_iterator\u001b[0m \u001b[1;32mis\u001b[0m \u001b[1;32mnot\u001b[0m \u001b[1;32mNone\u001b[0m\u001b[1;33m\u001b[0m\u001b[1;33m\u001b[0m\u001b[0m\n\u001b[0;32m   1043\u001b[0m \u001b[1;33m\u001b[0m\u001b[0m\n\u001b[1;32m-> 1044\u001b[1;33m             \u001b[1;32mwhile\u001b[0m \u001b[0mself\u001b[0m\u001b[1;33m.\u001b[0m\u001b[0mdispatch_one_batch\u001b[0m\u001b[1;33m(\u001b[0m\u001b[0miterator\u001b[0m\u001b[1;33m)\u001b[0m\u001b[1;33m:\u001b[0m\u001b[1;33m\u001b[0m\u001b[1;33m\u001b[0m\u001b[0m\n\u001b[0m\u001b[0;32m   1045\u001b[0m                 \u001b[1;32mpass\u001b[0m\u001b[1;33m\u001b[0m\u001b[1;33m\u001b[0m\u001b[0m\n\u001b[0;32m   1046\u001b[0m \u001b[1;33m\u001b[0m\u001b[0m\n",
      "\u001b[1;32mD:\\miniconda3\\envs\\strive\\lib\\site-packages\\joblib\\parallel.py\u001b[0m in \u001b[0;36mdispatch_one_batch\u001b[1;34m(self, iterator)\u001b[0m\n\u001b[0;32m    857\u001b[0m                 \u001b[1;32mreturn\u001b[0m \u001b[1;32mFalse\u001b[0m\u001b[1;33m\u001b[0m\u001b[1;33m\u001b[0m\u001b[0m\n\u001b[0;32m    858\u001b[0m             \u001b[1;32melse\u001b[0m\u001b[1;33m:\u001b[0m\u001b[1;33m\u001b[0m\u001b[1;33m\u001b[0m\u001b[0m\n\u001b[1;32m--> 859\u001b[1;33m                 \u001b[0mself\u001b[0m\u001b[1;33m.\u001b[0m\u001b[0m_dispatch\u001b[0m\u001b[1;33m(\u001b[0m\u001b[0mtasks\u001b[0m\u001b[1;33m)\u001b[0m\u001b[1;33m\u001b[0m\u001b[1;33m\u001b[0m\u001b[0m\n\u001b[0m\u001b[0;32m    860\u001b[0m                 \u001b[1;32mreturn\u001b[0m \u001b[1;32mTrue\u001b[0m\u001b[1;33m\u001b[0m\u001b[1;33m\u001b[0m\u001b[0m\n\u001b[0;32m    861\u001b[0m \u001b[1;33m\u001b[0m\u001b[0m\n",
      "\u001b[1;32mD:\\miniconda3\\envs\\strive\\lib\\site-packages\\joblib\\parallel.py\u001b[0m in \u001b[0;36m_dispatch\u001b[1;34m(self, batch)\u001b[0m\n\u001b[0;32m    775\u001b[0m         \u001b[1;32mwith\u001b[0m \u001b[0mself\u001b[0m\u001b[1;33m.\u001b[0m\u001b[0m_lock\u001b[0m\u001b[1;33m:\u001b[0m\u001b[1;33m\u001b[0m\u001b[1;33m\u001b[0m\u001b[0m\n\u001b[0;32m    776\u001b[0m             \u001b[0mjob_idx\u001b[0m \u001b[1;33m=\u001b[0m \u001b[0mlen\u001b[0m\u001b[1;33m(\u001b[0m\u001b[0mself\u001b[0m\u001b[1;33m.\u001b[0m\u001b[0m_jobs\u001b[0m\u001b[1;33m)\u001b[0m\u001b[1;33m\u001b[0m\u001b[1;33m\u001b[0m\u001b[0m\n\u001b[1;32m--> 777\u001b[1;33m             \u001b[0mjob\u001b[0m \u001b[1;33m=\u001b[0m \u001b[0mself\u001b[0m\u001b[1;33m.\u001b[0m\u001b[0m_backend\u001b[0m\u001b[1;33m.\u001b[0m\u001b[0mapply_async\u001b[0m\u001b[1;33m(\u001b[0m\u001b[0mbatch\u001b[0m\u001b[1;33m,\u001b[0m \u001b[0mcallback\u001b[0m\u001b[1;33m=\u001b[0m\u001b[0mcb\u001b[0m\u001b[1;33m)\u001b[0m\u001b[1;33m\u001b[0m\u001b[1;33m\u001b[0m\u001b[0m\n\u001b[0m\u001b[0;32m    778\u001b[0m             \u001b[1;31m# A job can complete so quickly than its callback is\u001b[0m\u001b[1;33m\u001b[0m\u001b[1;33m\u001b[0m\u001b[1;33m\u001b[0m\u001b[0m\n\u001b[0;32m    779\u001b[0m             \u001b[1;31m# called before we get here, causing self._jobs to\u001b[0m\u001b[1;33m\u001b[0m\u001b[1;33m\u001b[0m\u001b[1;33m\u001b[0m\u001b[0m\n",
      "\u001b[1;32mD:\\miniconda3\\envs\\strive\\lib\\site-packages\\joblib\\_parallel_backends.py\u001b[0m in \u001b[0;36mapply_async\u001b[1;34m(self, func, callback)\u001b[0m\n\u001b[0;32m    206\u001b[0m     \u001b[1;32mdef\u001b[0m \u001b[0mapply_async\u001b[0m\u001b[1;33m(\u001b[0m\u001b[0mself\u001b[0m\u001b[1;33m,\u001b[0m \u001b[0mfunc\u001b[0m\u001b[1;33m,\u001b[0m \u001b[0mcallback\u001b[0m\u001b[1;33m=\u001b[0m\u001b[1;32mNone\u001b[0m\u001b[1;33m)\u001b[0m\u001b[1;33m:\u001b[0m\u001b[1;33m\u001b[0m\u001b[1;33m\u001b[0m\u001b[0m\n\u001b[0;32m    207\u001b[0m         \u001b[1;34m\"\"\"Schedule a func to be run\"\"\"\u001b[0m\u001b[1;33m\u001b[0m\u001b[1;33m\u001b[0m\u001b[0m\n\u001b[1;32m--> 208\u001b[1;33m         \u001b[0mresult\u001b[0m \u001b[1;33m=\u001b[0m \u001b[0mImmediateResult\u001b[0m\u001b[1;33m(\u001b[0m\u001b[0mfunc\u001b[0m\u001b[1;33m)\u001b[0m\u001b[1;33m\u001b[0m\u001b[1;33m\u001b[0m\u001b[0m\n\u001b[0m\u001b[0;32m    209\u001b[0m         \u001b[1;32mif\u001b[0m \u001b[0mcallback\u001b[0m\u001b[1;33m:\u001b[0m\u001b[1;33m\u001b[0m\u001b[1;33m\u001b[0m\u001b[0m\n\u001b[0;32m    210\u001b[0m             \u001b[0mcallback\u001b[0m\u001b[1;33m(\u001b[0m\u001b[0mresult\u001b[0m\u001b[1;33m)\u001b[0m\u001b[1;33m\u001b[0m\u001b[1;33m\u001b[0m\u001b[0m\n",
      "\u001b[1;32mD:\\miniconda3\\envs\\strive\\lib\\site-packages\\joblib\\_parallel_backends.py\u001b[0m in \u001b[0;36m__init__\u001b[1;34m(self, batch)\u001b[0m\n\u001b[0;32m    570\u001b[0m         \u001b[1;31m# Don't delay the application, to avoid keeping the input\u001b[0m\u001b[1;33m\u001b[0m\u001b[1;33m\u001b[0m\u001b[1;33m\u001b[0m\u001b[0m\n\u001b[0;32m    571\u001b[0m         \u001b[1;31m# arguments in memory\u001b[0m\u001b[1;33m\u001b[0m\u001b[1;33m\u001b[0m\u001b[1;33m\u001b[0m\u001b[0m\n\u001b[1;32m--> 572\u001b[1;33m         \u001b[0mself\u001b[0m\u001b[1;33m.\u001b[0m\u001b[0mresults\u001b[0m \u001b[1;33m=\u001b[0m \u001b[0mbatch\u001b[0m\u001b[1;33m(\u001b[0m\u001b[1;33m)\u001b[0m\u001b[1;33m\u001b[0m\u001b[1;33m\u001b[0m\u001b[0m\n\u001b[0m\u001b[0;32m    573\u001b[0m \u001b[1;33m\u001b[0m\u001b[0m\n\u001b[0;32m    574\u001b[0m     \u001b[1;32mdef\u001b[0m \u001b[0mget\u001b[0m\u001b[1;33m(\u001b[0m\u001b[0mself\u001b[0m\u001b[1;33m)\u001b[0m\u001b[1;33m:\u001b[0m\u001b[1;33m\u001b[0m\u001b[1;33m\u001b[0m\u001b[0m\n",
      "\u001b[1;32mD:\\miniconda3\\envs\\strive\\lib\\site-packages\\joblib\\parallel.py\u001b[0m in \u001b[0;36m__call__\u001b[1;34m(self)\u001b[0m\n\u001b[0;32m    260\u001b[0m         \u001b[1;31m# change the default number of processes to -1\u001b[0m\u001b[1;33m\u001b[0m\u001b[1;33m\u001b[0m\u001b[1;33m\u001b[0m\u001b[0m\n\u001b[0;32m    261\u001b[0m         \u001b[1;32mwith\u001b[0m \u001b[0mparallel_backend\u001b[0m\u001b[1;33m(\u001b[0m\u001b[0mself\u001b[0m\u001b[1;33m.\u001b[0m\u001b[0m_backend\u001b[0m\u001b[1;33m,\u001b[0m \u001b[0mn_jobs\u001b[0m\u001b[1;33m=\u001b[0m\u001b[0mself\u001b[0m\u001b[1;33m.\u001b[0m\u001b[0m_n_jobs\u001b[0m\u001b[1;33m)\u001b[0m\u001b[1;33m:\u001b[0m\u001b[1;33m\u001b[0m\u001b[1;33m\u001b[0m\u001b[0m\n\u001b[1;32m--> 262\u001b[1;33m             return [func(*args, **kwargs)\n\u001b[0m\u001b[0;32m    263\u001b[0m                     for func, args, kwargs in self.items]\n\u001b[0;32m    264\u001b[0m \u001b[1;33m\u001b[0m\u001b[0m\n",
      "\u001b[1;32mD:\\miniconda3\\envs\\strive\\lib\\site-packages\\joblib\\parallel.py\u001b[0m in \u001b[0;36m<listcomp>\u001b[1;34m(.0)\u001b[0m\n\u001b[0;32m    260\u001b[0m         \u001b[1;31m# change the default number of processes to -1\u001b[0m\u001b[1;33m\u001b[0m\u001b[1;33m\u001b[0m\u001b[1;33m\u001b[0m\u001b[0m\n\u001b[0;32m    261\u001b[0m         \u001b[1;32mwith\u001b[0m \u001b[0mparallel_backend\u001b[0m\u001b[1;33m(\u001b[0m\u001b[0mself\u001b[0m\u001b[1;33m.\u001b[0m\u001b[0m_backend\u001b[0m\u001b[1;33m,\u001b[0m \u001b[0mn_jobs\u001b[0m\u001b[1;33m=\u001b[0m\u001b[0mself\u001b[0m\u001b[1;33m.\u001b[0m\u001b[0m_n_jobs\u001b[0m\u001b[1;33m)\u001b[0m\u001b[1;33m:\u001b[0m\u001b[1;33m\u001b[0m\u001b[1;33m\u001b[0m\u001b[0m\n\u001b[1;32m--> 262\u001b[1;33m             return [func(*args, **kwargs)\n\u001b[0m\u001b[0;32m    263\u001b[0m                     for func, args, kwargs in self.items]\n\u001b[0;32m    264\u001b[0m \u001b[1;33m\u001b[0m\u001b[0m\n",
      "\u001b[1;32mD:\\miniconda3\\envs\\strive\\lib\\site-packages\\sklearn\\utils\\fixes.py\u001b[0m in \u001b[0;36m__call__\u001b[1;34m(self, *args, **kwargs)\u001b[0m\n\u001b[0;32m    220\u001b[0m     \u001b[1;32mdef\u001b[0m \u001b[0m__call__\u001b[0m\u001b[1;33m(\u001b[0m\u001b[0mself\u001b[0m\u001b[1;33m,\u001b[0m \u001b[1;33m*\u001b[0m\u001b[0margs\u001b[0m\u001b[1;33m,\u001b[0m \u001b[1;33m**\u001b[0m\u001b[0mkwargs\u001b[0m\u001b[1;33m)\u001b[0m\u001b[1;33m:\u001b[0m\u001b[1;33m\u001b[0m\u001b[1;33m\u001b[0m\u001b[0m\n\u001b[0;32m    221\u001b[0m         \u001b[1;32mwith\u001b[0m \u001b[0mconfig_context\u001b[0m\u001b[1;33m(\u001b[0m\u001b[1;33m**\u001b[0m\u001b[0mself\u001b[0m\u001b[1;33m.\u001b[0m\u001b[0mconfig\u001b[0m\u001b[1;33m)\u001b[0m\u001b[1;33m:\u001b[0m\u001b[1;33m\u001b[0m\u001b[1;33m\u001b[0m\u001b[0m\n\u001b[1;32m--> 222\u001b[1;33m             \u001b[1;32mreturn\u001b[0m \u001b[0mself\u001b[0m\u001b[1;33m.\u001b[0m\u001b[0mfunction\u001b[0m\u001b[1;33m(\u001b[0m\u001b[1;33m*\u001b[0m\u001b[0margs\u001b[0m\u001b[1;33m,\u001b[0m \u001b[1;33m**\u001b[0m\u001b[0mkwargs\u001b[0m\u001b[1;33m)\u001b[0m\u001b[1;33m\u001b[0m\u001b[1;33m\u001b[0m\u001b[0m\n\u001b[0m",
      "\u001b[1;32mD:\\miniconda3\\envs\\strive\\lib\\site-packages\\sklearn\\model_selection\\_validation.py\u001b[0m in \u001b[0;36m_fit_and_score\u001b[1;34m(estimator, X, y, scorer, train, test, verbose, parameters, fit_params, return_train_score, return_parameters, return_n_test_samples, return_times, return_estimator, split_progress, candidate_progress, error_score)\u001b[0m\n\u001b[0;32m    591\u001b[0m             \u001b[0mestimator\u001b[0m\u001b[1;33m.\u001b[0m\u001b[0mfit\u001b[0m\u001b[1;33m(\u001b[0m\u001b[0mX_train\u001b[0m\u001b[1;33m,\u001b[0m \u001b[1;33m**\u001b[0m\u001b[0mfit_params\u001b[0m\u001b[1;33m)\u001b[0m\u001b[1;33m\u001b[0m\u001b[1;33m\u001b[0m\u001b[0m\n\u001b[0;32m    592\u001b[0m         \u001b[1;32melse\u001b[0m\u001b[1;33m:\u001b[0m\u001b[1;33m\u001b[0m\u001b[1;33m\u001b[0m\u001b[0m\n\u001b[1;32m--> 593\u001b[1;33m             \u001b[0mestimator\u001b[0m\u001b[1;33m.\u001b[0m\u001b[0mfit\u001b[0m\u001b[1;33m(\u001b[0m\u001b[0mX_train\u001b[0m\u001b[1;33m,\u001b[0m \u001b[0my_train\u001b[0m\u001b[1;33m,\u001b[0m \u001b[1;33m**\u001b[0m\u001b[0mfit_params\u001b[0m\u001b[1;33m)\u001b[0m\u001b[1;33m\u001b[0m\u001b[1;33m\u001b[0m\u001b[0m\n\u001b[0m\u001b[0;32m    594\u001b[0m \u001b[1;33m\u001b[0m\u001b[0m\n\u001b[0;32m    595\u001b[0m     \u001b[1;32mexcept\u001b[0m \u001b[0mException\u001b[0m \u001b[1;32mas\u001b[0m \u001b[0me\u001b[0m\u001b[1;33m:\u001b[0m\u001b[1;33m\u001b[0m\u001b[1;33m\u001b[0m\u001b[0m\n",
      "\u001b[1;32mD:\\miniconda3\\envs\\strive\\lib\\site-packages\\xgboost\\core.py\u001b[0m in \u001b[0;36minner_f\u001b[1;34m(*args, **kwargs)\u001b[0m\n\u001b[0;32m    420\u001b[0m         \u001b[1;32mfor\u001b[0m \u001b[0mk\u001b[0m\u001b[1;33m,\u001b[0m \u001b[0marg\u001b[0m \u001b[1;32min\u001b[0m \u001b[0mzip\u001b[0m\u001b[1;33m(\u001b[0m\u001b[0msig\u001b[0m\u001b[1;33m.\u001b[0m\u001b[0mparameters\u001b[0m\u001b[1;33m,\u001b[0m \u001b[0margs\u001b[0m\u001b[1;33m)\u001b[0m\u001b[1;33m:\u001b[0m\u001b[1;33m\u001b[0m\u001b[1;33m\u001b[0m\u001b[0m\n\u001b[0;32m    421\u001b[0m             \u001b[0mkwargs\u001b[0m\u001b[1;33m[\u001b[0m\u001b[0mk\u001b[0m\u001b[1;33m]\u001b[0m \u001b[1;33m=\u001b[0m \u001b[0marg\u001b[0m\u001b[1;33m\u001b[0m\u001b[1;33m\u001b[0m\u001b[0m\n\u001b[1;32m--> 422\u001b[1;33m         \u001b[1;32mreturn\u001b[0m \u001b[0mf\u001b[0m\u001b[1;33m(\u001b[0m\u001b[1;33m**\u001b[0m\u001b[0mkwargs\u001b[0m\u001b[1;33m)\u001b[0m\u001b[1;33m\u001b[0m\u001b[1;33m\u001b[0m\u001b[0m\n\u001b[0m\u001b[0;32m    423\u001b[0m \u001b[1;33m\u001b[0m\u001b[0m\n\u001b[0;32m    424\u001b[0m     \u001b[1;32mreturn\u001b[0m \u001b[0minner_f\u001b[0m\u001b[1;33m\u001b[0m\u001b[1;33m\u001b[0m\u001b[0m\n",
      "\u001b[1;32mD:\\miniconda3\\envs\\strive\\lib\\site-packages\\xgboost\\sklearn.py\u001b[0m in \u001b[0;36mfit\u001b[1;34m(self, X, y, sample_weight, base_margin, eval_set, eval_metric, early_stopping_rounds, verbose, xgb_model, sample_weight_eval_set, feature_weights, callbacks)\u001b[0m\n\u001b[0;32m    595\u001b[0m                 \u001b[0mparams\u001b[0m\u001b[1;33m.\u001b[0m\u001b[0mupdate\u001b[0m\u001b[1;33m(\u001b[0m\u001b[1;33m{\u001b[0m\u001b[1;34m'eval_metric'\u001b[0m\u001b[1;33m:\u001b[0m \u001b[0meval_metric\u001b[0m\u001b[1;33m}\u001b[0m\u001b[1;33m)\u001b[0m\u001b[1;33m\u001b[0m\u001b[1;33m\u001b[0m\u001b[0m\n\u001b[0;32m    596\u001b[0m \u001b[1;33m\u001b[0m\u001b[0m\n\u001b[1;32m--> 597\u001b[1;33m         self._Booster = train(params, train_dmatrix,\n\u001b[0m\u001b[0;32m    598\u001b[0m                               \u001b[0mself\u001b[0m\u001b[1;33m.\u001b[0m\u001b[0mget_num_boosting_rounds\u001b[0m\u001b[1;33m(\u001b[0m\u001b[1;33m)\u001b[0m\u001b[1;33m,\u001b[0m \u001b[0mevals\u001b[0m\u001b[1;33m=\u001b[0m\u001b[0mevals\u001b[0m\u001b[1;33m,\u001b[0m\u001b[1;33m\u001b[0m\u001b[1;33m\u001b[0m\u001b[0m\n\u001b[0;32m    599\u001b[0m                               \u001b[0mearly_stopping_rounds\u001b[0m\u001b[1;33m=\u001b[0m\u001b[0mearly_stopping_rounds\u001b[0m\u001b[1;33m,\u001b[0m\u001b[1;33m\u001b[0m\u001b[1;33m\u001b[0m\u001b[0m\n",
      "\u001b[1;32mD:\\miniconda3\\envs\\strive\\lib\\site-packages\\xgboost\\training.py\u001b[0m in \u001b[0;36mtrain\u001b[1;34m(params, dtrain, num_boost_round, evals, obj, feval, maximize, early_stopping_rounds, evals_result, verbose_eval, xgb_model, callbacks)\u001b[0m\n\u001b[0;32m    225\u001b[0m     \u001b[0mBooster\u001b[0m \u001b[1;33m:\u001b[0m \u001b[0ma\u001b[0m \u001b[0mtrained\u001b[0m \u001b[0mbooster\u001b[0m \u001b[0mmodel\u001b[0m\u001b[1;33m\u001b[0m\u001b[1;33m\u001b[0m\u001b[0m\n\u001b[0;32m    226\u001b[0m     \"\"\"\n\u001b[1;32m--> 227\u001b[1;33m     bst = _train_internal(params, dtrain,\n\u001b[0m\u001b[0;32m    228\u001b[0m                           \u001b[0mnum_boost_round\u001b[0m\u001b[1;33m=\u001b[0m\u001b[0mnum_boost_round\u001b[0m\u001b[1;33m,\u001b[0m\u001b[1;33m\u001b[0m\u001b[1;33m\u001b[0m\u001b[0m\n\u001b[0;32m    229\u001b[0m                           \u001b[0mevals\u001b[0m\u001b[1;33m=\u001b[0m\u001b[0mevals\u001b[0m\u001b[1;33m,\u001b[0m\u001b[1;33m\u001b[0m\u001b[1;33m\u001b[0m\u001b[0m\n",
      "\u001b[1;32mD:\\miniconda3\\envs\\strive\\lib\\site-packages\\xgboost\\training.py\u001b[0m in \u001b[0;36m_train_internal\u001b[1;34m(params, dtrain, num_boost_round, evals, obj, feval, xgb_model, callbacks, evals_result, maximize, verbose_eval, early_stopping_rounds)\u001b[0m\n\u001b[0;32m    100\u001b[0m         \u001b[1;31m# Skip the first update if it is a recovery step.\u001b[0m\u001b[1;33m\u001b[0m\u001b[1;33m\u001b[0m\u001b[1;33m\u001b[0m\u001b[0m\n\u001b[0;32m    101\u001b[0m         \u001b[1;32mif\u001b[0m \u001b[0mversion\u001b[0m \u001b[1;33m%\u001b[0m \u001b[1;36m2\u001b[0m \u001b[1;33m==\u001b[0m \u001b[1;36m0\u001b[0m\u001b[1;33m:\u001b[0m\u001b[1;33m\u001b[0m\u001b[1;33m\u001b[0m\u001b[0m\n\u001b[1;32m--> 102\u001b[1;33m             \u001b[0mbst\u001b[0m\u001b[1;33m.\u001b[0m\u001b[0mupdate\u001b[0m\u001b[1;33m(\u001b[0m\u001b[0mdtrain\u001b[0m\u001b[1;33m,\u001b[0m \u001b[0mi\u001b[0m\u001b[1;33m,\u001b[0m \u001b[0mobj\u001b[0m\u001b[1;33m)\u001b[0m\u001b[1;33m\u001b[0m\u001b[1;33m\u001b[0m\u001b[0m\n\u001b[0m\u001b[0;32m    103\u001b[0m             \u001b[0mbst\u001b[0m\u001b[1;33m.\u001b[0m\u001b[0msave_rabit_checkpoint\u001b[0m\u001b[1;33m(\u001b[0m\u001b[1;33m)\u001b[0m\u001b[1;33m\u001b[0m\u001b[1;33m\u001b[0m\u001b[0m\n\u001b[0;32m    104\u001b[0m             \u001b[0mversion\u001b[0m \u001b[1;33m+=\u001b[0m \u001b[1;36m1\u001b[0m\u001b[1;33m\u001b[0m\u001b[1;33m\u001b[0m\u001b[0m\n",
      "\u001b[1;32mD:\\miniconda3\\envs\\strive\\lib\\site-packages\\xgboost\\core.py\u001b[0m in \u001b[0;36mupdate\u001b[1;34m(self, dtrain, iteration, fobj)\u001b[0m\n\u001b[0;32m   1278\u001b[0m \u001b[1;33m\u001b[0m\u001b[0m\n\u001b[0;32m   1279\u001b[0m         \u001b[1;32mif\u001b[0m \u001b[0mfobj\u001b[0m \u001b[1;32mis\u001b[0m \u001b[1;32mNone\u001b[0m\u001b[1;33m:\u001b[0m\u001b[1;33m\u001b[0m\u001b[1;33m\u001b[0m\u001b[0m\n\u001b[1;32m-> 1280\u001b[1;33m             _check_call(_LIB.XGBoosterUpdateOneIter(self.handle,\n\u001b[0m\u001b[0;32m   1281\u001b[0m                                                     \u001b[0mctypes\u001b[0m\u001b[1;33m.\u001b[0m\u001b[0mc_int\u001b[0m\u001b[1;33m(\u001b[0m\u001b[0miteration\u001b[0m\u001b[1;33m)\u001b[0m\u001b[1;33m,\u001b[0m\u001b[1;33m\u001b[0m\u001b[1;33m\u001b[0m\u001b[0m\n\u001b[0;32m   1282\u001b[0m                                                     dtrain.handle))\n",
      "\u001b[1;31mKeyboardInterrupt\u001b[0m: "
     ]
    }
   ],
   "source": [
    "grid_search(params={'max_depth':[2, 3, 5, 6, 8]})"
   ]
  },
  {
   "cell_type": "code",
   "execution_count": 2,
   "metadata": {},
   "outputs": [
    {
     "output_type": "error",
     "ename": "NameError",
     "evalue": "name 'grid_search' is not defined",
     "traceback": [
      "\u001b[1;31m---------------------------------------------------------------------------\u001b[0m",
      "\u001b[1;31mNameError\u001b[0m                                 Traceback (most recent call last)",
      "\u001b[1;32m<ipython-input-2-f467a057049d>\u001b[0m in \u001b[0;36m<module>\u001b[1;34m\u001b[0m\n\u001b[0;32m      1\u001b[0m \u001b[0mget_ipython\u001b[0m\u001b[1;33m(\u001b[0m\u001b[1;33m)\u001b[0m\u001b[1;33m.\u001b[0m\u001b[0mrun_line_magic\u001b[0m\u001b[1;33m(\u001b[0m\u001b[1;34m'timeit'\u001b[0m\u001b[1;33m,\u001b[0m \u001b[1;34m''\u001b[0m\u001b[1;33m)\u001b[0m\u001b[1;33m\u001b[0m\u001b[1;33m\u001b[0m\u001b[0m\n\u001b[1;32m----> 2\u001b[1;33m \u001b[0mgrid_search\u001b[0m\u001b[1;33m(\u001b[0m\u001b[0mparams\u001b[0m\u001b[1;33m=\u001b[0m\u001b[1;33m{\u001b[0m\u001b[1;34m'booster'\u001b[0m\u001b[1;33m:\u001b[0m\u001b[1;33m[\u001b[0m\u001b[1;34m'dart'\u001b[0m\u001b[1;33m,\u001b[0m \u001b[1;34m'gbtree'\u001b[0m\u001b[1;33m,\u001b[0m \u001b[1;34m'gblinear'\u001b[0m\u001b[1;33m]\u001b[0m\u001b[1;33m}\u001b[0m\u001b[1;33m)\u001b[0m\u001b[1;33m\u001b[0m\u001b[1;33m\u001b[0m\u001b[0m\n\u001b[0m",
      "\u001b[1;31mNameError\u001b[0m: name 'grid_search' is not defined"
     ]
    }
   ],
   "source": [
    "%timeit\n",
    "grid_search(params={'booster':['dart', 'gbtree', 'gblinear']})"
   ]
  },
  {
   "cell_type": "code",
   "execution_count": 12,
   "metadata": {},
   "outputs": [
    {
     "output_type": "stream",
     "name": "stderr",
     "text": [
      "D:\\miniconda3\\envs\\strive\\lib\\site-packages\\sklearn\\model_selection\\_search.py:285: UserWarning: The total space of parameters 7 is smaller than n_iter=20. Running 7 iterations. For exhaustive searches, use GridSearchCV.\n",
      "  warnings.warn(\n",
      "D:\\miniconda3\\envs\\strive\\lib\\site-packages\\sklearn\\model_selection\\_split.py:666: UserWarning: The least populated class in y has only 1 members, which is less than n_splits=5.\n",
      "  warnings.warn((\"The least populated class in y has only %d\"\n",
      "Fitting 5 folds for each of 7 candidates, totalling 35 fits\n",
      "[CV 1/5; 1/7] START learning_rate=0.01, max_depth=6.............................\n",
      "[CV 1/5; 1/7] END ...........learning_rate=0.01, max_depth=6; total time=  23.0s\n",
      "[CV 2/5; 1/7] START learning_rate=0.01, max_depth=6.............................\n",
      "[CV 2/5; 1/7] END ...........learning_rate=0.01, max_depth=6; total time=  22.6s\n",
      "[CV 3/5; 1/7] START learning_rate=0.01, max_depth=6.............................\n",
      "[CV 3/5; 1/7] END ...........learning_rate=0.01, max_depth=6; total time=  23.9s\n",
      "[CV 4/5; 1/7] START learning_rate=0.01, max_depth=6.............................\n",
      "[CV 4/5; 1/7] END ...........learning_rate=0.01, max_depth=6; total time=  25.3s\n",
      "[CV 5/5; 1/7] START learning_rate=0.01, max_depth=6.............................\n",
      "[CV 5/5; 1/7] END ...........learning_rate=0.01, max_depth=6; total time=  23.1s\n",
      "[CV 1/5; 2/7] START learning_rate=0.05, max_depth=6.............................\n",
      "[CV 1/5; 2/7] END ...........learning_rate=0.05, max_depth=6; total time=  31.2s\n",
      "[CV 2/5; 2/7] START learning_rate=0.05, max_depth=6.............................\n",
      "[CV 2/5; 2/7] END ...........learning_rate=0.05, max_depth=6; total time=  30.9s\n",
      "[CV 3/5; 2/7] START learning_rate=0.05, max_depth=6.............................\n",
      "[CV 3/5; 2/7] END ...........learning_rate=0.05, max_depth=6; total time=  31.7s\n",
      "[CV 4/5; 2/7] START learning_rate=0.05, max_depth=6.............................\n",
      "[CV 4/5; 2/7] END ...........learning_rate=0.05, max_depth=6; total time=  30.9s\n",
      "[CV 5/5; 2/7] START learning_rate=0.05, max_depth=6.............................\n",
      "[CV 5/5; 2/7] END ...........learning_rate=0.05, max_depth=6; total time=  31.0s\n",
      "[CV 1/5; 3/7] START learning_rate=0.1, max_depth=6..............................\n",
      "[CV 1/5; 3/7] END ............learning_rate=0.1, max_depth=6; total time=  31.9s\n",
      "[CV 2/5; 3/7] START learning_rate=0.1, max_depth=6..............................\n",
      "[CV 2/5; 3/7] END ............learning_rate=0.1, max_depth=6; total time=  32.2s\n",
      "[CV 3/5; 3/7] START learning_rate=0.1, max_depth=6..............................\n",
      "[CV 3/5; 3/7] END ............learning_rate=0.1, max_depth=6; total time=  32.8s\n",
      "[CV 4/5; 3/7] START learning_rate=0.1, max_depth=6..............................\n",
      "[CV 4/5; 3/7] END ............learning_rate=0.1, max_depth=6; total time=  32.2s\n",
      "[CV 5/5; 3/7] START learning_rate=0.1, max_depth=6..............................\n",
      "[CV 5/5; 3/7] END ............learning_rate=0.1, max_depth=6; total time=  31.5s\n",
      "[CV 1/5; 4/7] START learning_rate=0.2, max_depth=6..............................\n",
      "[CV 1/5; 4/7] END ............learning_rate=0.2, max_depth=6; total time=  30.0s\n",
      "[CV 2/5; 4/7] START learning_rate=0.2, max_depth=6..............................\n",
      "[CV 2/5; 4/7] END ............learning_rate=0.2, max_depth=6; total time=  30.6s\n",
      "[CV 3/5; 4/7] START learning_rate=0.2, max_depth=6..............................\n",
      "[CV 3/5; 4/7] END ............learning_rate=0.2, max_depth=6; total time=  30.5s\n",
      "[CV 4/5; 4/7] START learning_rate=0.2, max_depth=6..............................\n",
      "[CV 4/5; 4/7] END ............learning_rate=0.2, max_depth=6; total time=  30.9s\n",
      "[CV 5/5; 4/7] START learning_rate=0.2, max_depth=6..............................\n",
      "[CV 5/5; 4/7] END ............learning_rate=0.2, max_depth=6; total time=  30.3s\n",
      "[CV 1/5; 5/7] START learning_rate=0.3, max_depth=6..............................\n",
      "[CV 1/5; 5/7] END ............learning_rate=0.3, max_depth=6; total time=  30.6s\n",
      "[CV 2/5; 5/7] START learning_rate=0.3, max_depth=6..............................\n",
      "[CV 2/5; 5/7] END ............learning_rate=0.3, max_depth=6; total time=  29.3s\n",
      "[CV 3/5; 5/7] START learning_rate=0.3, max_depth=6..............................\n",
      "[CV 3/5; 5/7] END ............learning_rate=0.3, max_depth=6; total time=  30.1s\n",
      "[CV 4/5; 5/7] START learning_rate=0.3, max_depth=6..............................\n",
      "[CV 4/5; 5/7] END ............learning_rate=0.3, max_depth=6; total time=  29.7s\n",
      "[CV 5/5; 5/7] START learning_rate=0.3, max_depth=6..............................\n",
      "[CV 5/5; 5/7] END ............learning_rate=0.3, max_depth=6; total time=  29.3s\n",
      "[CV 1/5; 6/7] START learning_rate=0.4, max_depth=6..............................\n",
      "[CV 1/5; 6/7] END ............learning_rate=0.4, max_depth=6; total time=  30.2s\n",
      "[CV 2/5; 6/7] START learning_rate=0.4, max_depth=6..............................\n",
      "[CV 2/5; 6/7] END ............learning_rate=0.4, max_depth=6; total time=  30.7s\n",
      "[CV 3/5; 6/7] START learning_rate=0.4, max_depth=6..............................\n",
      "[CV 3/5; 6/7] END ............learning_rate=0.4, max_depth=6; total time=  31.1s\n",
      "[CV 4/5; 6/7] START learning_rate=0.4, max_depth=6..............................\n",
      "[CV 4/5; 6/7] END ............learning_rate=0.4, max_depth=6; total time=  30.3s\n",
      "[CV 5/5; 6/7] START learning_rate=0.4, max_depth=6..............................\n",
      "[CV 5/5; 6/7] END ............learning_rate=0.4, max_depth=6; total time=  29.8s\n",
      "[CV 1/5; 7/7] START learning_rate=0.5, max_depth=6..............................\n",
      "[CV 1/5; 7/7] END ............learning_rate=0.5, max_depth=6; total time=  30.4s\n",
      "[CV 2/5; 7/7] START learning_rate=0.5, max_depth=6..............................\n",
      "[CV 2/5; 7/7] END ............learning_rate=0.5, max_depth=6; total time=  30.7s\n",
      "[CV 3/5; 7/7] START learning_rate=0.5, max_depth=6..............................\n",
      "[CV 3/5; 7/7] END ............learning_rate=0.5, max_depth=6; total time=  29.9s\n",
      "[CV 4/5; 7/7] START learning_rate=0.5, max_depth=6..............................\n",
      "[CV 4/5; 7/7] END ............learning_rate=0.5, max_depth=6; total time=  29.6s\n",
      "[CV 5/5; 7/7] START learning_rate=0.5, max_depth=6..............................\n",
      "[CV 5/5; 7/7] END ............learning_rate=0.5, max_depth=6; total time=  27.7s\n",
      "Best params: {'max_depth': 6, 'learning_rate': 0.3}\n",
      "Training score: 0.471\n",
      "D:\\miniconda3\\envs\\strive\\lib\\site-packages\\sklearn\\model_selection\\_split.py:666: UserWarning: The least populated class in y has only 1 members, which is less than n_splits=5.\n",
      "  warnings.warn((\"The least populated class in y has only %d\"\n",
      "Accuracy: [0.62 0.46 0.53 0.57 0.55]\n",
      "Acurracy mean: 0.54\n",
      "D:\\miniconda3\\envs\\strive\\lib\\site-packages\\sklearn\\model_selection\\_split.py:666: UserWarning: The least populated class in y has only 1 members, which is less than n_splits=5.\n",
      "  warnings.warn((\"The least populated class in y has only %d\"\n",
      "Mean MAE: -1.385\n"
     ]
    }
   ],
   "source": [
    "%timeit\n",
    "grid_search(params={'learning_rate':[0.01, 0.05, 0.1, 0.2, 0.3, 0.4, 0.5], 'max_depth':[6]}, random=True)"
   ]
  },
  {
   "cell_type": "code",
   "execution_count": 13,
   "metadata": {},
   "outputs": [
    {
     "output_type": "stream",
     "name": "stdout",
     "text": [
      "Fitting 5 folds for each of 6 candidates, totalling 30 fits\n",
      "D:\\miniconda3\\envs\\strive\\lib\\site-packages\\sklearn\\model_selection\\_split.py:666: UserWarning: The least populated class in y has only 1 members, which is less than n_splits=5.\n",
      "  warnings.warn((\"The least populated class in y has only %d\"\n",
      "[CV 1/5; 1/6] START gamma=0.....................................................\n",
      "[CV 1/5; 1/6] END ...................................gamma=0; total time=  28.8s\n",
      "[CV 2/5; 1/6] START gamma=0.....................................................\n",
      "[CV 2/5; 1/6] END ...................................gamma=0; total time=  28.7s\n",
      "[CV 3/5; 1/6] START gamma=0.....................................................\n",
      "[CV 3/5; 1/6] END ...................................gamma=0; total time=  30.4s\n",
      "[CV 4/5; 1/6] START gamma=0.....................................................\n",
      "[CV 4/5; 1/6] END ...................................gamma=0; total time=  29.6s\n",
      "[CV 5/5; 1/6] START gamma=0.....................................................\n",
      "[CV 5/5; 1/6] END ...................................gamma=0; total time=  29.7s\n",
      "[CV 1/5; 2/6] START gamma=0.1...................................................\n",
      "[CV 1/5; 2/6] END .................................gamma=0.1; total time=  30.1s\n",
      "[CV 2/5; 2/6] START gamma=0.1...................................................\n",
      "[CV 2/5; 2/6] END .................................gamma=0.1; total time=  29.3s\n",
      "[CV 3/5; 2/6] START gamma=0.1...................................................\n",
      "[CV 3/5; 2/6] END .................................gamma=0.1; total time=  30.2s\n",
      "[CV 4/5; 2/6] START gamma=0.1...................................................\n",
      "[CV 4/5; 2/6] END .................................gamma=0.1; total time=  29.0s\n",
      "[CV 5/5; 2/6] START gamma=0.1...................................................\n",
      "[CV 5/5; 2/6] END .................................gamma=0.1; total time=  29.8s\n",
      "[CV 1/5; 3/6] START gamma=0.5...................................................\n",
      "[CV 1/5; 3/6] END .................................gamma=0.5; total time=  31.8s\n",
      "[CV 2/5; 3/6] START gamma=0.5...................................................\n",
      "[CV 2/5; 3/6] END .................................gamma=0.5; total time=  31.9s\n",
      "[CV 3/5; 3/6] START gamma=0.5...................................................\n",
      "[CV 3/5; 3/6] END .................................gamma=0.5; total time=  31.0s\n",
      "[CV 4/5; 3/6] START gamma=0.5...................................................\n",
      "[CV 4/5; 3/6] END .................................gamma=0.5; total time=  30.9s\n",
      "[CV 5/5; 3/6] START gamma=0.5...................................................\n",
      "[CV 5/5; 3/6] END .................................gamma=0.5; total time=  30.1s\n",
      "[CV 1/5; 4/6] START gamma=1.....................................................\n",
      "[CV 1/5; 4/6] END ...................................gamma=1; total time=  31.2s\n",
      "[CV 2/5; 4/6] START gamma=1.....................................................\n",
      "[CV 2/5; 4/6] END ...................................gamma=1; total time=  29.6s\n",
      "[CV 3/5; 4/6] START gamma=1.....................................................\n",
      "[CV 3/5; 4/6] END ...................................gamma=1; total time=  31.5s\n",
      "[CV 4/5; 4/6] START gamma=1.....................................................\n",
      "[CV 4/5; 4/6] END ...................................gamma=1; total time=  30.4s\n",
      "[CV 5/5; 4/6] START gamma=1.....................................................\n",
      "[CV 5/5; 4/6] END ...................................gamma=1; total time=  29.6s\n",
      "[CV 1/5; 5/6] START gamma=2.....................................................\n",
      "[CV 1/5; 5/6] END ...................................gamma=2; total time=  30.8s\n",
      "[CV 2/5; 5/6] START gamma=2.....................................................\n",
      "[CV 2/5; 5/6] END ...................................gamma=2; total time=  30.6s\n",
      "[CV 3/5; 5/6] START gamma=2.....................................................\n",
      "[CV 3/5; 5/6] END ...................................gamma=2; total time=  30.5s\n",
      "[CV 4/5; 5/6] START gamma=2.....................................................\n",
      "[CV 4/5; 5/6] END ...................................gamma=2; total time=  29.3s\n",
      "[CV 5/5; 5/6] START gamma=2.....................................................\n",
      "[CV 5/5; 5/6] END ...................................gamma=2; total time=  29.5s\n",
      "[CV 1/5; 6/6] START gamma=5.....................................................\n",
      "[CV 1/5; 6/6] END ...................................gamma=5; total time=  30.3s\n",
      "[CV 2/5; 6/6] START gamma=5.....................................................\n",
      "[CV 2/5; 6/6] END ...................................gamma=5; total time=  29.6s\n",
      "[CV 3/5; 6/6] START gamma=5.....................................................\n",
      "[CV 3/5; 6/6] END ...................................gamma=5; total time=  29.6s\n",
      "[CV 4/5; 6/6] START gamma=5.....................................................\n",
      "[CV 4/5; 6/6] END ...................................gamma=5; total time=  29.4s\n",
      "[CV 5/5; 6/6] START gamma=5.....................................................\n",
      "[CV 5/5; 6/6] END ...................................gamma=5; total time=  28.0s\n",
      "Best params: {'gamma': 1}\n",
      "Training score: 0.472\n",
      "D:\\miniconda3\\envs\\strive\\lib\\site-packages\\sklearn\\model_selection\\_split.py:666: UserWarning: The least populated class in y has only 1 members, which is less than n_splits=5.\n",
      "  warnings.warn((\"The least populated class in y has only %d\"\n",
      "Accuracy: [0.62 0.46 0.53 0.57 0.55]\n",
      "Acurracy mean: 0.54\n",
      "D:\\miniconda3\\envs\\strive\\lib\\site-packages\\sklearn\\model_selection\\_split.py:666: UserWarning: The least populated class in y has only 1 members, which is less than n_splits=5.\n",
      "  warnings.warn((\"The least populated class in y has only %d\"\n",
      "Mean MAE: -1.385\n"
     ]
    }
   ],
   "source": [
    "grid_search(params={'gamma':[0, 0.1, 0.5, 1, 2, 5]})"
   ]
  },
  {
   "cell_type": "code",
   "execution_count": 14,
   "metadata": {},
   "outputs": [
    {
     "output_type": "stream",
     "name": "stdout",
     "text": [
      "Fitting 5 folds for each of 5 candidates, totalling 25 fits\n",
      "D:\\miniconda3\\envs\\strive\\lib\\site-packages\\sklearn\\model_selection\\_split.py:666: UserWarning: The least populated class in y has only 1 members, which is less than n_splits=5.\n",
      "  warnings.warn((\"The least populated class in y has only %d\"\n",
      "[CV 1/5; 1/5] START min_child_weight=1..........................................\n",
      "[CV 1/5; 1/5] END ........................min_child_weight=1; total time=  29.7s\n",
      "[CV 2/5; 1/5] START min_child_weight=1..........................................\n",
      "[CV 2/5; 1/5] END ........................min_child_weight=1; total time=  30.1s\n",
      "[CV 3/5; 1/5] START min_child_weight=1..........................................\n",
      "[CV 3/5; 1/5] END ........................min_child_weight=1; total time=  29.9s\n",
      "[CV 4/5; 1/5] START min_child_weight=1..........................................\n",
      "[CV 4/5; 1/5] END ........................min_child_weight=1; total time=  28.8s\n",
      "[CV 5/5; 1/5] START min_child_weight=1..........................................\n",
      "[CV 5/5; 1/5] END ........................min_child_weight=1; total time=  30.2s\n",
      "[CV 1/5; 2/5] START min_child_weight=2..........................................\n",
      "[CV 1/5; 2/5] END ........................min_child_weight=2; total time=  29.8s\n",
      "[CV 2/5; 2/5] START min_child_weight=2..........................................\n",
      "[CV 2/5; 2/5] END ........................min_child_weight=2; total time=  29.2s\n",
      "[CV 3/5; 2/5] START min_child_weight=2..........................................\n",
      "[CV 3/5; 2/5] END ........................min_child_weight=2; total time=  31.4s\n",
      "[CV 4/5; 2/5] START min_child_weight=2..........................................\n",
      "[CV 4/5; 2/5] END ........................min_child_weight=2; total time=  30.2s\n",
      "[CV 5/5; 2/5] START min_child_weight=2..........................................\n",
      "[CV 5/5; 2/5] END ........................min_child_weight=2; total time=  29.1s\n",
      "[CV 1/5; 3/5] START min_child_weight=3..........................................\n",
      "[CV 1/5; 3/5] END ........................min_child_weight=3; total time=  29.3s\n",
      "[CV 2/5; 3/5] START min_child_weight=3..........................................\n",
      "[CV 2/5; 3/5] END ........................min_child_weight=3; total time=  30.2s\n",
      "[CV 3/5; 3/5] START min_child_weight=3..........................................\n",
      "[CV 3/5; 3/5] END ........................min_child_weight=3; total time=  29.8s\n",
      "[CV 4/5; 3/5] START min_child_weight=3..........................................\n",
      "[CV 4/5; 3/5] END ........................min_child_weight=3; total time=  29.6s\n",
      "[CV 5/5; 3/5] START min_child_weight=3..........................................\n",
      "[CV 5/5; 3/5] END ........................min_child_weight=3; total time=  29.6s\n",
      "[CV 1/5; 4/5] START min_child_weight=4..........................................\n",
      "[CV 1/5; 4/5] END ........................min_child_weight=4; total time=  30.3s\n",
      "[CV 2/5; 4/5] START min_child_weight=4..........................................\n",
      "[CV 2/5; 4/5] END ........................min_child_weight=4; total time=  29.9s\n",
      "[CV 3/5; 4/5] START min_child_weight=4..........................................\n",
      "[CV 3/5; 4/5] END ........................min_child_weight=4; total time=  28.8s\n",
      "[CV 4/5; 4/5] START min_child_weight=4..........................................\n",
      "[CV 4/5; 4/5] END ........................min_child_weight=4; total time=  29.8s\n",
      "[CV 5/5; 4/5] START min_child_weight=4..........................................\n",
      "[CV 5/5; 4/5] END ........................min_child_weight=4; total time=  30.8s\n",
      "[CV 1/5; 5/5] START min_child_weight=5..........................................\n",
      "[CV 1/5; 5/5] END ........................min_child_weight=5; total time=  30.6s\n",
      "[CV 2/5; 5/5] START min_child_weight=5..........................................\n",
      "[CV 2/5; 5/5] END ........................min_child_weight=5; total time=  29.8s\n",
      "[CV 3/5; 5/5] START min_child_weight=5..........................................\n",
      "[CV 3/5; 5/5] END ........................min_child_weight=5; total time=  29.9s\n",
      "[CV 4/5; 5/5] START min_child_weight=5..........................................\n",
      "[CV 4/5; 5/5] END ........................min_child_weight=5; total time=  29.9s\n",
      "[CV 5/5; 5/5] START min_child_weight=5..........................................\n",
      "[CV 5/5; 5/5] END ........................min_child_weight=5; total time=  30.4s\n",
      "Best params: {'min_child_weight': 4}\n",
      "Training score: 0.497\n",
      "D:\\miniconda3\\envs\\strive\\lib\\site-packages\\sklearn\\model_selection\\_split.py:666: UserWarning: The least populated class in y has only 1 members, which is less than n_splits=5.\n",
      "  warnings.warn((\"The least populated class in y has only %d\"\n",
      "Accuracy: [0.62 0.46 0.53 0.57 0.55]\n",
      "Acurracy mean: 0.54\n",
      "D:\\miniconda3\\envs\\strive\\lib\\site-packages\\sklearn\\model_selection\\_split.py:666: UserWarning: The least populated class in y has only 1 members, which is less than n_splits=5.\n",
      "  warnings.warn((\"The least populated class in y has only %d\"\n",
      "Mean MAE: -1.385\n"
     ]
    }
   ],
   "source": [
    "grid_search(params={'min_child_weight':[1, 2, 3, 4, 5]})"
   ]
  },
  {
   "cell_type": "code",
   "execution_count": 15,
   "metadata": {},
   "outputs": [
    {
     "output_type": "stream",
     "name": "stdout",
     "text": [
      "Fitting 5 folds for each of 5 candidates, totalling 25 fits\n",
      "D:\\miniconda3\\envs\\strive\\lib\\site-packages\\sklearn\\model_selection\\_split.py:666: UserWarning: The least populated class in y has only 1 members, which is less than n_splits=5.\n",
      "  warnings.warn((\"The least populated class in y has only %d\"\n",
      "[CV 1/5; 1/5] START subsample=0.5...............................................\n",
      "[CV 1/5; 1/5] END .............................subsample=0.5; total time=  29.4s\n",
      "[CV 2/5; 1/5] START subsample=0.5...............................................\n",
      "[CV 2/5; 1/5] END .............................subsample=0.5; total time=  31.7s\n",
      "[CV 3/5; 1/5] START subsample=0.5...............................................\n",
      "[CV 3/5; 1/5] END .............................subsample=0.5; total time=  30.4s\n",
      "[CV 4/5; 1/5] START subsample=0.5...............................................\n",
      "[CV 4/5; 1/5] END .............................subsample=0.5; total time=  31.2s\n",
      "[CV 5/5; 1/5] START subsample=0.5...............................................\n",
      "[CV 5/5; 1/5] END .............................subsample=0.5; total time=  30.8s\n",
      "[CV 1/5; 2/5] START subsample=0.7...............................................\n",
      "[CV 1/5; 2/5] END .............................subsample=0.7; total time=  32.4s\n",
      "[CV 2/5; 2/5] START subsample=0.7...............................................\n",
      "[CV 2/5; 2/5] END .............................subsample=0.7; total time=  30.8s\n",
      "[CV 3/5; 2/5] START subsample=0.7...............................................\n",
      "[CV 3/5; 2/5] END .............................subsample=0.7; total time=  30.8s\n",
      "[CV 4/5; 2/5] START subsample=0.7...............................................\n",
      "[CV 4/5; 2/5] END .............................subsample=0.7; total time=  30.4s\n",
      "[CV 5/5; 2/5] START subsample=0.7...............................................\n",
      "[CV 5/5; 2/5] END .............................subsample=0.7; total time=  32.0s\n",
      "[CV 1/5; 3/5] START subsample=0.8...............................................\n",
      "[CV 1/5; 3/5] END .............................subsample=0.8; total time=  31.2s\n",
      "[CV 2/5; 3/5] START subsample=0.8...............................................\n",
      "[CV 2/5; 3/5] END .............................subsample=0.8; total time=  28.7s\n",
      "[CV 3/5; 3/5] START subsample=0.8...............................................\n",
      "[CV 3/5; 3/5] END .............................subsample=0.8; total time=  33.0s\n",
      "[CV 4/5; 3/5] START subsample=0.8...............................................\n",
      "[CV 4/5; 3/5] END .............................subsample=0.8; total time=  38.6s\n",
      "[CV 5/5; 3/5] START subsample=0.8...............................................\n",
      "[CV 5/5; 3/5] END .............................subsample=0.8; total time=  44.8s\n",
      "[CV 1/5; 4/5] START subsample=0.9...............................................\n",
      "[CV 1/5; 4/5] END .............................subsample=0.9; total time=  38.6s\n",
      "[CV 2/5; 4/5] START subsample=0.9...............................................\n",
      "[CV 2/5; 4/5] END .............................subsample=0.9; total time=  36.0s\n",
      "[CV 3/5; 4/5] START subsample=0.9...............................................\n",
      "[CV 3/5; 4/5] END .............................subsample=0.9; total time=  35.6s\n",
      "[CV 4/5; 4/5] START subsample=0.9...............................................\n",
      "[CV 4/5; 4/5] END .............................subsample=0.9; total time=  31.1s\n",
      "[CV 5/5; 4/5] START subsample=0.9...............................................\n",
      "[CV 5/5; 4/5] END .............................subsample=0.9; total time=  38.2s\n",
      "[CV 1/5; 5/5] START subsample=1.................................................\n",
      "[CV 1/5; 5/5] END ...............................subsample=1; total time=  29.5s\n",
      "[CV 2/5; 5/5] START subsample=1.................................................\n",
      "[CV 2/5; 5/5] END ...............................subsample=1; total time=  29.9s\n",
      "[CV 3/5; 5/5] START subsample=1.................................................\n",
      "[CV 3/5; 5/5] END ...............................subsample=1; total time=  29.4s\n",
      "[CV 4/5; 5/5] START subsample=1.................................................\n",
      "[CV 4/5; 5/5] END ...............................subsample=1; total time=  26.9s\n",
      "[CV 5/5; 5/5] START subsample=1.................................................\n",
      "[CV 5/5; 5/5] END ...............................subsample=1; total time=  26.7s\n",
      "Best params: {'subsample': 1}\n",
      "Training score: 0.471\n",
      "D:\\miniconda3\\envs\\strive\\lib\\site-packages\\sklearn\\model_selection\\_split.py:666: UserWarning: The least populated class in y has only 1 members, which is less than n_splits=5.\n",
      "  warnings.warn((\"The least populated class in y has only %d\"\n",
      "Accuracy: [0.62 0.46 0.53 0.57 0.55]\n",
      "Acurracy mean: 0.54\n",
      "D:\\miniconda3\\envs\\strive\\lib\\site-packages\\sklearn\\model_selection\\_split.py:666: UserWarning: The least populated class in y has only 1 members, which is less than n_splits=5.\n",
      "  warnings.warn((\"The least populated class in y has only %d\"\n",
      "Mean MAE: -1.385\n"
     ]
    }
   ],
   "source": [
    "grid_search(params={'subsample':[0.5, 0.7, 0.8, 0.9, 1]})"
   ]
  },
  {
   "cell_type": "code",
   "execution_count": null,
   "metadata": {},
   "outputs": [],
   "source": [
    "grid_search(params={'colsample_bytree':[0.5, 0.7, 0.8, 0.9, 1]})"
   ]
  },
  {
   "cell_type": "code",
   "execution_count": null,
   "metadata": {},
   "outputs": [],
   "source": [
    "grid_search(params={'n_estimators':[2, 25, 50, 75, 100]})"
   ]
  },
  {
   "cell_type": "code",
   "execution_count": null,
   "metadata": {},
   "outputs": [],
   "source": [
    "grid_search(params={'max_depth':[1, 2, 3, 4, 6, 7, 8], 'n_estimators':[2, 50, 100]})"
   ]
  },
  {
   "cell_type": "code",
   "execution_count": null,
   "metadata": {},
   "outputs": [],
   "source": [
    "grid_search(params={'learning_rate':[0.01, 0.05, 0.1, 0.2, 0.3, 0.4, 0.5], 'max_depth':[6], 'n_estimators':[50]})"
   ]
  },
  {
   "cell_type": "code",
   "execution_count": null,
   "metadata": {},
   "outputs": [],
   "source": [
    "grid_search(params={'min_child_weight':[1, 2, 3, 4, 5], 'max_depth':[2], 'n_estimators':[50]})"
   ]
  },
  {
   "cell_type": "code",
   "execution_count": null,
   "metadata": {},
   "outputs": [],
   "source": [
    "grid_search(params={'subsample':[0.5, 0.6, 0.7, 0.8, 0.9, 1], 'max_depth':[2], 'n_estimators':[50]})"
   ]
  },
  {
   "cell_type": "code",
   "execution_count": null,
   "metadata": {},
   "outputs": [],
   "source": [
    "grid_search(params={'subsample':[0.5, 0.6, 0.7, 0.8, 0.9, 1], \n",
    "                    'min_child_weight':[1, 2, 3, 4, 5], \n",
    "                    'learning_rate':[0.1, 0.2, 0.3, 0.4, 0.5], \n",
    "                    'max_depth':[1, 2, 3, 4, 5, None], \n",
    "                    'n_estimators':[2, 25, 50, 75, 100]},\n",
    "                    random=True)"
   ]
  },
  {
   "cell_type": "code",
   "execution_count": null,
   "metadata": {},
   "outputs": [],
   "source": [
    "grid_search(params={'colsample_bynode':[0.5, 0.6, 0.7, 0.8, 0.9, 1], 'colsample_bylevel':[0.5, 0.6, 0.7, 0.8, 0.9, 1], 'colsample_bytree':[0.5, 0.6, 0.7, 0.8, 0.9, 1], 'max_depth':[2], 'n_estimators':[25,50]})"
   ]
  },
  {
   "cell_type": "code",
   "execution_count": null,
   "metadata": {},
   "outputs": [],
   "source": [
    "grid_search(params={'gamma':[0, 0.01, 0.05, 0.1, 0.5, 1, 2, 3], 'colsample_bylevel':[0.7], 'colsample_bytree':[0.8], 'colsample_bynode':[1], 'max_depth':[2], 'n_estimators':[50]})"
   ]
  },
  {
   "cell_type": "code",
   "execution_count": null,
   "metadata": {},
   "outputs": [],
   "source": [
    "model = XGBRegressor(booster='dart', objective='reg:squarederror', random_state=2, n_estimators=5000)\n",
    "eval_set = [(X_test, y_test)]\n",
    "eval_metric='error'\n",
    "model.fit(X_train, y_train, eval_metric=\"error\", eval_set=eval_set, early_stopping_rounds=500)\n",
    "y_pred = model.predict(X_test)\n",
    "accuracy = accuracy_score(y_test, y_pred)\n",
    "print(\"Accuracy: %.2f%%\" % (accuracy * 100.0))\n",
    "print(model.get_booster().best_iteration)"
   ]
  },
  {
   "cell_type": "markdown",
   "metadata": {},
   "source": [
    "## The two cells are necessary \n",
    "### The first cell prepares the data and after you input the data in your model the y_prediction varaible is saved\n",
    "### The second cell creates the CSV to be submitted "
   ]
  },
  {
   "cell_type": "code",
   "execution_count": null,
   "metadata": {},
   "outputs": [],
   "source": [
    "kfold = StratifiedKFold(n_splits=5, shuffle=True, random_state=2)\n",
    "\n",
    "#the parameters can be built from the testing that goes on below\n",
    "xgb = XGBClassifier(booster='gbtree', objective='binary:logistic', max_depth=2, min_child_weight=3,subsample=0.6, learning_rate=0.2, n_estimators=50, random_state=2, n_jobs=-1,colsample_bylevel = 0.7, colsample_bynode =1, colsample_bytree = 0.8, verbosity=0, gamma=0)\n",
    "\n",
    "\n",
    "xgb.fit(X_train, y_train)\n",
    "y_prediction = xgb.predict(X_test)\n",
    "\n",
    "\n",
    "scores = cross_val_score(xgb, X,y, cv=kfold)\n",
    "print(y_prediction)\n",
    "\n",
    "print('Accuracy:', np.round(scores, 2))\n",
    "print('Acurracy mean: %0.2f' % (scores.mean()))\n",
    "\n",
    "\n"
   ]
  },
  {
   "cell_type": "markdown",
   "metadata": {},
   "source": [
    "### Voting "
   ]
  },
  {
   "cell_type": "code",
   "execution_count": null,
   "metadata": {},
   "outputs": [],
   "source": [
    "from sklearn.ensemble import VotingClassifier\n",
    "\n",
    "\n",
    "estimator = []\n",
    "estimator.append(('lr', LogisticRegression(solver = 'lbfgs', multi_class = 'multinomial', max_iter = 200, random_state=1)))\n",
    "estimator.append (('rf',RandomForestClassifier(random_state=1)))\n",
    "estimator.append(('svc',SVC(kernel='rbf', gamma = 'auto', probability= True)))\n",
    "estimator.append(('kn', KNeighborsClassifier()))\n",
    "estimator.append(('gbc',GradientBoostingClassifier()))\n",
    "estimator.append(('gnb',GaussianNB()))\n",
    "estimator.append(('xg', XGBClassifier(booster='gbtree', objective='binary:logistic', max_depth=2, min_child_weight=3,subsample=0.6, learning_rate=0.2, n_estimators=50, random_state=2, n_jobs=-1,colsample_bylevel = 0.7, colsample_bynode =1, colsample_bytree = 0.8, verbosity=0, gamma=0)))\n",
    "\n",
    "vc_hard = VotingClassifier(estimators=estimator, voting='hard',n_jobs=-1, verbose=True, weights=[1,2,2,2,2,1,3] )\n",
    "vc_hard.fit(X_train,y_train)\n",
    "vc_hard.score(X_test,y_test)\n",
    "print('HARD SCORE')\n",
    "y_prediction = vc_hard.predict(X_test)\n",
    "moreinfo(vc_hard)\n",
    "\n",
    "vc_soft = VotingClassifier(estimators=estimator, voting='soft', n_jobs=-1, verbose=True, weights=[1, 3, 2, 1, 2, 1, 2])\n",
    "vc_soft.fit(X_train,y_train)\n",
    "vc_soft.score(X_test,y_test)\n",
    "print('SOFT SCORE')\n",
    "y_prediction = vc_soft.predict(X_test)\n",
    "moreinfo(vc_soft)\n",
    "\n",
    "\n",
    "\n",
    "\n",
    "\n",
    "\n"
   ]
  },
  {
   "cell_type": "code",
   "execution_count": null,
   "metadata": {},
   "outputs": [],
   "source": [
    "from sklearn.ensemble import VotingClassifier\n",
    "\n",
    "\n",
    "estimator = []\n",
    "estimator.append(('lr', LogisticRegression(solver = 'lbfgs', multi_class = 'multinomial', max_iter = 200, random_state=1)))\n",
    "estimator.append (('rf',RandomForestClassifier(random_state=1)))\n",
    "estimator.append(('svc',SVC(kernel='rbf', gamma = 'auto', probability= True)))\n",
    "estimator.append(('kn', KNeighborsClassifier()))\n",
    "estimator.append(('gbc',GradientBoostingClassifier()))\n",
    "estimator.append(('gnb',GaussianNB()))\n",
    "estimator.append(('xg', XGBClassifier(booster='gbtree', objective='binary:logistic', max_depth=2, min_child_weight=3,subsample=0.6, learning_rate=0.2, n_estimators=50, random_state=2, n_jobs=-1,colsample_bylevel = 0.7, colsample_bynode =1, colsample_bytree = 0.8, verbosity=0, gamma=0)))\n",
    "\n",
    "\n",
    "vc_soft = VotingClassifier(estimators=estimator, voting='soft', n_jobs=-1, verbose=True, weights=[1, 3, 2, 1, 2, 1, 2])\n",
    "vc_soft.fit(X_train,y_train)\n",
    "vc_soft.score(X_test,y_test)\n",
    "print('SOFT SCORE')\n",
    "y_prediction = vc_soft.predict(X_test)\n",
    "moreinfo(vc_soft)\n"
   ]
  },
  {
   "cell_type": "code",
   "execution_count": null,
   "metadata": {},
   "outputs": [],
   "source": [
    "params = {'weights': b_list}\n",
    "kfold = StratifiedKFold(n_splits=8, shuffle=True, random_state=2)\n",
    "rando = RandomizedSearchCV(vc_soft, params, cv=kfold, n_iter=20, n_jobs=-1)\n",
    "rando.fit(X_train, y_train)\n",
    "best_params = rando.best_params_\n",
    "print(\"Best params:\", best_params)\n",
    "best_score = rando.best_score_\n",
    "print(best_score)\n"
   ]
  },
  {
   "cell_type": "code",
   "execution_count": null,
   "metadata": {},
   "outputs": [],
   "source": [
    "params = {'weights': b_list}\n",
    "kfold = StratifiedKFold(n_splits=8, shuffle=True, random_state=2)\n",
    "gs = GridSearchCV(vc_soft, param_grid=params, cv=kfold, n_jobs=-1)\n",
    "gs.fit(X_train, y_train)\n",
    "best_params = gs.best_params_\n",
    "print(\"Best params:\", best_params)\n",
    "best_score = gs.best_score_\n",
    "print(best_score)\n"
   ]
  },
  {
   "cell_type": "code",
   "execution_count": null,
   "metadata": {
    "tags": [
     "outputPrepend"
    ]
   },
   "outputs": [],
   "source": [
    "# build a list \n",
    "\n",
    "\n",
    "b_list = list()\n",
    "for a in range(1,3):\n",
    "    for b in range(1,5):\n",
    "        for c in range(1,4):\n",
    "            for d in range(1,5):\n",
    "                for e in range(1,4):\n",
    "                    for f in range(1,3):\n",
    "                        for g in range(1,6):\n",
    "                            a_list = [a,b,c,d,e,f,g]\n",
    "                            b_list.append(a_list)\n",
    "\n",
    "print(b_list)\n",
    "\n",
    "\n",
    "\n"
   ]
  },
  {
   "cell_type": "markdown",
   "metadata": {},
   "source": [
    "### Stacking"
   ]
  },
  {
   "cell_type": "code",
   "execution_count": null,
   "metadata": {},
   "outputs": [],
   "source": [
    "from numpy import mean\n",
    "from numpy import std\n",
    "from sklearn.datasets import make_classification\n",
    "from sklearn.model_selection import cross_val_score\n",
    "from sklearn.model_selection import RepeatedStratifiedKFold\n",
    "from sklearn.linear_model import LogisticRegression\n",
    "from sklearn.neighbors import KNeighborsClassifier\n",
    "from sklearn.tree import DecisionTreeClassifier\n",
    "from sklearn.svm import SVC\n",
    "from sklearn.naive_bayes import GaussianNB\n",
    "from sklearn.ensemble import StackingClassifier\n",
    "from matplotlib import pyplot\n",
    "from sklearn.datasets import load_wine,load_iris\n",
    "from matplotlib.pyplot import figure\n",
    "figure(num=2, figsize=(16, 12), dpi=80, facecolor='w', edgecolor='k')\n",
    " \n",
    " \n",
    " \n",
    "# get a stacking ensemble of models\n",
    "def get_stacking():\n",
    "\n",
    "  # define the base models\n",
    "  level0 = list()\n",
    "  level0.append(('lr', LogisticRegression()))\n",
    "  level0.append(('knn', KNeighborsClassifier()))\n",
    "#   level0.append(('cart', DecisionTreeClassifier()))\n",
    "  level0.append(('svm', SVC(kernel='rbf')))\n",
    "#   level0.append(('bayes', GaussianNB()))\n",
    "  level0.append(('xgb', XGBClassifier(booster='gbtree', objective='binary:logistic', max_depth=2, min_child_weight=3,subsample=0.6, learning_rate=0.2, n_estimators=50, random_state=2, n_jobs=-1,colsample_bylevel = 0.7, colsample_bynode =1, colsample_bytree = 0.8, verbosity=0, gamma=0)))\n",
    "\n",
    "  # define meta learner model\n",
    "  level1 = SVC()\n",
    "  \n",
    "  # define the stacking ensemble\n",
    "  model = StackingClassifier(estimators=level0, final_estimator=level1, cv=kfold)\n",
    "  return model\n",
    " \n",
    "# get a list of models to evaluate\n",
    "def get_models():\n",
    "  models = dict()\n",
    "  models['LogisticRegression'] = LogisticRegression()\n",
    "  models['KNeighborsClassifier'] = KNeighborsClassifier()\n",
    "#   models['Decision tree'] = DecisionTreeClassifier()\n",
    "  models['svm'] = SVC(kernel='rbf')\n",
    "#   models['GaussianNB'] = GaussianNB()\n",
    "  models['XGBoost'] = XGBClassifier(booster='gbtree', objective='binary:logistic', max_depth=2, min_child_weight=3,subsample=0.6, learning_rate=0.2, n_estimators=50, random_state=2, n_jobs=-1,colsample_bylevel = 0.7, colsample_bynode =1, colsample_bytree = 0.8, verbosity=0, gamma=0)\n",
    "  models['stacking'] = get_stacking()\n",
    "  return models\n",
    " \n",
    "# evaluate a give model using cross-validation\n",
    "def evaluate_model(model):\n",
    "  cv = RepeatedStratifiedKFold(n_splits=10, n_repeats=3, random_state=1)\n",
    "  scores = cross_val_score(model, X_train, y_train, scoring='accuracy', cv=cv, n_jobs=-1, error_score='raise')\n",
    "  return scores\n",
    " \n",
    "# get the models to evaluate\n",
    "models = get_models()\n",
    "\n",
    "\n",
    "# evaluate the models and store results\n",
    "results, names, results1 = list(), list(),list()\n",
    "for name, model in models.items():\n",
    "  scores= evaluate_model(model)\n",
    "  results.append(scores)\n",
    " \n",
    "  names.append(name)\n",
    "  print('>%s -> %.3f (%.3f)---Titanic dataset' % (name, mean(scores), std(scores)))\n",
    "  \n",
    "# plot model performance for comparison\n",
    "pyplot.rcParams[\"figure.figsize\"] = (15,6)\n",
    "pyplot.boxplot(results, labels=[s+\"-Titanic\" for s in names], showmeans=True)\n",
    "pyplot.show()\n"
   ]
  },
  {
   "cell_type": "code",
   "execution_count": null,
   "metadata": {},
   "outputs": [],
   "source": [
    "\n",
    " \n",
    "#base \n",
    "level0 = list()\n",
    "level0.append(('lr', LogisticRegression()))\n",
    "level0.append(('knn', KNeighborsClassifier()))\n",
    "#level0.append(('cart', DecisionTreeClassifier()))\n",
    "level0.append(('svm', SVC(kernel='rbf')))\n",
    "# level0.append(('bayes', GaussianNB()))\n",
    "level0.append(('xgb', XGBClassifier(booster='gbtree', objective='binary:logistic', max_depth=2, min_child_weight=3,subsample=0.6, learning_rate=0.2, n_estimators=50, random_state=2, n_jobs=-1,colsample_bylevel = 0.7, colsample_bynode =1, colsample_bytree = 0.8, verbosity=0, gamma=0)))\n",
    "\n",
    "#second level\n",
    "level1 = SVC()\n",
    "\n",
    "\n",
    "cv = RepeatedStratifiedKFold(n_splits=10, n_repeats=3, random_state=1)\n",
    " \n",
    "model = StackingClassifier(estimators=level0, final_estimator=level1, cv=kfold) \n",
    "model.fit(X_train, y_train)\n",
    "y_prediction = model.predict(X_test)\n",
    "\n",
    "print(y_prediction)\n",
    "\n",
    "print('Accuracy:', np.round(scores, 2))\n",
    "print('Acurracy mean: %0.2f' % (scores.mean()))\n",
    "\n",
    "\n"
   ]
  },
  {
   "cell_type": "code",
   "execution_count": 51,
   "metadata": {},
   "outputs": [
    {
     "name": "stdout",
     "output_type": "stream",
     "text": [
      "time: 174 ms\n"
     ]
    }
   ],
   "source": [
    "\n",
    "from datetime import *\n",
    "from dateutil.parser import parse\n",
    "import numpy as np\n",
    "import pandas as pd\n",
    "\n",
    "#read data\n",
    "data = pd.read_csv('/content/drive/MyDrive/ai-fall20/datasets/predict-future-sales/sales_train.csv',nrows = 1500)\n",
    "tree = pd.read_csv('/content/drive/MyDrive/ai-fall20/datasets/predict-future-sales/items.csv', nrows=1500)\n",
    "test = pd.read_csv('/content/drive/MyDrive/ai-fall20/datasets/predict-future-sales/test.csv', nrows=1500)\n",
    "\n",
    "\n",
    "# Manipulate Train Data\n",
    "from dateutil.parser import parse\n",
    "data.date = data.date.astype('str')\n",
    "data.date = data.date.apply(lambda x: parse(x))\n",
    "data.date = data.date.apply(lambda x: pd.to_datetime(x,\n",
    "    format='%Y-%m-%dT',\n",
    "    errors='coerce'))\n",
    "data['month'] = data.date.dt.month\n",
    "data['year'] = data.date.dt.year\n",
    "data = data.groupby(['item_id','shop_id','date_block_num'], as_index=False).agg({'item_price':'sum', \"item_cnt_day\":'sum','month':'first', 'year':'first'})\n",
    "tree = tree.drop('item_name', axis=1)\n",
    "\n",
    "# summed counts by month, change name \n",
    "data = data.rename(columns={'item_cnt_day':'monthly_sales'})\n",
    "data = data.reset_index()\n",
    "data = data.drop('index', axis=1)\n",
    "\n",
    "\n",
    "# extra features\n",
    "fin_map = {2013:[63.6,1.8,6.5,519.6], 2014:[64.1, 0.7, 11.4, 552.7], 2015:[62.4,-2.5, 12.9, 575.3]}\n",
    "\n",
    "# Gist - SAVE!!! for now the only way I know how to create a dictionary with two columns\n",
    "# to map to a dataframe\n",
    "branch = tree.set_index('item_id').T.to_dict('records')[0]\n",
    "data['categories'] = data['item_id'].map(branch)\n",
    "\n",
    "\n",
    "# Assigning features from finance data\n",
    "data['finance'] = data['year'].map(fin_map)\n",
    "data[['GDP','GDP_change','CPI','avg_basket']] = pd.DataFrame(data.finance.tolist(), index= data.index)\n",
    "test = test.assign(date_block_num = 34 , month = 11, year = 2015)\n",
    "test['categories'] = test['item_id'].map(branch)\n",
    "test = test.assign(GDP = fin_map[2015][0], GDP_change = fin_map[2015][1], CPI = fin_map[2015][2], avg_basket = fin_map[2015][3])\n",
    "test = test.drop('ID', axis=1)\n",
    "data = data.drop('finance', axis=1)\n",
    "\n",
    "#export first csv for visualization\n",
    "data.to_parquet(\"/content/drive/MyDrive/ai-fall20/datasets/predict-future-sales/dfviz.parquet\", engine=\"pyarrow\")\n",
    "\n",
    "\n",
    "#last things to share csv, dropping and rearranging\n",
    "col_rearrange = ['shop_id','item_id','date_block_num','month','year', 'categories', 'GDP','GDP_change','CPI','avg_basket','monthly_sales']\n",
    "data = data[col_rearrange]\n",
    "del col_rearrange[-1]\n",
    "test = test[col_rearrange]\n",
    "\n",
    "\n",
    "#WriteOut \n",
    "data.to_csv(\"/content/drive/MyDrive/ai-fall20/datasets/predict-future-sales/Train_mod.csv\", index=False)\n",
    "test.to_csv(\"/content/drive/MyDrive/ai-fall20/datasets/predict-future-sales/Test_mod.csv\", index=False)\n",
    "data.to_parquet(\"/content/drive/MyDrive/ai-fall20/datasets/predict-future-sales/train_mod.parquet\", engine=\"pyarrow\")\n",
    "test.to_parquet(\"/content/drive/MyDrive/ai-fall20/datasets/predict-future-sales/test_mod.parquet\", engine=\"pyarrow\")"
   ]
  },
  {
   "cell_type": "code",
   "execution_count": null,
   "metadata": {},
   "outputs": [],
   "source": []
  },
  {
   "cell_type": "code",
   "execution_count": 52,
   "metadata": {},
   "outputs": [
    {
     "data": {
      "text/html": [
       "<div>\n",
       "<style scoped>\n",
       "    .dataframe tbody tr th:only-of-type {\n",
       "        vertical-align: middle;\n",
       "    }\n",
       "\n",
       "    .dataframe tbody tr th {\n",
       "        vertical-align: top;\n",
       "    }\n",
       "\n",
       "    .dataframe thead th {\n",
       "        text-align: right;\n",
       "    }\n",
       "</style>\n",
       "<table border=\"1\" class=\"dataframe\">\n",
       "  <thead>\n",
       "    <tr style=\"text-align: right;\">\n",
       "      <th></th>\n",
       "      <th>shop_id</th>\n",
       "      <th>item_id</th>\n",
       "      <th>date_block_num</th>\n",
       "      <th>month</th>\n",
       "      <th>year</th>\n",
       "      <th>categories</th>\n",
       "      <th>GDP</th>\n",
       "      <th>GDP_change</th>\n",
       "      <th>CPI</th>\n",
       "      <th>avg_basket</th>\n",
       "    </tr>\n",
       "  </thead>\n",
       "  <tbody>\n",
       "    <tr>\n",
       "      <th>0</th>\n",
       "      <td>5</td>\n",
       "      <td>5037</td>\n",
       "      <td>34</td>\n",
       "      <td>11</td>\n",
       "      <td>2015</td>\n",
       "      <td>NaN</td>\n",
       "      <td>62.4</td>\n",
       "      <td>-2.5</td>\n",
       "      <td>12.9</td>\n",
       "      <td>575.3</td>\n",
       "    </tr>\n",
       "    <tr>\n",
       "      <th>1</th>\n",
       "      <td>5</td>\n",
       "      <td>5320</td>\n",
       "      <td>34</td>\n",
       "      <td>11</td>\n",
       "      <td>2015</td>\n",
       "      <td>NaN</td>\n",
       "      <td>62.4</td>\n",
       "      <td>-2.5</td>\n",
       "      <td>12.9</td>\n",
       "      <td>575.3</td>\n",
       "    </tr>\n",
       "    <tr>\n",
       "      <th>2</th>\n",
       "      <td>5</td>\n",
       "      <td>5233</td>\n",
       "      <td>34</td>\n",
       "      <td>11</td>\n",
       "      <td>2015</td>\n",
       "      <td>NaN</td>\n",
       "      <td>62.4</td>\n",
       "      <td>-2.5</td>\n",
       "      <td>12.9</td>\n",
       "      <td>575.3</td>\n",
       "    </tr>\n",
       "    <tr>\n",
       "      <th>3</th>\n",
       "      <td>5</td>\n",
       "      <td>5232</td>\n",
       "      <td>34</td>\n",
       "      <td>11</td>\n",
       "      <td>2015</td>\n",
       "      <td>NaN</td>\n",
       "      <td>62.4</td>\n",
       "      <td>-2.5</td>\n",
       "      <td>12.9</td>\n",
       "      <td>575.3</td>\n",
       "    </tr>\n",
       "    <tr>\n",
       "      <th>4</th>\n",
       "      <td>5</td>\n",
       "      <td>5268</td>\n",
       "      <td>34</td>\n",
       "      <td>11</td>\n",
       "      <td>2015</td>\n",
       "      <td>NaN</td>\n",
       "      <td>62.4</td>\n",
       "      <td>-2.5</td>\n",
       "      <td>12.9</td>\n",
       "      <td>575.3</td>\n",
       "    </tr>\n",
       "  </tbody>\n",
       "</table>\n",
       "</div>"
      ],
      "text/plain": [
       "   shop_id  item_id  date_block_num  month  year  categories   GDP  \\\n",
       "0        5     5037              34     11  2015         NaN  62.4   \n",
       "1        5     5320              34     11  2015         NaN  62.4   \n",
       "2        5     5233              34     11  2015         NaN  62.4   \n",
       "3        5     5232              34     11  2015         NaN  62.4   \n",
       "4        5     5268              34     11  2015         NaN  62.4   \n",
       "\n",
       "   GDP_change   CPI  avg_basket  \n",
       "0        -2.5  12.9       575.3  \n",
       "1        -2.5  12.9       575.3  \n",
       "2        -2.5  12.9       575.3  \n",
       "3        -2.5  12.9       575.3  \n",
       "4        -2.5  12.9       575.3  "
      ]
     },
     "execution_count": 52,
     "metadata": {},
     "output_type": "execute_result"
    },
    {
     "name": "stdout",
     "output_type": "stream",
     "text": [
      "time: 10.5 ms\n"
     ]
    }
   ],
   "source": [
    "test.head()"
   ]
  },
  {
   "cell_type": "code",
   "execution_count": 53,
   "metadata": {},
   "outputs": [
    {
     "data": {
      "text/html": [
       "<div>\n",
       "<style scoped>\n",
       "    .dataframe tbody tr th:only-of-type {\n",
       "        vertical-align: middle;\n",
       "    }\n",
       "\n",
       "    .dataframe tbody tr th {\n",
       "        vertical-align: top;\n",
       "    }\n",
       "\n",
       "    .dataframe thead th {\n",
       "        text-align: right;\n",
       "    }\n",
       "</style>\n",
       "<table border=\"1\" class=\"dataframe\">\n",
       "  <thead>\n",
       "    <tr style=\"text-align: right;\">\n",
       "      <th></th>\n",
       "      <th>shop_id</th>\n",
       "      <th>item_id</th>\n",
       "      <th>date_block_num</th>\n",
       "      <th>month</th>\n",
       "      <th>year</th>\n",
       "      <th>categories</th>\n",
       "      <th>GDP</th>\n",
       "      <th>GDP_change</th>\n",
       "      <th>CPI</th>\n",
       "      <th>avg_basket</th>\n",
       "      <th>monthly_sales</th>\n",
       "    </tr>\n",
       "  </thead>\n",
       "  <tbody>\n",
       "    <tr>\n",
       "      <th>0</th>\n",
       "      <td>25</td>\n",
       "      <td>785</td>\n",
       "      <td>0</td>\n",
       "      <td>1</td>\n",
       "      <td>2013</td>\n",
       "      <td>49.0</td>\n",
       "      <td>63.6</td>\n",
       "      <td>1.8</td>\n",
       "      <td>6.5</td>\n",
       "      <td>519.6</td>\n",
       "      <td>3.0</td>\n",
       "    </tr>\n",
       "    <tr>\n",
       "      <th>1</th>\n",
       "      <td>25</td>\n",
       "      <td>791</td>\n",
       "      <td>0</td>\n",
       "      <td>2</td>\n",
       "      <td>2013</td>\n",
       "      <td>73.0</td>\n",
       "      <td>63.6</td>\n",
       "      <td>1.8</td>\n",
       "      <td>6.5</td>\n",
       "      <td>519.6</td>\n",
       "      <td>8.0</td>\n",
       "    </tr>\n",
       "    <tr>\n",
       "      <th>2</th>\n",
       "      <td>25</td>\n",
       "      <td>804</td>\n",
       "      <td>0</td>\n",
       "      <td>1</td>\n",
       "      <td>2013</td>\n",
       "      <td>49.0</td>\n",
       "      <td>63.6</td>\n",
       "      <td>1.8</td>\n",
       "      <td>6.5</td>\n",
       "      <td>519.6</td>\n",
       "      <td>1.0</td>\n",
       "    </tr>\n",
       "    <tr>\n",
       "      <th>3</th>\n",
       "      <td>25</td>\n",
       "      <td>810</td>\n",
       "      <td>0</td>\n",
       "      <td>1</td>\n",
       "      <td>2013</td>\n",
       "      <td>77.0</td>\n",
       "      <td>63.6</td>\n",
       "      <td>1.8</td>\n",
       "      <td>6.5</td>\n",
       "      <td>519.6</td>\n",
       "      <td>1.0</td>\n",
       "    </tr>\n",
       "    <tr>\n",
       "      <th>4</th>\n",
       "      <td>25</td>\n",
       "      <td>829</td>\n",
       "      <td>0</td>\n",
       "      <td>1</td>\n",
       "      <td>2013</td>\n",
       "      <td>73.0</td>\n",
       "      <td>63.6</td>\n",
       "      <td>1.8</td>\n",
       "      <td>6.5</td>\n",
       "      <td>519.6</td>\n",
       "      <td>1.0</td>\n",
       "    </tr>\n",
       "  </tbody>\n",
       "</table>\n",
       "</div>"
      ],
      "text/plain": [
       "   shop_id  item_id  date_block_num  month  year  categories   GDP  \\\n",
       "0       25      785               0      1  2013        49.0  63.6   \n",
       "1       25      791               0      2  2013        73.0  63.6   \n",
       "2       25      804               0      1  2013        49.0  63.6   \n",
       "3       25      810               0      1  2013        77.0  63.6   \n",
       "4       25      829               0      1  2013        73.0  63.6   \n",
       "\n",
       "   GDP_change  CPI  avg_basket  monthly_sales  \n",
       "0         1.8  6.5       519.6            3.0  \n",
       "1         1.8  6.5       519.6            8.0  \n",
       "2         1.8  6.5       519.6            1.0  \n",
       "3         1.8  6.5       519.6            1.0  \n",
       "4         1.8  6.5       519.6            1.0  "
      ]
     },
     "execution_count": 53,
     "metadata": {},
     "output_type": "execute_result"
    },
    {
     "name": "stdout",
     "output_type": "stream",
     "text": [
      "time: 10.7 ms\n"
     ]
    }
   ],
   "source": [
    "data.head()"
   ]
  },
  {
   "cell_type": "code",
   "execution_count": null,
   "metadata": {},
   "outputs": [],
   "source": []
  }
 ],
 "metadata": {
  "deepnote_execution_queue": [],
  "deepnote_notebook_id": "b41fb27e-c104-4769-8675-9630b42702fd",
  "kernelspec": {
   "display_name": "Python 3",
   "language": "python",
   "name": "python3"
  },
  "language_info": {
   "codemirror_mode": {
    "name": "ipython",
    "version": 3
   },
   "file_extension": ".py",
   "mimetype": "text/x-python",
   "name": "python",
   "nbconvert_exporter": "python",
   "pygments_lexer": "ipython3",
   "version": "3.6.12-final"
  }
 },
 "nbformat": 4,
 "nbformat_minor": 2
}