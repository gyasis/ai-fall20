{
 "metadata": {
  "language_info": {
   "codemirror_mode": {
    "name": "ipython",
    "version": 3
   },
   "file_extension": ".py",
   "mimetype": "text/x-python",
   "name": "python",
   "nbconvert_exporter": "python",
   "pygments_lexer": "ipython3",
   "version": "3.8.6-final"
  },
  "orig_nbformat": 2,
  "kernelspec": {
   "name": "python3",
   "display_name": "Python 3",
   "language": "python"
  }
 },
 "nbformat": 4,
 "nbformat_minor": 2,
 "cells": [
  {
   "cell_type": "code",
   "execution_count": 1,
   "metadata": {},
   "outputs": [],
   "source": [
    "import pandas as pd\n",
    "import matplotlib.pyplot as plt\n",
    "plt.style.use('seaborn')\n",
    "plt.rcParams['figure.figsize'] = [12, 6]"
   ]
  },
  {
   "cell_type": "code",
   "execution_count": 8,
   "metadata": {},
   "outputs": [],
   "source": [
    "data = pd.read_csv('ai-fall20/4. Feature Eng/08. Date Enc/3. Exercise/daily-temperatures.csv')"
   ]
  },
  {
   "cell_type": "code",
   "execution_count": 4,
   "metadata": {},
   "outputs": [],
   "source": [
    "from hcrystalball.wrappers import ProphetWrapper"
   ]
  },
  {
   "cell_type": "code",
   "execution_count": 5,
   "metadata": {},
   "outputs": [],
   "source": [
    "from datetime import *\n",
    "from dateutil.parser import parse\n",
    "data.Date = data.Date.apply(lambda x: pd.to_datetime(x,\n",
    "    format='%Y-%m-%dT',\n",
    "    errors='coerce'))"
   ]
  },
  {
   "cell_type": "code",
   "execution_count": 6,
   "metadata": {},
   "outputs": [],
   "source": [
    "df = data\n",
    "\n",
    "df.Date = df.Date.astype('str')\n",
    "df.Date = df.Date.apply(lambda x: parse(x))\n",
    "df.Date = df.Date.apply(lambda x: pd.to_datetime(x,\n",
    "    format='%Y-%m-%dT',\n",
    "    errors='coerce'))\n",
    "df['day'] = df.Date.dt.day\n",
    "df['month'] = df.Date.dt.month\n",
    "df['weekday'] = df.Date.dt.weekday\n",
    "df['year'] = df.Date.dt.year"
   ]
  },
  {
   "cell_type": "code",
   "execution_count": null,
   "metadata": {},
   "outputs": [],
   "source": []
  },
  {
   "cell_type": "code",
   "execution_count": 7,
   "metadata": {},
   "outputs": [
    {
     "output_type": "stream",
     "name": "stdout",
     "text": [
      "        Date  Temp  day  month  weekday  year\n0 1981-01-01  20.7    1      1        3  1981\n1 1981-01-02  17.9    2      1        4  1981\n2 1981-01-03  18.8    3      1        5  1981\n3 1981-01-04  14.6    4      1        6  1981\n4 1981-01-05  15.8    5      1        0  1981\n        Date  Temp  day  month  weekday  year\n0 1981-01-01  20.7    1      1        3  1981\n1 1981-01-02  17.9    2      1        4  1981\n2 1981-01-03  18.8    3      1        5  1981\n3 1981-01-04  14.6    4      1        6  1981\n4 1981-01-05  15.8    5      1        0  1981\n"
     ]
    }
   ],
   "source": [
    "print(data.head())\n",
    "print(df.head())"
   ]
  },
  {
   "cell_type": "code",
   "execution_count": 9,
   "metadata": {},
   "outputs": [
    {
     "output_type": "execute_result",
     "data": {
      "text/plain": [
       "        Date  Temp  day  month  weekday  year\n",
       "0 1981-01-01  20.7    1      1        3  1981\n",
       "1 1981-01-02  17.9    2      1        4  1981\n",
       "2 1981-01-03  18.8    3      1        5  1981\n",
       "3 1981-01-04  14.6    4      1        6  1981\n",
       "4 1981-01-05  15.8    5      1        0  1981"
      ],
      "text/html": "<div>\n<style scoped>\n    .dataframe tbody tr th:only-of-type {\n        vertical-align: middle;\n    }\n\n    .dataframe tbody tr th {\n        vertical-align: top;\n    }\n\n    .dataframe thead th {\n        text-align: right;\n    }\n</style>\n<table border=\"1\" class=\"dataframe\">\n  <thead>\n    <tr style=\"text-align: right;\">\n      <th></th>\n      <th>Date</th>\n      <th>Temp</th>\n      <th>day</th>\n      <th>month</th>\n      <th>weekday</th>\n      <th>year</th>\n    </tr>\n  </thead>\n  <tbody>\n    <tr>\n      <th>0</th>\n      <td>1981-01-01</td>\n      <td>20.7</td>\n      <td>1</td>\n      <td>1</td>\n      <td>3</td>\n      <td>1981</td>\n    </tr>\n    <tr>\n      <th>1</th>\n      <td>1981-01-02</td>\n      <td>17.9</td>\n      <td>2</td>\n      <td>1</td>\n      <td>4</td>\n      <td>1981</td>\n    </tr>\n    <tr>\n      <th>2</th>\n      <td>1981-01-03</td>\n      <td>18.8</td>\n      <td>3</td>\n      <td>1</td>\n      <td>5</td>\n      <td>1981</td>\n    </tr>\n    <tr>\n      <th>3</th>\n      <td>1981-01-04</td>\n      <td>14.6</td>\n      <td>4</td>\n      <td>1</td>\n      <td>6</td>\n      <td>1981</td>\n    </tr>\n    <tr>\n      <th>4</th>\n      <td>1981-01-05</td>\n      <td>15.8</td>\n      <td>5</td>\n      <td>1</td>\n      <td>0</td>\n      <td>1981</td>\n    </tr>\n  </tbody>\n</table>\n</div>"
     },
     "metadata": {},
     "execution_count": 9
    }
   ],
   "source": [
    "df.head()"
   ]
  },
  {
   "cell_type": "code",
   "execution_count": 10,
   "metadata": {},
   "outputs": [
    {
     "output_type": "execute_result",
     "data": {
      "text/plain": [
       "           Date  Temp  day  month  weekday  year\n",
       "0    1981-01-01  20.7    1      1        3  1981\n",
       "1    1981-01-02  17.9    2      1        4  1981\n",
       "2    1981-01-03  18.8    3      1        5  1981\n",
       "3    1981-01-04  14.6    4      1        6  1981\n",
       "4    1981-01-05  15.8    5      1        0  1981\n",
       "...         ...   ...  ...    ...      ...   ...\n",
       "3645 1990-12-27  14.0   27     12        3  1990\n",
       "3646 1990-12-28  13.6   28     12        4  1990\n",
       "3647 1990-12-29  13.5   29     12        5  1990\n",
       "3648 1990-12-30  15.7   30     12        6  1990\n",
       "3649 1990-12-31  13.0   31     12        0  1990\n",
       "\n",
       "[3650 rows x 6 columns]"
      ],
      "text/html": "<div>\n<style scoped>\n    .dataframe tbody tr th:only-of-type {\n        vertical-align: middle;\n    }\n\n    .dataframe tbody tr th {\n        vertical-align: top;\n    }\n\n    .dataframe thead th {\n        text-align: right;\n    }\n</style>\n<table border=\"1\" class=\"dataframe\">\n  <thead>\n    <tr style=\"text-align: right;\">\n      <th></th>\n      <th>Date</th>\n      <th>Temp</th>\n      <th>day</th>\n      <th>month</th>\n      <th>weekday</th>\n      <th>year</th>\n    </tr>\n  </thead>\n  <tbody>\n    <tr>\n      <th>0</th>\n      <td>1981-01-01</td>\n      <td>20.7</td>\n      <td>1</td>\n      <td>1</td>\n      <td>3</td>\n      <td>1981</td>\n    </tr>\n    <tr>\n      <th>1</th>\n      <td>1981-01-02</td>\n      <td>17.9</td>\n      <td>2</td>\n      <td>1</td>\n      <td>4</td>\n      <td>1981</td>\n    </tr>\n    <tr>\n      <th>2</th>\n      <td>1981-01-03</td>\n      <td>18.8</td>\n      <td>3</td>\n      <td>1</td>\n      <td>5</td>\n      <td>1981</td>\n    </tr>\n    <tr>\n      <th>3</th>\n      <td>1981-01-04</td>\n      <td>14.6</td>\n      <td>4</td>\n      <td>1</td>\n      <td>6</td>\n      <td>1981</td>\n    </tr>\n    <tr>\n      <th>4</th>\n      <td>1981-01-05</td>\n      <td>15.8</td>\n      <td>5</td>\n      <td>1</td>\n      <td>0</td>\n      <td>1981</td>\n    </tr>\n    <tr>\n      <th>...</th>\n      <td>...</td>\n      <td>...</td>\n      <td>...</td>\n      <td>...</td>\n      <td>...</td>\n      <td>...</td>\n    </tr>\n    <tr>\n      <th>3645</th>\n      <td>1990-12-27</td>\n      <td>14.0</td>\n      <td>27</td>\n      <td>12</td>\n      <td>3</td>\n      <td>1990</td>\n    </tr>\n    <tr>\n      <th>3646</th>\n      <td>1990-12-28</td>\n      <td>13.6</td>\n      <td>28</td>\n      <td>12</td>\n      <td>4</td>\n      <td>1990</td>\n    </tr>\n    <tr>\n      <th>3647</th>\n      <td>1990-12-29</td>\n      <td>13.5</td>\n      <td>29</td>\n      <td>12</td>\n      <td>5</td>\n      <td>1990</td>\n    </tr>\n    <tr>\n      <th>3648</th>\n      <td>1990-12-30</td>\n      <td>15.7</td>\n      <td>30</td>\n      <td>12</td>\n      <td>6</td>\n      <td>1990</td>\n    </tr>\n    <tr>\n      <th>3649</th>\n      <td>1990-12-31</td>\n      <td>13.0</td>\n      <td>31</td>\n      <td>12</td>\n      <td>0</td>\n      <td>1990</td>\n    </tr>\n  </tbody>\n</table>\n<p>3650 rows × 6 columns</p>\n</div>"
     },
     "metadata": {},
     "execution_count": 10
    }
   ],
   "source": [
    "df"
   ]
  },
  {
   "cell_type": "code",
   "execution_count": null,
   "metadata": {},
   "outputs": [],
   "source": []
  }
 ]
}