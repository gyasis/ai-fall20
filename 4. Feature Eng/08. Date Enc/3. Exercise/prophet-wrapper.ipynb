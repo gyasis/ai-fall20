{
 "metadata": {
  "language_info": {
   "codemirror_mode": {
    "name": "ipython",
    "version": 3
   },
   "file_extension": ".py",
   "mimetype": "text/x-python",
   "name": "python",
   "nbconvert_exporter": "python",
   "pygments_lexer": "ipython3",
   "version": "3.8.6-final"
  },
  "orig_nbformat": 2,
  "kernelspec": {
   "name": "python3",
   "display_name": "Python 3",
   "language": "python"
  }
 },
 "nbformat": 4,
 "nbformat_minor": 2,
 "cells": [
  {
   "cell_type": "code",
   "execution_count": 41,
   "metadata": {},
   "outputs": [],
   "source": [
    "%load_ext autotime\n",
    "import pandas as pd\n",
    "import matplotlib.pyplot as plt\n",
    "from sklearn.model_selection import train_test_split\n",
    "plt.style.use('seaborn')\n",
    "plt.rcParams['figure.figsize'] = [12, 6]"
   ]
  },
  {
   "cell_type": "code",
   "execution_count": 2,
   "metadata": {},
   "outputs": [],
   "source": [
    "data = pd.read_csv('ai-fall20/4. Feature Eng/08. Date Enc/3. Exercise/daily-temperatures.csv')"
   ]
  },
  {
   "cell_type": "code",
   "execution_count": 40,
   "metadata": {},
   "outputs": [],
   "source": [
    "from hcrystalball.wrappers import ProphetWrapper\n",
    "from hcrystalball.metrics import *"
   ]
  },
  {
   "cell_type": "code",
   "execution_count": 4,
   "metadata": {},
   "outputs": [],
   "source": [
    "from datetime import *\n",
    "from dateutil.parser import parse\n",
    "data.Date = data.Date.apply(lambda x: pd.to_datetime(x,\n",
    "    format='%Y-%m-%dT',\n",
    "    errors='coerce'))"
   ]
  },
  {
   "cell_type": "code",
   "execution_count": 5,
   "metadata": {},
   "outputs": [],
   "source": [
    "df = data\n",
    "\n",
    "df.Date = df.Date.astype('str')\n",
    "df.Date = df.Date.apply(lambda x: parse(x))\n",
    "df.Date = df.Date.apply(lambda x: pd.to_datetime(x,\n",
    "    format='%Y-%m-%dT',\n",
    "    errors='coerce'))\n",
    "df['day'] = df.Date.dt.day\n",
    "df['month'] = df.Date.dt.month\n",
    "df['weekday'] = df.Date.dt.weekday\n",
    "df['year'] = df.Date.dt.year"
   ]
  },
  {
   "cell_type": "code",
   "execution_count": 6,
   "metadata": {},
   "outputs": [
    {
     "output_type": "execute_result",
     "data": {
      "text/plain": [
       "        Date  Temp  day  month  weekday  year\n",
       "0 1981-01-01  20.7    1      1        3  1981\n",
       "1 1981-01-02  17.9    2      1        4  1981\n",
       "2 1981-01-03  18.8    3      1        5  1981\n",
       "3 1981-01-04  14.6    4      1        6  1981\n",
       "4 1981-01-05  15.8    5      1        0  1981"
      ],
      "text/html": "<div>\n<style scoped>\n    .dataframe tbody tr th:only-of-type {\n        vertical-align: middle;\n    }\n\n    .dataframe tbody tr th {\n        vertical-align: top;\n    }\n\n    .dataframe thead th {\n        text-align: right;\n    }\n</style>\n<table border=\"1\" class=\"dataframe\">\n  <thead>\n    <tr style=\"text-align: right;\">\n      <th></th>\n      <th>Date</th>\n      <th>Temp</th>\n      <th>day</th>\n      <th>month</th>\n      <th>weekday</th>\n      <th>year</th>\n    </tr>\n  </thead>\n  <tbody>\n    <tr>\n      <th>0</th>\n      <td>1981-01-01</td>\n      <td>20.7</td>\n      <td>1</td>\n      <td>1</td>\n      <td>3</td>\n      <td>1981</td>\n    </tr>\n    <tr>\n      <th>1</th>\n      <td>1981-01-02</td>\n      <td>17.9</td>\n      <td>2</td>\n      <td>1</td>\n      <td>4</td>\n      <td>1981</td>\n    </tr>\n    <tr>\n      <th>2</th>\n      <td>1981-01-03</td>\n      <td>18.8</td>\n      <td>3</td>\n      <td>1</td>\n      <td>5</td>\n      <td>1981</td>\n    </tr>\n    <tr>\n      <th>3</th>\n      <td>1981-01-04</td>\n      <td>14.6</td>\n      <td>4</td>\n      <td>1</td>\n      <td>6</td>\n      <td>1981</td>\n    </tr>\n    <tr>\n      <th>4</th>\n      <td>1981-01-05</td>\n      <td>15.8</td>\n      <td>5</td>\n      <td>1</td>\n      <td>0</td>\n      <td>1981</td>\n    </tr>\n  </tbody>\n</table>\n</div>"
     },
     "metadata": {},
     "execution_count": 6
    }
   ],
   "source": [
    "data.head()"
   ]
  },
  {
   "cell_type": "code",
   "execution_count": 7,
   "metadata": {},
   "outputs": [
    {
     "output_type": "stream",
     "name": "stdout",
     "text": [
      "        Date  Temp  day  month  weekday  year\n0 1981-01-01  20.7    1      1        3  1981\n1 1981-01-02  17.9    2      1        4  1981\n2 1981-01-03  18.8    3      1        5  1981\n3 1981-01-04  14.6    4      1        6  1981\n4 1981-01-05  15.8    5      1        0  1981\n        Date  Temp  day  month  weekday  year\n0 1981-01-01  20.7    1      1        3  1981\n1 1981-01-02  17.9    2      1        4  1981\n2 1981-01-03  18.8    3      1        5  1981\n3 1981-01-04  14.6    4      1        6  1981\n4 1981-01-05  15.8    5      1        0  1981\n"
     ]
    }
   ],
   "source": [
    "print(data.head())\n",
    "print(df.head())"
   ]
  },
  {
   "cell_type": "code",
   "execution_count": 8,
   "metadata": {},
   "outputs": [],
   "source": [
    "df = df.set_index('Date')"
   ]
  },
  {
   "cell_type": "code",
   "execution_count": 9,
   "metadata": {},
   "outputs": [
    {
     "output_type": "execute_result",
     "data": {
      "text/plain": [
       "            Temp  day  month  weekday  year\n",
       "Date                                       \n",
       "1981-01-01  20.7    1      1        3  1981\n",
       "1981-01-02  17.9    2      1        4  1981\n",
       "1981-01-03  18.8    3      1        5  1981\n",
       "1981-01-04  14.6    4      1        6  1981\n",
       "1981-01-05  15.8    5      1        0  1981\n",
       "...          ...  ...    ...      ...   ...\n",
       "1990-12-27  14.0   27     12        3  1990\n",
       "1990-12-28  13.6   28     12        4  1990\n",
       "1990-12-29  13.5   29     12        5  1990\n",
       "1990-12-30  15.7   30     12        6  1990\n",
       "1990-12-31  13.0   31     12        0  1990\n",
       "\n",
       "[3650 rows x 5 columns]"
      ],
      "text/html": "<div>\n<style scoped>\n    .dataframe tbody tr th:only-of-type {\n        vertical-align: middle;\n    }\n\n    .dataframe tbody tr th {\n        vertical-align: top;\n    }\n\n    .dataframe thead th {\n        text-align: right;\n    }\n</style>\n<table border=\"1\" class=\"dataframe\">\n  <thead>\n    <tr style=\"text-align: right;\">\n      <th></th>\n      <th>Temp</th>\n      <th>day</th>\n      <th>month</th>\n      <th>weekday</th>\n      <th>year</th>\n    </tr>\n    <tr>\n      <th>Date</th>\n      <th></th>\n      <th></th>\n      <th></th>\n      <th></th>\n      <th></th>\n    </tr>\n  </thead>\n  <tbody>\n    <tr>\n      <th>1981-01-01</th>\n      <td>20.7</td>\n      <td>1</td>\n      <td>1</td>\n      <td>3</td>\n      <td>1981</td>\n    </tr>\n    <tr>\n      <th>1981-01-02</th>\n      <td>17.9</td>\n      <td>2</td>\n      <td>1</td>\n      <td>4</td>\n      <td>1981</td>\n    </tr>\n    <tr>\n      <th>1981-01-03</th>\n      <td>18.8</td>\n      <td>3</td>\n      <td>1</td>\n      <td>5</td>\n      <td>1981</td>\n    </tr>\n    <tr>\n      <th>1981-01-04</th>\n      <td>14.6</td>\n      <td>4</td>\n      <td>1</td>\n      <td>6</td>\n      <td>1981</td>\n    </tr>\n    <tr>\n      <th>1981-01-05</th>\n      <td>15.8</td>\n      <td>5</td>\n      <td>1</td>\n      <td>0</td>\n      <td>1981</td>\n    </tr>\n    <tr>\n      <th>...</th>\n      <td>...</td>\n      <td>...</td>\n      <td>...</td>\n      <td>...</td>\n      <td>...</td>\n    </tr>\n    <tr>\n      <th>1990-12-27</th>\n      <td>14.0</td>\n      <td>27</td>\n      <td>12</td>\n      <td>3</td>\n      <td>1990</td>\n    </tr>\n    <tr>\n      <th>1990-12-28</th>\n      <td>13.6</td>\n      <td>28</td>\n      <td>12</td>\n      <td>4</td>\n      <td>1990</td>\n    </tr>\n    <tr>\n      <th>1990-12-29</th>\n      <td>13.5</td>\n      <td>29</td>\n      <td>12</td>\n      <td>5</td>\n      <td>1990</td>\n    </tr>\n    <tr>\n      <th>1990-12-30</th>\n      <td>15.7</td>\n      <td>30</td>\n      <td>12</td>\n      <td>6</td>\n      <td>1990</td>\n    </tr>\n    <tr>\n      <th>1990-12-31</th>\n      <td>13.0</td>\n      <td>31</td>\n      <td>12</td>\n      <td>0</td>\n      <td>1990</td>\n    </tr>\n  </tbody>\n</table>\n<p>3650 rows × 5 columns</p>\n</div>"
     },
     "metadata": {},
     "execution_count": 9
    }
   ],
   "source": [
    "df"
   ]
  },
  {
   "cell_type": "code",
   "execution_count": 10,
   "metadata": {},
   "outputs": [],
   "source": [
    "train = data[data[\"year\"] < 1990]\n",
    "test = data[data[\"year\"] == 1990]"
   ]
  },
  {
   "cell_type": "code",
   "execution_count": 11,
   "metadata": {},
   "outputs": [],
   "source": [
    "pw = ProphetWrapper()"
   ]
  },
  {
   "cell_type": "code",
   "execution_count": 23,
   "metadata": {},
   "outputs": [],
   "source": [
    "X = df.drop(columns=['Temp'], axis=1)\n",
    "y = df.Temp\n",
    "X_train, X_test, y_train, y_test = train_test_split(X, y, test_size = 0.20, random_state=0, shuffle=False)"
   ]
  },
  {
   "cell_type": "code",
   "execution_count": 24,
   "metadata": {},
   "outputs": [
    {
     "output_type": "execute_result",
     "data": {
      "text/plain": [
       "            day  month  weekday  year\n",
       "Date                                 \n",
       "1981-01-01    1      1        3  1981\n",
       "1981-01-02    2      1        4  1981\n",
       "1981-01-03    3      1        5  1981\n",
       "1981-01-04    4      1        6  1981\n",
       "1981-01-05    5      1        0  1981"
      ],
      "text/html": "<div>\n<style scoped>\n    .dataframe tbody tr th:only-of-type {\n        vertical-align: middle;\n    }\n\n    .dataframe tbody tr th {\n        vertical-align: top;\n    }\n\n    .dataframe thead th {\n        text-align: right;\n    }\n</style>\n<table border=\"1\" class=\"dataframe\">\n  <thead>\n    <tr style=\"text-align: right;\">\n      <th></th>\n      <th>day</th>\n      <th>month</th>\n      <th>weekday</th>\n      <th>year</th>\n    </tr>\n    <tr>\n      <th>Date</th>\n      <th></th>\n      <th></th>\n      <th></th>\n      <th></th>\n    </tr>\n  </thead>\n  <tbody>\n    <tr>\n      <th>1981-01-01</th>\n      <td>1</td>\n      <td>1</td>\n      <td>3</td>\n      <td>1981</td>\n    </tr>\n    <tr>\n      <th>1981-01-02</th>\n      <td>2</td>\n      <td>1</td>\n      <td>4</td>\n      <td>1981</td>\n    </tr>\n    <tr>\n      <th>1981-01-03</th>\n      <td>3</td>\n      <td>1</td>\n      <td>5</td>\n      <td>1981</td>\n    </tr>\n    <tr>\n      <th>1981-01-04</th>\n      <td>4</td>\n      <td>1</td>\n      <td>6</td>\n      <td>1981</td>\n    </tr>\n    <tr>\n      <th>1981-01-05</th>\n      <td>5</td>\n      <td>1</td>\n      <td>0</td>\n      <td>1981</td>\n    </tr>\n  </tbody>\n</table>\n</div>"
     },
     "metadata": {},
     "execution_count": 24
    }
   ],
   "source": [
    "X_train.head()"
   ]
  },
  {
   "cell_type": "code",
   "execution_count": 25,
   "metadata": {},
   "outputs": [
    {
     "output_type": "execute_result",
     "data": {
      "text/plain": [
       "ProphetWrapper(changepoint_prior_scale=0.05, changepoint_range=0.8,\n",
       "               changepoints=None, clip_predictions_lower=None,\n",
       "               clip_predictions_upper=None, conf_int=False,\n",
       "               daily_seasonality='auto', extra_holidays=None,\n",
       "               extra_regressors=None, extra_seasonalities=None, fit_params=None,\n",
       "               full_prophet_output=False, growth='linear', holidays=None,\n",
       "               holidays_prior_scale=10.0, interval_width=0.8, mcmc_samples=0,\n",
       "               n_changepoints=25, name='prophet', seasonality_mode='additive',\n",
       "               seasonality_prior_scale=10.0, stan_backend=None,\n",
       "               uncertainty_samples=1000, weekly_seasonality='auto',\n",
       "               yearly_seasonality='auto')"
      ]
     },
     "metadata": {},
     "execution_count": 25
    }
   ],
   "source": [
    "pw.fit(X_train, y_train)"
   ]
  },
  {
   "cell_type": "code",
   "execution_count": 32,
   "metadata": {},
   "outputs": [],
   "source": [
    "dataframe = pw.predict(X_test)"
   ]
  },
  {
   "cell_type": "code",
   "execution_count": 33,
   "metadata": {},
   "outputs": [
    {
     "output_type": "execute_result",
     "data": {
      "text/plain": [
       "              prophet\n",
       "Date                 \n",
       "1989-01-01  15.543679\n",
       "1989-01-02  15.845297\n",
       "1989-01-03  15.997142\n",
       "1989-01-04  16.054282\n",
       "1989-01-05  15.936858"
      ],
      "text/html": "<div>\n<style scoped>\n    .dataframe tbody tr th:only-of-type {\n        vertical-align: middle;\n    }\n\n    .dataframe tbody tr th {\n        vertical-align: top;\n    }\n\n    .dataframe thead th {\n        text-align: right;\n    }\n</style>\n<table border=\"1\" class=\"dataframe\">\n  <thead>\n    <tr style=\"text-align: right;\">\n      <th></th>\n      <th>prophet</th>\n    </tr>\n    <tr>\n      <th>Date</th>\n      <th></th>\n    </tr>\n  </thead>\n  <tbody>\n    <tr>\n      <th>1989-01-01</th>\n      <td>15.543679</td>\n    </tr>\n    <tr>\n      <th>1989-01-02</th>\n      <td>15.845297</td>\n    </tr>\n    <tr>\n      <th>1989-01-03</th>\n      <td>15.997142</td>\n    </tr>\n    <tr>\n      <th>1989-01-04</th>\n      <td>16.054282</td>\n    </tr>\n    <tr>\n      <th>1989-01-05</th>\n      <td>15.936858</td>\n    </tr>\n  </tbody>\n</table>\n</div>"
     },
     "metadata": {},
     "execution_count": 33
    }
   ],
   "source": [
    "dataframe.head()"
   ]
  },
  {
   "cell_type": "code",
   "execution_count": 46,
   "metadata": {},
   "outputs": [
    {
     "output_type": "stream",
     "name": "stdout",
     "text": [
      "2.9195356570757043\ntime: 1.63 ms\n"
     ]
    }
   ],
   "source": [
    "from sklearn.metrics import mean_squared_error\n",
    "import math\n",
    "\n",
    "# actual = [0, 1, 2, 0, 3]\n",
    "# predicted = [0.1, 1.3, 2.1, 0.5, 3.1]\n",
    "\n",
    "# mse = sklearn.metrics.mean_squared_error(actual, predicted)\n",
    "\n",
    "# rmse = math.sqrt(mse)\n",
    "\n",
    "mse = mean_squared_error(y_test, dataframe.prophet)\n",
    "print(math.sqrt(mse))"
   ]
  },
  {
   "cell_type": "code",
   "execution_count": 34,
   "metadata": {},
   "outputs": [
    {
     "output_type": "execute_result",
     "data": {
      "text/plain": [
       "        Date  Temp  day  month  weekday  year\n",
       "0 1981-01-01  20.7    1      1        3  1981\n",
       "1 1981-01-02  17.9    2      1        4  1981\n",
       "2 1981-01-03  18.8    3      1        5  1981\n",
       "3 1981-01-04  14.6    4      1        6  1981\n",
       "4 1981-01-05  15.8    5      1        0  1981"
      ],
      "text/html": "<div>\n<style scoped>\n    .dataframe tbody tr th:only-of-type {\n        vertical-align: middle;\n    }\n\n    .dataframe tbody tr th {\n        vertical-align: top;\n    }\n\n    .dataframe thead th {\n        text-align: right;\n    }\n</style>\n<table border=\"1\" class=\"dataframe\">\n  <thead>\n    <tr style=\"text-align: right;\">\n      <th></th>\n      <th>Date</th>\n      <th>Temp</th>\n      <th>day</th>\n      <th>month</th>\n      <th>weekday</th>\n      <th>year</th>\n    </tr>\n  </thead>\n  <tbody>\n    <tr>\n      <th>0</th>\n      <td>1981-01-01</td>\n      <td>20.7</td>\n      <td>1</td>\n      <td>1</td>\n      <td>3</td>\n      <td>1981</td>\n    </tr>\n    <tr>\n      <th>1</th>\n      <td>1981-01-02</td>\n      <td>17.9</td>\n      <td>2</td>\n      <td>1</td>\n      <td>4</td>\n      <td>1981</td>\n    </tr>\n    <tr>\n      <th>2</th>\n      <td>1981-01-03</td>\n      <td>18.8</td>\n      <td>3</td>\n      <td>1</td>\n      <td>5</td>\n      <td>1981</td>\n    </tr>\n    <tr>\n      <th>3</th>\n      <td>1981-01-04</td>\n      <td>14.6</td>\n      <td>4</td>\n      <td>1</td>\n      <td>6</td>\n      <td>1981</td>\n    </tr>\n    <tr>\n      <th>4</th>\n      <td>1981-01-05</td>\n      <td>15.8</td>\n      <td>5</td>\n      <td>1</td>\n      <td>0</td>\n      <td>1981</td>\n    </tr>\n  </tbody>\n</table>\n</div>"
     },
     "metadata": {},
     "execution_count": 34
    }
   ],
   "source": [
    "data.head()"
   ]
  },
  {
   "cell_type": "code",
   "execution_count": 38,
   "metadata": {},
   "outputs": [],
   "source": [
    "X = data.drop(columns=['year'], axis=1)\n",
    "y = data.year"
   ]
  },
  {
   "cell_type": "code",
   "execution_count": 39,
   "metadata": {},
   "outputs": [
    {
     "output_type": "error",
     "ename": "ValueError",
     "evalue": "`X` must contain index of type datetime. Your index is RangeIndex(start=0, stop=3650, step=1)",
     "traceback": [
      "\u001b[0;31m---------------------------------------------------------------------------\u001b[0m",
      "\u001b[0;31mValueError\u001b[0m                                Traceback (most recent call last)",
      "\u001b[0;32m<ipython-input-39-6d6d2b3a1e1f>\u001b[0m in \u001b[0;36m<module>\u001b[0;34m\u001b[0m\n\u001b[0;32m----> 1\u001b[0;31m \u001b[0mpw\u001b[0m\u001b[0;34m.\u001b[0m\u001b[0mfit\u001b[0m\u001b[0;34m(\u001b[0m\u001b[0mX\u001b[0m\u001b[0;34m,\u001b[0m\u001b[0my\u001b[0m\u001b[0;34m)\u001b[0m\u001b[0;34m\u001b[0m\u001b[0;34m\u001b[0m\u001b[0m\n\u001b[0m",
      "\u001b[0;32m~/anaconda3/envs/pycaret/lib/python3.8/site-packages/hcrystalball/utils.py\u001b[0m in \u001b[0;36m_enforce_y_type\u001b[0;34m(self, X, y)\u001b[0m\n\u001b[1;32m    171\u001b[0m         \u001b[0;32mif\u001b[0m \u001b[0misinstance\u001b[0m\u001b[0;34m(\u001b[0m\u001b[0my\u001b[0m\u001b[0;34m,\u001b[0m \u001b[0mpd\u001b[0m\u001b[0;34m.\u001b[0m\u001b[0mSeries\u001b[0m\u001b[0;34m)\u001b[0m\u001b[0;34m:\u001b[0m\u001b[0;34m\u001b[0m\u001b[0;34m\u001b[0m\u001b[0m\n\u001b[1;32m    172\u001b[0m             \u001b[0my\u001b[0m \u001b[0;34m=\u001b[0m \u001b[0my\u001b[0m\u001b[0;34m.\u001b[0m\u001b[0mvalues\u001b[0m\u001b[0;34m\u001b[0m\u001b[0;34m\u001b[0m\u001b[0m\n\u001b[0;32m--> 173\u001b[0;31m         \u001b[0;32mreturn\u001b[0m \u001b[0mfunc\u001b[0m\u001b[0;34m(\u001b[0m\u001b[0mself\u001b[0m\u001b[0;34m,\u001b[0m \u001b[0mX\u001b[0m\u001b[0;34m,\u001b[0m \u001b[0my\u001b[0m\u001b[0;34m)\u001b[0m\u001b[0;34m\u001b[0m\u001b[0;34m\u001b[0m\u001b[0m\n\u001b[0m\u001b[1;32m    174\u001b[0m \u001b[0;34m\u001b[0m\u001b[0m\n\u001b[1;32m    175\u001b[0m     \u001b[0;32mreturn\u001b[0m \u001b[0m_enforce_y_type\u001b[0m\u001b[0;34m\u001b[0m\u001b[0;34m\u001b[0m\u001b[0m\n",
      "\u001b[0;32m~/anaconda3/envs/pycaret/lib/python3.8/site-packages/hcrystalball/utils.py\u001b[0m in \u001b[0;36m_check_X_y\u001b[0;34m(self, X, y)\u001b[0m\n\u001b[1;32m    143\u001b[0m \u001b[0;34m\u001b[0m\u001b[0m\n\u001b[1;32m    144\u001b[0m         \u001b[0;32mif\u001b[0m \u001b[0;32mnot\u001b[0m \u001b[0mpd\u001b[0m\u001b[0;34m.\u001b[0m\u001b[0mapi\u001b[0m\u001b[0;34m.\u001b[0m\u001b[0mtypes\u001b[0m\u001b[0;34m.\u001b[0m\u001b[0mis_datetime64_dtype\u001b[0m\u001b[0;34m(\u001b[0m\u001b[0mX\u001b[0m\u001b[0;34m.\u001b[0m\u001b[0mindex\u001b[0m\u001b[0;34m)\u001b[0m\u001b[0;34m:\u001b[0m\u001b[0;34m\u001b[0m\u001b[0;34m\u001b[0m\u001b[0m\n\u001b[0;32m--> 145\u001b[0;31m             \u001b[0;32mraise\u001b[0m \u001b[0mValueError\u001b[0m\u001b[0;34m(\u001b[0m\u001b[0;34mf\"`X` must contain index of type datetime. Your index is {X.index}\"\u001b[0m\u001b[0;34m)\u001b[0m\u001b[0;34m\u001b[0m\u001b[0;34m\u001b[0m\u001b[0m\n\u001b[0m\u001b[1;32m    146\u001b[0m \u001b[0;34m\u001b[0m\u001b[0m\n\u001b[1;32m    147\u001b[0m         \u001b[0;32mif\u001b[0m \u001b[0my\u001b[0m \u001b[0;32mis\u001b[0m \u001b[0;32mnot\u001b[0m \u001b[0;32mNone\u001b[0m\u001b[0;34m:\u001b[0m\u001b[0;34m\u001b[0m\u001b[0;34m\u001b[0m\u001b[0m\n",
      "\u001b[0;31mValueError\u001b[0m: `X` must contain index of type datetime. Your index is RangeIndex(start=0, stop=3650, step=1)"
     ]
    }
   ],
   "source": [
    "pw.fit(X,y)"
   ]
  }
 ]
}